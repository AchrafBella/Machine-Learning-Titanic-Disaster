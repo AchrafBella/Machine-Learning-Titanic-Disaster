{
 "cells": [
  {
   "cell_type": "markdown",
   "metadata": {},
   "source": [
    "# Titanic challenge"
   ]
  },
  {
   "cell_type": "markdown",
   "metadata": {},
   "source": [
    "This problem is proposed by kaggle competition the main objectif is to predict which passengers survived the Titanic shipwreck."
   ]
  },
  {
   "cell_type": "markdown",
   "metadata": {},
   "source": [
    "The dataset used in this notebook are proposed by kaggle : https://www.kaggle.com/c/titanic"
   ]
  },
  {
   "cell_type": "markdown",
   "metadata": {},
   "source": [
    "Steps\n",
    "Acquiring the data\n",
    "Analysing the data\n",
    "Visualizing the data\n",
    "Completing the data\n",
    "Correcting the data\n",
    "Classifying using a model\n"
   ]
  },
  {
   "cell_type": "code",
   "execution_count": 938,
   "metadata": {},
   "outputs": [],
   "source": [
    "#importing the necessary packages\n",
    "import pandas as pd\n",
    "import numpy as np\n",
    "import seaborn as sns\n",
    "from matplotlib import pyplot as plt\n",
    "from sklearn.preprocessing import LabelEncoder\n",
    "from sklearn import metrics\n",
    "import keras \n",
    "from keras.models import Sequential\n",
    "from keras.layers import Dense, Dropout"
   ]
  },
  {
   "cell_type": "markdown",
   "metadata": {},
   "source": [
    "# Acquire the data"
   ]
  },
  {
   "cell_type": "code",
   "execution_count": 939,
   "metadata": {},
   "outputs": [],
   "source": [
    "#importing the dataset\n",
    "trainning_dataset = pd.read_csv('train.csv')\n",
    "testing_dataset   = pd.read_csv('test.csv')\n",
    "dataset           = trainning_dataset.append(testing_dataset)"
   ]
  },
  {
   "cell_type": "code",
   "execution_count": 940,
   "metadata": {},
   "outputs": [
    {
     "name": "stdout",
     "output_type": "stream",
     "text": [
      " training dataset shape (891, 12)\n",
      " testing dataset shape (891, 12)\n",
      " all dataset shape (1309, 12)\n"
     ]
    }
   ],
   "source": [
    "#dataset shapes\n",
    "print(\" training dataset shape\", trainning_dataset.shape)\n",
    "print(\" testing dataset shape\", trainning_dataset.shape)\n",
    "print(\" all dataset shape\", dataset.shape)"
   ]
  },
  {
   "cell_type": "markdown",
   "metadata": {},
   "source": [
    "# Analysing the data"
   ]
  },
  {
   "cell_type": "code",
   "execution_count": 941,
   "metadata": {},
   "outputs": [
    {
     "data": {
      "text/html": [
       "<div>\n",
       "<style scoped>\n",
       "    .dataframe tbody tr th:only-of-type {\n",
       "        vertical-align: middle;\n",
       "    }\n",
       "\n",
       "    .dataframe tbody tr th {\n",
       "        vertical-align: top;\n",
       "    }\n",
       "\n",
       "    .dataframe thead th {\n",
       "        text-align: right;\n",
       "    }\n",
       "</style>\n",
       "<table border=\"1\" class=\"dataframe\">\n",
       "  <thead>\n",
       "    <tr style=\"text-align: right;\">\n",
       "      <th></th>\n",
       "      <th>PassengerId</th>\n",
       "      <th>Survived</th>\n",
       "      <th>Pclass</th>\n",
       "      <th>Name</th>\n",
       "      <th>Sex</th>\n",
       "      <th>Age</th>\n",
       "      <th>SibSp</th>\n",
       "      <th>Parch</th>\n",
       "      <th>Ticket</th>\n",
       "      <th>Fare</th>\n",
       "      <th>Cabin</th>\n",
       "      <th>Embarked</th>\n",
       "    </tr>\n",
       "  </thead>\n",
       "  <tbody>\n",
       "    <tr>\n",
       "      <th>0</th>\n",
       "      <td>1</td>\n",
       "      <td>0</td>\n",
       "      <td>3</td>\n",
       "      <td>Braund, Mr. Owen Harris</td>\n",
       "      <td>male</td>\n",
       "      <td>22.0</td>\n",
       "      <td>1</td>\n",
       "      <td>0</td>\n",
       "      <td>A/5 21171</td>\n",
       "      <td>7.2500</td>\n",
       "      <td>NaN</td>\n",
       "      <td>S</td>\n",
       "    </tr>\n",
       "    <tr>\n",
       "      <th>1</th>\n",
       "      <td>2</td>\n",
       "      <td>1</td>\n",
       "      <td>1</td>\n",
       "      <td>Cumings, Mrs. John Bradley (Florence Briggs Th...</td>\n",
       "      <td>female</td>\n",
       "      <td>38.0</td>\n",
       "      <td>1</td>\n",
       "      <td>0</td>\n",
       "      <td>PC 17599</td>\n",
       "      <td>71.2833</td>\n",
       "      <td>C85</td>\n",
       "      <td>C</td>\n",
       "    </tr>\n",
       "    <tr>\n",
       "      <th>2</th>\n",
       "      <td>3</td>\n",
       "      <td>1</td>\n",
       "      <td>3</td>\n",
       "      <td>Heikkinen, Miss. Laina</td>\n",
       "      <td>female</td>\n",
       "      <td>26.0</td>\n",
       "      <td>0</td>\n",
       "      <td>0</td>\n",
       "      <td>STON/O2. 3101282</td>\n",
       "      <td>7.9250</td>\n",
       "      <td>NaN</td>\n",
       "      <td>S</td>\n",
       "    </tr>\n",
       "    <tr>\n",
       "      <th>3</th>\n",
       "      <td>4</td>\n",
       "      <td>1</td>\n",
       "      <td>1</td>\n",
       "      <td>Futrelle, Mrs. Jacques Heath (Lily May Peel)</td>\n",
       "      <td>female</td>\n",
       "      <td>35.0</td>\n",
       "      <td>1</td>\n",
       "      <td>0</td>\n",
       "      <td>113803</td>\n",
       "      <td>53.1000</td>\n",
       "      <td>C123</td>\n",
       "      <td>S</td>\n",
       "    </tr>\n",
       "    <tr>\n",
       "      <th>4</th>\n",
       "      <td>5</td>\n",
       "      <td>0</td>\n",
       "      <td>3</td>\n",
       "      <td>Allen, Mr. William Henry</td>\n",
       "      <td>male</td>\n",
       "      <td>35.0</td>\n",
       "      <td>0</td>\n",
       "      <td>0</td>\n",
       "      <td>373450</td>\n",
       "      <td>8.0500</td>\n",
       "      <td>NaN</td>\n",
       "      <td>S</td>\n",
       "    </tr>\n",
       "  </tbody>\n",
       "</table>\n",
       "</div>"
      ],
      "text/plain": [
       "   PassengerId  Survived  Pclass  \\\n",
       "0            1         0       3   \n",
       "1            2         1       1   \n",
       "2            3         1       3   \n",
       "3            4         1       1   \n",
       "4            5         0       3   \n",
       "\n",
       "                                                Name     Sex   Age  SibSp  \\\n",
       "0                            Braund, Mr. Owen Harris    male  22.0      1   \n",
       "1  Cumings, Mrs. John Bradley (Florence Briggs Th...  female  38.0      1   \n",
       "2                             Heikkinen, Miss. Laina  female  26.0      0   \n",
       "3       Futrelle, Mrs. Jacques Heath (Lily May Peel)  female  35.0      1   \n",
       "4                           Allen, Mr. William Henry    male  35.0      0   \n",
       "\n",
       "   Parch            Ticket     Fare Cabin Embarked  \n",
       "0      0         A/5 21171   7.2500   NaN        S  \n",
       "1      0          PC 17599  71.2833   C85        C  \n",
       "2      0  STON/O2. 3101282   7.9250   NaN        S  \n",
       "3      0            113803  53.1000  C123        S  \n",
       "4      0            373450   8.0500   NaN        S  "
      ]
     },
     "execution_count": 941,
     "metadata": {},
     "output_type": "execute_result"
    }
   ],
   "source": [
    "#let's take sight to our dataset\n",
    "trainning_dataset.head()"
   ]
  },
  {
   "cell_type": "code",
   "execution_count": 942,
   "metadata": {},
   "outputs": [
    {
     "data": {
      "text/html": [
       "<div>\n",
       "<style scoped>\n",
       "    .dataframe tbody tr th:only-of-type {\n",
       "        vertical-align: middle;\n",
       "    }\n",
       "\n",
       "    .dataframe tbody tr th {\n",
       "        vertical-align: top;\n",
       "    }\n",
       "\n",
       "    .dataframe thead th {\n",
       "        text-align: right;\n",
       "    }\n",
       "</style>\n",
       "<table border=\"1\" class=\"dataframe\">\n",
       "  <thead>\n",
       "    <tr style=\"text-align: right;\">\n",
       "      <th></th>\n",
       "      <th>PassengerId</th>\n",
       "      <th>Survived</th>\n",
       "      <th>Pclass</th>\n",
       "      <th>Age</th>\n",
       "      <th>SibSp</th>\n",
       "      <th>Parch</th>\n",
       "      <th>Fare</th>\n",
       "    </tr>\n",
       "  </thead>\n",
       "  <tbody>\n",
       "    <tr>\n",
       "      <th>count</th>\n",
       "      <td>1309.000000</td>\n",
       "      <td>891.000000</td>\n",
       "      <td>1309.000000</td>\n",
       "      <td>1046.000000</td>\n",
       "      <td>1309.000000</td>\n",
       "      <td>1309.000000</td>\n",
       "      <td>1308.000000</td>\n",
       "    </tr>\n",
       "    <tr>\n",
       "      <th>mean</th>\n",
       "      <td>655.000000</td>\n",
       "      <td>0.383838</td>\n",
       "      <td>2.294882</td>\n",
       "      <td>29.881138</td>\n",
       "      <td>0.498854</td>\n",
       "      <td>0.385027</td>\n",
       "      <td>33.295479</td>\n",
       "    </tr>\n",
       "    <tr>\n",
       "      <th>std</th>\n",
       "      <td>378.020061</td>\n",
       "      <td>0.486592</td>\n",
       "      <td>0.837836</td>\n",
       "      <td>14.413493</td>\n",
       "      <td>1.041658</td>\n",
       "      <td>0.865560</td>\n",
       "      <td>51.758668</td>\n",
       "    </tr>\n",
       "    <tr>\n",
       "      <th>min</th>\n",
       "      <td>1.000000</td>\n",
       "      <td>0.000000</td>\n",
       "      <td>1.000000</td>\n",
       "      <td>0.170000</td>\n",
       "      <td>0.000000</td>\n",
       "      <td>0.000000</td>\n",
       "      <td>0.000000</td>\n",
       "    </tr>\n",
       "    <tr>\n",
       "      <th>25%</th>\n",
       "      <td>328.000000</td>\n",
       "      <td>0.000000</td>\n",
       "      <td>2.000000</td>\n",
       "      <td>21.000000</td>\n",
       "      <td>0.000000</td>\n",
       "      <td>0.000000</td>\n",
       "      <td>7.895800</td>\n",
       "    </tr>\n",
       "    <tr>\n",
       "      <th>50%</th>\n",
       "      <td>655.000000</td>\n",
       "      <td>0.000000</td>\n",
       "      <td>3.000000</td>\n",
       "      <td>28.000000</td>\n",
       "      <td>0.000000</td>\n",
       "      <td>0.000000</td>\n",
       "      <td>14.454200</td>\n",
       "    </tr>\n",
       "    <tr>\n",
       "      <th>75%</th>\n",
       "      <td>982.000000</td>\n",
       "      <td>1.000000</td>\n",
       "      <td>3.000000</td>\n",
       "      <td>39.000000</td>\n",
       "      <td>1.000000</td>\n",
       "      <td>0.000000</td>\n",
       "      <td>31.275000</td>\n",
       "    </tr>\n",
       "    <tr>\n",
       "      <th>max</th>\n",
       "      <td>1309.000000</td>\n",
       "      <td>1.000000</td>\n",
       "      <td>3.000000</td>\n",
       "      <td>80.000000</td>\n",
       "      <td>8.000000</td>\n",
       "      <td>9.000000</td>\n",
       "      <td>512.329200</td>\n",
       "    </tr>\n",
       "  </tbody>\n",
       "</table>\n",
       "</div>"
      ],
      "text/plain": [
       "       PassengerId    Survived       Pclass          Age        SibSp  \\\n",
       "count  1309.000000  891.000000  1309.000000  1046.000000  1309.000000   \n",
       "mean    655.000000    0.383838     2.294882    29.881138     0.498854   \n",
       "std     378.020061    0.486592     0.837836    14.413493     1.041658   \n",
       "min       1.000000    0.000000     1.000000     0.170000     0.000000   \n",
       "25%     328.000000    0.000000     2.000000    21.000000     0.000000   \n",
       "50%     655.000000    0.000000     3.000000    28.000000     0.000000   \n",
       "75%     982.000000    1.000000     3.000000    39.000000     1.000000   \n",
       "max    1309.000000    1.000000     3.000000    80.000000     8.000000   \n",
       "\n",
       "             Parch         Fare  \n",
       "count  1309.000000  1308.000000  \n",
       "mean      0.385027    33.295479  \n",
       "std       0.865560    51.758668  \n",
       "min       0.000000     0.000000  \n",
       "25%       0.000000     7.895800  \n",
       "50%       0.000000    14.454200  \n",
       "75%       0.000000    31.275000  \n",
       "max       9.000000   512.329200  "
      ]
     },
     "execution_count": 942,
     "metadata": {},
     "output_type": "execute_result"
    }
   ],
   "source": [
    "dataset.describe()"
   ]
  },
  {
   "cell_type": "code",
   "execution_count": 943,
   "metadata": {},
   "outputs": [
    {
     "name": "stdout",
     "output_type": "stream",
     "text": [
      "['PassengerId' 'Survived' 'Pclass' 'Name' 'Sex' 'Age' 'SibSp' 'Parch'\n",
      " 'Ticket' 'Fare' 'Cabin' 'Embarked']\n"
     ]
    }
   ],
   "source": [
    "print(dataset.columns.values)"
   ]
  },
  {
   "cell_type": "code",
   "execution_count": 944,
   "metadata": {},
   "outputs": [],
   "source": [
    "# which features are numerical and categorical\n",
    "categorical_values = list()\n",
    "numerical_values   = list()\n",
    "for elm in dataset:\n",
    "    if dataset[elm].dtype == 'object':\n",
    "        categorical_values.append(elm)\n",
    "    else:\n",
    "        numerical_values.append(elm)\n",
    "        pass\n",
    "    pass\n",
    "pass"
   ]
  },
  {
   "cell_type": "code",
   "execution_count": 945,
   "metadata": {},
   "outputs": [
    {
     "name": "stdout",
     "output_type": "stream",
     "text": [
      "categorical values ['Name', 'Sex', 'Ticket', 'Cabin', 'Embarked']\n",
      "numerical values ['PassengerId', 'Survived', 'Pclass', 'Age', 'SibSp', 'Parch', 'Fare']\n"
     ]
    }
   ],
   "source": [
    "print(\"categorical values\", categorical_values)\n",
    "print(\"numerical values\", numerical_values)"
   ]
  },
  {
   "cell_type": "code",
   "execution_count": 946,
   "metadata": {},
   "outputs": [
    {
     "name": "stdout",
     "output_type": "stream",
     "text": [
      "the element Name  contiens 1307 category\n",
      "the element Sex  contiens 2 category\n",
      "the element Ticket  contiens 929 category\n",
      "the element Cabin  contiens 187 category\n",
      "the element Embarked  contiens 4 category\n"
     ]
    }
   ],
   "source": [
    "for elm in dataset:\n",
    "    if dataset[elm].dtype == 'object':\n",
    "        print(\"the element\",elm,\" contiens\", len(dataset[elm].unique()), \"category\")\n",
    "        pass\n",
    "    pass\n",
    "pass"
   ]
  },
  {
   "cell_type": "markdown",
   "metadata": {},
   "source": [
    "let's take a look at Ticket and Cabin because they contient lot of categories "
   ]
  },
  {
   "cell_type": "code",
   "execution_count": 947,
   "metadata": {},
   "outputs": [
    {
     "data": {
      "text/plain": [
       "array(['A/5 21171', 'PC 17599', 'STON/O2. 3101282', '113803', '373450',\n",
       "       '330877', '17463', '349909', '347742', '237736', 'PP 9549',\n",
       "       '113783', 'A/5. 2151', '347082', '350406', '248706', '382652',\n",
       "       '244373', '345763', '2649', '239865', '248698', '330923', '113788',\n",
       "       '349909', '347077', '2631', '19950', '330959', '349216',\n",
       "       'PC 17601', 'PC 17569', '335677', 'C.A. 24579', 'PC 17604',\n",
       "       '113789', '2677', 'A./5. 2152', '345764', '2651'], dtype=object)"
      ]
     },
     "execution_count": 947,
     "metadata": {},
     "output_type": "execute_result"
    }
   ],
   "source": [
    "dataset['Ticket'][:40].values"
   ]
  },
  {
   "cell_type": "markdown",
   "metadata": {},
   "source": [
    "it's a mixed data type (numerical + categorical)"
   ]
  },
  {
   "cell_type": "code",
   "execution_count": 948,
   "metadata": {},
   "outputs": [
    {
     "name": "stdout",
     "output_type": "stream",
     "text": [
      "549 Deaths\n",
      "342 Alives\n"
     ]
    }
   ],
   "source": [
    "print(dataset['Survived'][dataset['Survived'] == 0].count(), \"Deaths\")\n",
    "print(dataset['Survived'][dataset['Survived'] == 1].count(), \"Alives\")"
   ]
  },
  {
   "cell_type": "code",
   "execution_count": 949,
   "metadata": {},
   "outputs": [
    {
     "data": {
      "text/html": [
       "<div>\n",
       "<style scoped>\n",
       "    .dataframe tbody tr th:only-of-type {\n",
       "        vertical-align: middle;\n",
       "    }\n",
       "\n",
       "    .dataframe tbody tr th {\n",
       "        vertical-align: top;\n",
       "    }\n",
       "\n",
       "    .dataframe thead th {\n",
       "        text-align: right;\n",
       "    }\n",
       "</style>\n",
       "<table border=\"1\" class=\"dataframe\">\n",
       "  <thead>\n",
       "    <tr style=\"text-align: right;\">\n",
       "      <th></th>\n",
       "      <th>PassengerId</th>\n",
       "    </tr>\n",
       "    <tr>\n",
       "      <th>Parch</th>\n",
       "      <th></th>\n",
       "    </tr>\n",
       "  </thead>\n",
       "  <tbody>\n",
       "    <tr>\n",
       "      <th>0</th>\n",
       "      <td>1002</td>\n",
       "    </tr>\n",
       "    <tr>\n",
       "      <th>1</th>\n",
       "      <td>170</td>\n",
       "    </tr>\n",
       "    <tr>\n",
       "      <th>2</th>\n",
       "      <td>113</td>\n",
       "    </tr>\n",
       "    <tr>\n",
       "      <th>3</th>\n",
       "      <td>8</td>\n",
       "    </tr>\n",
       "    <tr>\n",
       "      <th>4</th>\n",
       "      <td>6</td>\n",
       "    </tr>\n",
       "    <tr>\n",
       "      <th>5</th>\n",
       "      <td>6</td>\n",
       "    </tr>\n",
       "    <tr>\n",
       "      <th>6</th>\n",
       "      <td>2</td>\n",
       "    </tr>\n",
       "    <tr>\n",
       "      <th>9</th>\n",
       "      <td>2</td>\n",
       "    </tr>\n",
       "  </tbody>\n",
       "</table>\n",
       "</div>"
      ],
      "text/plain": [
       "       PassengerId\n",
       "Parch             \n",
       "0             1002\n",
       "1              170\n",
       "2              113\n",
       "3                8\n",
       "4                6\n",
       "5                6\n",
       "6                2\n",
       "9                2"
      ]
     },
     "execution_count": 949,
     "metadata": {},
     "output_type": "execute_result"
    }
   ],
   "source": [
    "dataset[[\"Parch\", \"PassengerId\"]].groupby(['Parch']).count()"
   ]
  },
  {
   "cell_type": "code",
   "execution_count": 950,
   "metadata": {},
   "outputs": [
    {
     "data": {
      "text/html": [
       "<div>\n",
       "<style scoped>\n",
       "    .dataframe tbody tr th:only-of-type {\n",
       "        vertical-align: middle;\n",
       "    }\n",
       "\n",
       "    .dataframe tbody tr th {\n",
       "        vertical-align: top;\n",
       "    }\n",
       "\n",
       "    .dataframe thead th {\n",
       "        text-align: right;\n",
       "    }\n",
       "</style>\n",
       "<table border=\"1\" class=\"dataframe\">\n",
       "  <thead>\n",
       "    <tr style=\"text-align: right;\">\n",
       "      <th></th>\n",
       "      <th>PassengerId</th>\n",
       "    </tr>\n",
       "    <tr>\n",
       "      <th>SibSp</th>\n",
       "      <th></th>\n",
       "    </tr>\n",
       "  </thead>\n",
       "  <tbody>\n",
       "    <tr>\n",
       "      <th>0</th>\n",
       "      <td>891</td>\n",
       "    </tr>\n",
       "    <tr>\n",
       "      <th>1</th>\n",
       "      <td>319</td>\n",
       "    </tr>\n",
       "    <tr>\n",
       "      <th>2</th>\n",
       "      <td>42</td>\n",
       "    </tr>\n",
       "    <tr>\n",
       "      <th>3</th>\n",
       "      <td>20</td>\n",
       "    </tr>\n",
       "    <tr>\n",
       "      <th>4</th>\n",
       "      <td>22</td>\n",
       "    </tr>\n",
       "    <tr>\n",
       "      <th>5</th>\n",
       "      <td>6</td>\n",
       "    </tr>\n",
       "    <tr>\n",
       "      <th>8</th>\n",
       "      <td>9</td>\n",
       "    </tr>\n",
       "  </tbody>\n",
       "</table>\n",
       "</div>"
      ],
      "text/plain": [
       "       PassengerId\n",
       "SibSp             \n",
       "0              891\n",
       "1              319\n",
       "2               42\n",
       "3               20\n",
       "4               22\n",
       "5                6\n",
       "8                9"
      ]
     },
     "execution_count": 950,
     "metadata": {},
     "output_type": "execute_result"
    }
   ],
   "source": [
    "dataset[[\"SibSp\", \"PassengerId\"]].groupby(['SibSp']).count()"
   ]
  },
  {
   "cell_type": "markdown",
   "metadata": {},
   "source": [
    "Using groupby on Sibsb & Parch we can know the nombre of passengers with their parents & siblings"
   ]
  },
  {
   "cell_type": "code",
   "execution_count": 951,
   "metadata": {},
   "outputs": [
    {
     "name": "stdout",
     "output_type": "stream",
     "text": [
      "PassengerId  :  0.0 %\n",
      "Survived  :  0.31932773109243695 %\n",
      "Pclass  :  0.0 %\n",
      "Name  :  0.0 %\n",
      "Sex  :  0.0 %\n",
      "Age  :  0.20091673032849502 %\n",
      "SibSp  :  0.0 %\n",
      "Parch  :  0.0 %\n",
      "Ticket  :  0.0 %\n",
      "Fare  :  0.0007639419404125286 %\n",
      "Cabin  :  0.774637127578304 %\n",
      "Embarked  :  0.0015278838808250573 %\n"
     ]
    }
   ],
   "source": [
    "# which features contiens null values\n",
    "for elm in dataset:\n",
    "    print(elm,\" : \",float((dataset[elm].isnull().sum()/1309)),\"%\")\n",
    "    pass\n",
    "pass"
   ]
  },
  {
   "cell_type": "markdown",
   "metadata": {},
   "source": [
    "Survived, Age, Fare, Cabin, Embarked need correction and we could drop the column Cabin because it contiens lot of null values, \n",
    "to avoid the over fitting of the most appeared element it's much better to drop it all"
   ]
  },
  {
   "cell_type": "code",
   "execution_count": 952,
   "metadata": {},
   "outputs": [
    {
     "name": "stdout",
     "output_type": "stream",
     "text": [
      "<class 'pandas.core.frame.DataFrame'>\n",
      "Int64Index: 1309 entries, 0 to 417\n",
      "Data columns (total 12 columns):\n",
      " #   Column       Non-Null Count  Dtype  \n",
      "---  ------       --------------  -----  \n",
      " 0   PassengerId  1309 non-null   int64  \n",
      " 1   Survived     891 non-null    float64\n",
      " 2   Pclass       1309 non-null   int64  \n",
      " 3   Name         1309 non-null   object \n",
      " 4   Sex          1309 non-null   object \n",
      " 5   Age          1046 non-null   float64\n",
      " 6   SibSp        1309 non-null   int64  \n",
      " 7   Parch        1309 non-null   int64  \n",
      " 8   Ticket       1309 non-null   object \n",
      " 9   Fare         1308 non-null   float64\n",
      " 10  Cabin        295 non-null    object \n",
      " 11  Embarked     1307 non-null   object \n",
      "dtypes: float64(3), int64(4), object(5)\n",
      "memory usage: 132.9+ KB\n"
     ]
    }
   ],
   "source": [
    "dataset.info()"
   ]
  },
  {
   "cell_type": "markdown",
   "metadata": {},
   "source": [
    "# Visualization of our data "
   ]
  },
  {
   "cell_type": "code",
   "execution_count": 953,
   "metadata": {
    "scrolled": true
   },
   "outputs": [
    {
     "data": {
      "text/plain": [
       "Text(0.5, 1.0, 'Sublim/spouses vs Survived')"
      ]
     },
     "execution_count": 953,
     "metadata": {},
     "output_type": "execute_result"
    },
    {
     "data": {
      "image/png": "[encoded data removed]",
      "text/plain": [
       "<Figure size 432x432 with 1 Axes>"
      ]
     },
     "metadata": {
      "needs_background": "light"
     },
     "output_type": "display_data"
    },
    {
     "data": {
      "image/png": "[encoded data removed]",
      "text/plain": [
       "<Figure size 432x432 with 1 Axes>"
      ]
     },
     "metadata": {
      "needs_background": "light"
     },
     "output_type": "display_data"
    },
    {
     "data": {
      "image/png": "[encoded data removed]",
      "text/plain": [
       "<Figure size 432x432 with 1 Axes>"
      ]
     },
     "metadata": {
      "needs_background": "light"
     },
     "output_type": "display_data"
    }
   ],
   "source": [
    "#let take a look to our data using matplotlib and seaborn\n",
    "plt.figure(figsize=(6,6))\n",
    "sns.barplot(x = dataset['Sex'], y = dataset['Survived'])\n",
    "plt.title('Sex vs Survived')\n",
    "\n",
    "plt.figure(figsize=(6,6))\n",
    "sns.barplot(x = dataset['Pclass'], y = dataset['Survived'])\n",
    "plt.title('Class vs Survived')\n",
    "\n",
    "plt.figure(figsize=(6,6))\n",
    "sns.barplot(x = dataset['SibSp'], y = dataset['Survived'])\n",
    "plt.title('Sublim/spouses vs Survived')"
   ]
  },
  {
   "cell_type": "code",
   "execution_count": 954,
   "metadata": {},
   "outputs": [
    {
     "data": {
      "text/plain": [
       "Text(0.5, 1.0, 'Sex vs Survived')"
      ]
     },
     "execution_count": 954,
     "metadata": {},
     "output_type": "execute_result"
    },
    {
     "data": {
      "image/png": "[encoded data removed]",
      "text/plain": [
       "<Figure size 720x720 with 1 Axes>"
      ]
     },
     "metadata": {
      "needs_background": "light"
     },
     "output_type": "display_data"
    }
   ],
   "source": [
    "bins=[0,5,12,18,30,60,np.inf]\n",
    "labels=['Baby','Child','Teenager','Adult(young)','Middle age','Old age']\n",
    "dataset['AgeGroup'] = pd.cut(dataset[\"Age\"], bins, labels = labels)\n",
    "\n",
    "plt.figure(figsize=(10,10))\n",
    "sns.barplot(x = dataset['AgeGroup'] , y = dataset['Survived'])\n",
    "plt.title('Sex vs Survived')"
   ]
  },
  {
   "cell_type": "markdown",
   "metadata": {},
   "source": [
    "# Correlation between the columns"
   ]
  },
  {
   "cell_type": "code",
   "execution_count": 955,
   "metadata": {},
   "outputs": [
    {
     "data": {
      "text/plain": [
       "<seaborn.axisgrid.FacetGrid at 0x21602f41730>"
      ]
     },
     "execution_count": 955,
     "metadata": {},
     "output_type": "execute_result"
    },
    {
     "data": {
      "image/png": "[encoded data removed]",
      "text/plain": [
       "<Figure size 432x216 with 2 Axes>"
      ]
     },
     "metadata": {
      "needs_background": "light"
     },
     "output_type": "display_data"
    }
   ],
   "source": [
    "g = sns.FacetGrid(dataset, col='Survived')\n",
    "g.map(plt.hist, 'Age', bins=20)"
   ]
  },
  {
   "cell_type": "markdown",
   "metadata": {},
   "source": [
    "we can understand that lot of people in the middle age (between 20 and 50) they pass away"
   ]
  },
  {
   "cell_type": "code",
   "execution_count": 956,
   "metadata": {},
   "outputs": [
    {
     "name": "stderr",
     "output_type": "stream",
     "text": [
      "C:\\Users\\Supernova\\anaconda3\\lib\\site-packages\\seaborn\\axisgrid.py:243: UserWarning: The `size` parameter has been renamed to `height`; please update your code.\n",
      "  warnings.warn(msg, UserWarning)\n"
     ]
    },
    {
     "data": {
      "image/png": "[encoded data removed]",
      "text/plain": [
       "<Figure size 514.88x475.2 with 6 Axes>"
      ]
     },
     "metadata": {
      "needs_background": "light"
     },
     "output_type": "display_data"
    }
   ],
   "source": [
    "grid = sns.FacetGrid(dataset, col='Survived', row='Pclass', size=2.2, aspect=1.6)\n",
    "grid.map(plt.hist, 'Age', alpha=.5, bins=20)\n",
    "grid.add_legend();"
   ]
  },
  {
   "cell_type": "markdown",
   "metadata": {},
   "source": [
    "lot of people in class == 3 between the age 20 and 50 are deaths"
   ]
  },
  {
   "cell_type": "code",
   "execution_count": 957,
   "metadata": {},
   "outputs": [
    {
     "data": {
      "image/png": "[encoded data removed]",
      "text/plain": [
       "<Figure size 514.88x316.8 with 4 Axes>"
      ]
     },
     "metadata": {
      "needs_background": "light"
     },
     "output_type": "display_data"
    }
   ],
   "source": [
    "grid = sns.FacetGrid(dataset, col='Survived', row='Sex', size=2.2, aspect=1.6)\n",
    "grid.map(plt.hist, 'Age', alpha=.5, bins=20)\n",
    "grid.add_legend();"
   ]
  },
  {
   "cell_type": "markdown",
   "metadata": {},
   "source": [
    "most of people are men"
   ]
  },
  {
   "cell_type": "code",
   "execution_count": 958,
   "metadata": {},
   "outputs": [
    {
     "name": "stderr",
     "output_type": "stream",
     "text": [
      "C:\\Users\\Supernova\\anaconda3\\lib\\site-packages\\seaborn\\axisgrid.py:723: UserWarning: Using the pointplot function without specifying `order` is likely to produce an incorrect plot.\n",
      "  warnings.warn(warning)\n",
      "C:\\Users\\Supernova\\anaconda3\\lib\\site-packages\\seaborn\\axisgrid.py:728: UserWarning: Using the pointplot function without specifying `hue_order` is likely to produce an incorrect plot.\n",
      "  warnings.warn(warning)\n"
     ]
    },
    {
     "data": {
      "text/plain": [
       "<seaborn.axisgrid.FacetGrid at 0x2160c5b2d30>"
      ]
     },
     "execution_count": 958,
     "metadata": {},
     "output_type": "execute_result"
    },
    {
     "data": {
      "image/png": "[encoded data removed]",
      "text/plain": [
       "<Figure size 323.94x475.2 with 3 Axes>"
      ]
     },
     "metadata": {
      "needs_background": "light"
     },
     "output_type": "display_data"
    }
   ],
   "source": [
    "grid = sns.FacetGrid(dataset, row='Embarked', size=2.2, aspect=1.6)\n",
    "grid.map(sns.pointplot, 'Pclass', 'Survived', 'Sex', palette='deep')\n",
    "grid.add_legend()"
   ]
  },
  {
   "cell_type": "markdown",
   "metadata": {},
   "source": [
    "Groupby method will allows us to know the percent of people stay alive per Pclass, Sex, Parch and sib sp"
   ]
  },
  {
   "cell_type": "code",
   "execution_count": 959,
   "metadata": {},
   "outputs": [
    {
     "data": {
      "text/html": [
       "<div>\n",
       "<style scoped>\n",
       "    .dataframe tbody tr th:only-of-type {\n",
       "        vertical-align: middle;\n",
       "    }\n",
       "\n",
       "    .dataframe tbody tr th {\n",
       "        vertical-align: top;\n",
       "    }\n",
       "\n",
       "    .dataframe thead th {\n",
       "        text-align: right;\n",
       "    }\n",
       "</style>\n",
       "<table border=\"1\" class=\"dataframe\">\n",
       "  <thead>\n",
       "    <tr style=\"text-align: right;\">\n",
       "      <th></th>\n",
       "      <th>PassengerId</th>\n",
       "      <th>Pclass</th>\n",
       "      <th>Age</th>\n",
       "      <th>SibSp</th>\n",
       "      <th>Parch</th>\n",
       "      <th>Fare</th>\n",
       "    </tr>\n",
       "    <tr>\n",
       "      <th>Survived</th>\n",
       "      <th></th>\n",
       "      <th></th>\n",
       "      <th></th>\n",
       "      <th></th>\n",
       "      <th></th>\n",
       "      <th></th>\n",
       "    </tr>\n",
       "  </thead>\n",
       "  <tbody>\n",
       "    <tr>\n",
       "      <th>0.0</th>\n",
       "      <td>447.016393</td>\n",
       "      <td>2.531876</td>\n",
       "      <td>30.626179</td>\n",
       "      <td>0.553734</td>\n",
       "      <td>0.329690</td>\n",
       "      <td>22.117887</td>\n",
       "    </tr>\n",
       "    <tr>\n",
       "      <th>1.0</th>\n",
       "      <td>444.368421</td>\n",
       "      <td>1.950292</td>\n",
       "      <td>28.343690</td>\n",
       "      <td>0.473684</td>\n",
       "      <td>0.464912</td>\n",
       "      <td>48.395408</td>\n",
       "    </tr>\n",
       "  </tbody>\n",
       "</table>\n",
       "</div>"
      ],
      "text/plain": [
       "          PassengerId    Pclass        Age     SibSp     Parch       Fare\n",
       "Survived                                                                 \n",
       "0.0        447.016393  2.531876  30.626179  0.553734  0.329690  22.117887\n",
       "1.0        444.368421  1.950292  28.343690  0.473684  0.464912  48.395408"
      ]
     },
     "execution_count": 959,
     "metadata": {},
     "output_type": "execute_result"
    }
   ],
   "source": [
    "dataset.groupby(['Survived']).mean()"
   ]
  },
  {
   "cell_type": "code",
   "execution_count": 960,
   "metadata": {},
   "outputs": [
    {
     "data": {
      "text/html": [
       "<div>\n",
       "<style scoped>\n",
       "    .dataframe tbody tr th:only-of-type {\n",
       "        vertical-align: middle;\n",
       "    }\n",
       "\n",
       "    .dataframe tbody tr th {\n",
       "        vertical-align: top;\n",
       "    }\n",
       "\n",
       "    .dataframe thead th {\n",
       "        text-align: right;\n",
       "    }\n",
       "</style>\n",
       "<table border=\"1\" class=\"dataframe\">\n",
       "  <thead>\n",
       "    <tr style=\"text-align: right;\">\n",
       "      <th></th>\n",
       "      <th>Pclass</th>\n",
       "      <th>Survived</th>\n",
       "    </tr>\n",
       "  </thead>\n",
       "  <tbody>\n",
       "    <tr>\n",
       "      <th>0</th>\n",
       "      <td>1</td>\n",
       "      <td>0.629630</td>\n",
       "    </tr>\n",
       "    <tr>\n",
       "      <th>1</th>\n",
       "      <td>2</td>\n",
       "      <td>0.472826</td>\n",
       "    </tr>\n",
       "    <tr>\n",
       "      <th>2</th>\n",
       "      <td>3</td>\n",
       "      <td>0.242363</td>\n",
       "    </tr>\n",
       "  </tbody>\n",
       "</table>\n",
       "</div>"
      ],
      "text/plain": [
       "   Pclass  Survived\n",
       "0       1  0.629630\n",
       "1       2  0.472826\n",
       "2       3  0.242363"
      ]
     },
     "execution_count": 960,
     "metadata": {},
     "output_type": "execute_result"
    }
   ],
   "source": [
    "dataset[['Pclass', 'Survived']].groupby(['Pclass'], as_index=False).mean().sort_values(by='Survived', ascending=False)"
   ]
  },
  {
   "cell_type": "code",
   "execution_count": 961,
   "metadata": {},
   "outputs": [
    {
     "data": {
      "text/html": [
       "<div>\n",
       "<style scoped>\n",
       "    .dataframe tbody tr th:only-of-type {\n",
       "        vertical-align: middle;\n",
       "    }\n",
       "\n",
       "    .dataframe tbody tr th {\n",
       "        vertical-align: top;\n",
       "    }\n",
       "\n",
       "    .dataframe thead th {\n",
       "        text-align: right;\n",
       "    }\n",
       "</style>\n",
       "<table border=\"1\" class=\"dataframe\">\n",
       "  <thead>\n",
       "    <tr style=\"text-align: right;\">\n",
       "      <th></th>\n",
       "      <th>Sex</th>\n",
       "      <th>Survived</th>\n",
       "    </tr>\n",
       "  </thead>\n",
       "  <tbody>\n",
       "    <tr>\n",
       "      <th>0</th>\n",
       "      <td>female</td>\n",
       "      <td>0.742038</td>\n",
       "    </tr>\n",
       "    <tr>\n",
       "      <th>1</th>\n",
       "      <td>male</td>\n",
       "      <td>0.188908</td>\n",
       "    </tr>\n",
       "  </tbody>\n",
       "</table>\n",
       "</div>"
      ],
      "text/plain": [
       "      Sex  Survived\n",
       "0  female  0.742038\n",
       "1    male  0.188908"
      ]
     },
     "execution_count": 961,
     "metadata": {},
     "output_type": "execute_result"
    }
   ],
   "source": [
    "dataset[[\"Sex\", \"Survived\"]].groupby(['Sex'], as_index=False).mean().sort_values(by='Survived', ascending=False)"
   ]
  },
  {
   "cell_type": "code",
   "execution_count": 962,
   "metadata": {},
   "outputs": [
    {
     "data": {
      "text/html": [
       "<div>\n",
       "<style scoped>\n",
       "    .dataframe tbody tr th:only-of-type {\n",
       "        vertical-align: middle;\n",
       "    }\n",
       "\n",
       "    .dataframe tbody tr th {\n",
       "        vertical-align: top;\n",
       "    }\n",
       "\n",
       "    .dataframe thead th {\n",
       "        text-align: right;\n",
       "    }\n",
       "</style>\n",
       "<table border=\"1\" class=\"dataframe\">\n",
       "  <thead>\n",
       "    <tr style=\"text-align: right;\">\n",
       "      <th></th>\n",
       "      <th>Parch</th>\n",
       "      <th>Survived</th>\n",
       "    </tr>\n",
       "  </thead>\n",
       "  <tbody>\n",
       "    <tr>\n",
       "      <th>3</th>\n",
       "      <td>3</td>\n",
       "      <td>0.600000</td>\n",
       "    </tr>\n",
       "    <tr>\n",
       "      <th>1</th>\n",
       "      <td>1</td>\n",
       "      <td>0.550847</td>\n",
       "    </tr>\n",
       "    <tr>\n",
       "      <th>2</th>\n",
       "      <td>2</td>\n",
       "      <td>0.500000</td>\n",
       "    </tr>\n",
       "    <tr>\n",
       "      <th>0</th>\n",
       "      <td>0</td>\n",
       "      <td>0.343658</td>\n",
       "    </tr>\n",
       "    <tr>\n",
       "      <th>5</th>\n",
       "      <td>5</td>\n",
       "      <td>0.200000</td>\n",
       "    </tr>\n",
       "    <tr>\n",
       "      <th>4</th>\n",
       "      <td>4</td>\n",
       "      <td>0.000000</td>\n",
       "    </tr>\n",
       "    <tr>\n",
       "      <th>6</th>\n",
       "      <td>6</td>\n",
       "      <td>0.000000</td>\n",
       "    </tr>\n",
       "    <tr>\n",
       "      <th>7</th>\n",
       "      <td>9</td>\n",
       "      <td>NaN</td>\n",
       "    </tr>\n",
       "  </tbody>\n",
       "</table>\n",
       "</div>"
      ],
      "text/plain": [
       "   Parch  Survived\n",
       "3      3  0.600000\n",
       "1      1  0.550847\n",
       "2      2  0.500000\n",
       "0      0  0.343658\n",
       "5      5  0.200000\n",
       "4      4  0.000000\n",
       "6      6  0.000000\n",
       "7      9       NaN"
      ]
     },
     "execution_count": 962,
     "metadata": {},
     "output_type": "execute_result"
    }
   ],
   "source": [
    "dataset[[\"Parch\", \"Survived\"]].groupby(['Parch'], as_index=False).mean().sort_values(by='Survived', ascending=False)"
   ]
  },
  {
   "cell_type": "code",
   "execution_count": 963,
   "metadata": {},
   "outputs": [
    {
     "data": {
      "text/html": [
       "<div>\n",
       "<style scoped>\n",
       "    .dataframe tbody tr th:only-of-type {\n",
       "        vertical-align: middle;\n",
       "    }\n",
       "\n",
       "    .dataframe tbody tr th {\n",
       "        vertical-align: top;\n",
       "    }\n",
       "\n",
       "    .dataframe thead th {\n",
       "        text-align: right;\n",
       "    }\n",
       "</style>\n",
       "<table border=\"1\" class=\"dataframe\">\n",
       "  <thead>\n",
       "    <tr style=\"text-align: right;\">\n",
       "      <th></th>\n",
       "      <th>SibSp</th>\n",
       "      <th>Survived</th>\n",
       "    </tr>\n",
       "  </thead>\n",
       "  <tbody>\n",
       "    <tr>\n",
       "      <th>1</th>\n",
       "      <td>1</td>\n",
       "      <td>0.535885</td>\n",
       "    </tr>\n",
       "    <tr>\n",
       "      <th>2</th>\n",
       "      <td>2</td>\n",
       "      <td>0.464286</td>\n",
       "    </tr>\n",
       "    <tr>\n",
       "      <th>0</th>\n",
       "      <td>0</td>\n",
       "      <td>0.345395</td>\n",
       "    </tr>\n",
       "    <tr>\n",
       "      <th>3</th>\n",
       "      <td>3</td>\n",
       "      <td>0.250000</td>\n",
       "    </tr>\n",
       "    <tr>\n",
       "      <th>4</th>\n",
       "      <td>4</td>\n",
       "      <td>0.166667</td>\n",
       "    </tr>\n",
       "    <tr>\n",
       "      <th>5</th>\n",
       "      <td>5</td>\n",
       "      <td>0.000000</td>\n",
       "    </tr>\n",
       "    <tr>\n",
       "      <th>6</th>\n",
       "      <td>8</td>\n",
       "      <td>0.000000</td>\n",
       "    </tr>\n",
       "  </tbody>\n",
       "</table>\n",
       "</div>"
      ],
      "text/plain": [
       "   SibSp  Survived\n",
       "1      1  0.535885\n",
       "2      2  0.464286\n",
       "0      0  0.345395\n",
       "3      3  0.250000\n",
       "4      4  0.166667\n",
       "5      5  0.000000\n",
       "6      8  0.000000"
      ]
     },
     "execution_count": 963,
     "metadata": {},
     "output_type": "execute_result"
    }
   ],
   "source": [
    "dataset[[\"SibSp\", \"Survived\"]].groupby(['SibSp'], as_index=False).mean().sort_values(by='Survived', ascending=False)"
   ]
  },
  {
   "cell_type": "markdown",
   "metadata": {},
   "source": [
    "# Correction of the data"
   ]
  },
  {
   "cell_type": "code",
   "execution_count": 964,
   "metadata": {},
   "outputs": [],
   "source": [
    "#to correct our data we should drop Cabin because it contiens lot of null values also ticket because it contiens lot of duplication\n",
    "trainning_dataset = trainning_dataset.drop(['PassengerId', 'Ticket', 'Cabin'], axis = 1)\n",
    "testing_dataset   = testing_dataset.drop(['PassengerId', 'Ticket', 'Cabin'], axis = 1)"
   ]
  },
  {
   "cell_type": "code",
   "execution_count": 965,
   "metadata": {},
   "outputs": [],
   "source": [
    "for dataset in [trainning_dataset, testing_dataset]:\n",
    "    dataset['Title'] = dataset.Name.str.extract(' ([A-Za-z]+)\\.', expand=False)\n",
    "    pass\n",
    "pass"
   ]
  },
  {
   "cell_type": "code",
   "execution_count": 966,
   "metadata": {},
   "outputs": [
    {
     "data": {
      "text/html": [
       "<div>\n",
       "<style scoped>\n",
       "    .dataframe tbody tr th:only-of-type {\n",
       "        vertical-align: middle;\n",
       "    }\n",
       "\n",
       "    .dataframe tbody tr th {\n",
       "        vertical-align: top;\n",
       "    }\n",
       "\n",
       "    .dataframe thead th {\n",
       "        text-align: right;\n",
       "    }\n",
       "</style>\n",
       "<table border=\"1\" class=\"dataframe\">\n",
       "  <thead>\n",
       "    <tr style=\"text-align: right;\">\n",
       "      <th>Sex</th>\n",
       "      <th>female</th>\n",
       "      <th>male</th>\n",
       "    </tr>\n",
       "    <tr>\n",
       "      <th>Title</th>\n",
       "      <th></th>\n",
       "      <th></th>\n",
       "    </tr>\n",
       "  </thead>\n",
       "  <tbody>\n",
       "    <tr>\n",
       "      <th>Capt</th>\n",
       "      <td>0</td>\n",
       "      <td>1</td>\n",
       "    </tr>\n",
       "    <tr>\n",
       "      <th>Col</th>\n",
       "      <td>0</td>\n",
       "      <td>2</td>\n",
       "    </tr>\n",
       "    <tr>\n",
       "      <th>Countess</th>\n",
       "      <td>1</td>\n",
       "      <td>0</td>\n",
       "    </tr>\n",
       "    <tr>\n",
       "      <th>Don</th>\n",
       "      <td>0</td>\n",
       "      <td>1</td>\n",
       "    </tr>\n",
       "    <tr>\n",
       "      <th>Dr</th>\n",
       "      <td>1</td>\n",
       "      <td>6</td>\n",
       "    </tr>\n",
       "    <tr>\n",
       "      <th>Jonkheer</th>\n",
       "      <td>0</td>\n",
       "      <td>1</td>\n",
       "    </tr>\n",
       "    <tr>\n",
       "      <th>Lady</th>\n",
       "      <td>1</td>\n",
       "      <td>0</td>\n",
       "    </tr>\n",
       "    <tr>\n",
       "      <th>Major</th>\n",
       "      <td>0</td>\n",
       "      <td>2</td>\n",
       "    </tr>\n",
       "    <tr>\n",
       "      <th>Master</th>\n",
       "      <td>0</td>\n",
       "      <td>40</td>\n",
       "    </tr>\n",
       "    <tr>\n",
       "      <th>Miss</th>\n",
       "      <td>182</td>\n",
       "      <td>0</td>\n",
       "    </tr>\n",
       "    <tr>\n",
       "      <th>Mlle</th>\n",
       "      <td>2</td>\n",
       "      <td>0</td>\n",
       "    </tr>\n",
       "    <tr>\n",
       "      <th>Mme</th>\n",
       "      <td>1</td>\n",
       "      <td>0</td>\n",
       "    </tr>\n",
       "    <tr>\n",
       "      <th>Mr</th>\n",
       "      <td>0</td>\n",
       "      <td>517</td>\n",
       "    </tr>\n",
       "    <tr>\n",
       "      <th>Mrs</th>\n",
       "      <td>125</td>\n",
       "      <td>0</td>\n",
       "    </tr>\n",
       "    <tr>\n",
       "      <th>Ms</th>\n",
       "      <td>1</td>\n",
       "      <td>0</td>\n",
       "    </tr>\n",
       "    <tr>\n",
       "      <th>Rev</th>\n",
       "      <td>0</td>\n",
       "      <td>6</td>\n",
       "    </tr>\n",
       "    <tr>\n",
       "      <th>Sir</th>\n",
       "      <td>0</td>\n",
       "      <td>1</td>\n",
       "    </tr>\n",
       "  </tbody>\n",
       "</table>\n",
       "</div>"
      ],
      "text/plain": [
       "Sex       female  male\n",
       "Title                 \n",
       "Capt           0     1\n",
       "Col            0     2\n",
       "Countess       1     0\n",
       "Don            0     1\n",
       "Dr             1     6\n",
       "Jonkheer       0     1\n",
       "Lady           1     0\n",
       "Major          0     2\n",
       "Master         0    40\n",
       "Miss         182     0\n",
       "Mlle           2     0\n",
       "Mme            1     0\n",
       "Mr             0   517\n",
       "Mrs          125     0\n",
       "Ms             1     0\n",
       "Rev            0     6\n",
       "Sir            0     1"
      ]
     },
     "execution_count": 966,
     "metadata": {},
     "output_type": "execute_result"
    }
   ],
   "source": [
    "pd.crosstab(trainning_dataset['Title'], trainning_dataset['Sex'])"
   ]
  },
  {
   "cell_type": "code",
   "execution_count": 967,
   "metadata": {},
   "outputs": [
    {
     "data": {
      "text/html": [
       "<div>\n",
       "<style scoped>\n",
       "    .dataframe tbody tr th:only-of-type {\n",
       "        vertical-align: middle;\n",
       "    }\n",
       "\n",
       "    .dataframe tbody tr th {\n",
       "        vertical-align: top;\n",
       "    }\n",
       "\n",
       "    .dataframe thead th {\n",
       "        text-align: right;\n",
       "    }\n",
       "</style>\n",
       "<table border=\"1\" class=\"dataframe\">\n",
       "  <thead>\n",
       "    <tr style=\"text-align: right;\">\n",
       "      <th>Sex</th>\n",
       "      <th>female</th>\n",
       "      <th>male</th>\n",
       "    </tr>\n",
       "    <tr>\n",
       "      <th>Title</th>\n",
       "      <th></th>\n",
       "      <th></th>\n",
       "    </tr>\n",
       "  </thead>\n",
       "  <tbody>\n",
       "    <tr>\n",
       "      <th>Col</th>\n",
       "      <td>0</td>\n",
       "      <td>2</td>\n",
       "    </tr>\n",
       "    <tr>\n",
       "      <th>Dona</th>\n",
       "      <td>1</td>\n",
       "      <td>0</td>\n",
       "    </tr>\n",
       "    <tr>\n",
       "      <th>Dr</th>\n",
       "      <td>0</td>\n",
       "      <td>1</td>\n",
       "    </tr>\n",
       "    <tr>\n",
       "      <th>Master</th>\n",
       "      <td>0</td>\n",
       "      <td>21</td>\n",
       "    </tr>\n",
       "    <tr>\n",
       "      <th>Miss</th>\n",
       "      <td>78</td>\n",
       "      <td>0</td>\n",
       "    </tr>\n",
       "    <tr>\n",
       "      <th>Mr</th>\n",
       "      <td>0</td>\n",
       "      <td>240</td>\n",
       "    </tr>\n",
       "    <tr>\n",
       "      <th>Mrs</th>\n",
       "      <td>72</td>\n",
       "      <td>0</td>\n",
       "    </tr>\n",
       "    <tr>\n",
       "      <th>Ms</th>\n",
       "      <td>1</td>\n",
       "      <td>0</td>\n",
       "    </tr>\n",
       "    <tr>\n",
       "      <th>Rev</th>\n",
       "      <td>0</td>\n",
       "      <td>2</td>\n",
       "    </tr>\n",
       "  </tbody>\n",
       "</table>\n",
       "</div>"
      ],
      "text/plain": [
       "Sex     female  male\n",
       "Title               \n",
       "Col          0     2\n",
       "Dona         1     0\n",
       "Dr           0     1\n",
       "Master       0    21\n",
       "Miss        78     0\n",
       "Mr           0   240\n",
       "Mrs         72     0\n",
       "Ms           1     0\n",
       "Rev          0     2"
      ]
     },
     "execution_count": 967,
     "metadata": {},
     "output_type": "execute_result"
    }
   ],
   "source": [
    "pd.crosstab(testing_dataset['Title'], testing_dataset['Sex'])"
   ]
  },
  {
   "cell_type": "code",
   "execution_count": 968,
   "metadata": {},
   "outputs": [],
   "source": [
    "for dataset in [trainning_dataset, testing_dataset]:\n",
    "    dataset['Title'] = dataset['Title'].replace(['Lady', 'Countess','Capt', 'Col','Don', \n",
    "                                                 'Dr', 'Major', 'Rev', 'Sir', \n",
    "                                                 'Jonkheer', 'Dona'], 'Rare')\n",
    "    dataset['Title'] = dataset['Title'].replace('Mlle', 'Miss')\n",
    "    dataset['Title'] = dataset['Title'].replace('Ms', 'Miss')\n",
    "    dataset['Title'] = dataset['Title'].replace('Mme', 'Mrs')\n",
    "    pass\n",
    "pass"
   ]
  },
  {
   "cell_type": "code",
   "execution_count": 969,
   "metadata": {},
   "outputs": [
    {
     "data": {
      "text/html": [
       "<div>\n",
       "<style scoped>\n",
       "    .dataframe tbody tr th:only-of-type {\n",
       "        vertical-align: middle;\n",
       "    }\n",
       "\n",
       "    .dataframe tbody tr th {\n",
       "        vertical-align: top;\n",
       "    }\n",
       "\n",
       "    .dataframe thead th {\n",
       "        text-align: right;\n",
       "    }\n",
       "</style>\n",
       "<table border=\"1\" class=\"dataframe\">\n",
       "  <thead>\n",
       "    <tr style=\"text-align: right;\">\n",
       "      <th></th>\n",
       "      <th>Title</th>\n",
       "      <th>Survived</th>\n",
       "    </tr>\n",
       "  </thead>\n",
       "  <tbody>\n",
       "    <tr>\n",
       "      <th>0</th>\n",
       "      <td>Master</td>\n",
       "      <td>0.575000</td>\n",
       "    </tr>\n",
       "    <tr>\n",
       "      <th>1</th>\n",
       "      <td>Miss</td>\n",
       "      <td>0.702703</td>\n",
       "    </tr>\n",
       "    <tr>\n",
       "      <th>2</th>\n",
       "      <td>Mr</td>\n",
       "      <td>0.156673</td>\n",
       "    </tr>\n",
       "    <tr>\n",
       "      <th>3</th>\n",
       "      <td>Mrs</td>\n",
       "      <td>0.793651</td>\n",
       "    </tr>\n",
       "    <tr>\n",
       "      <th>4</th>\n",
       "      <td>Rare</td>\n",
       "      <td>0.347826</td>\n",
       "    </tr>\n",
       "  </tbody>\n",
       "</table>\n",
       "</div>"
      ],
      "text/plain": [
       "    Title  Survived\n",
       "0  Master  0.575000\n",
       "1    Miss  0.702703\n",
       "2      Mr  0.156673\n",
       "3     Mrs  0.793651\n",
       "4    Rare  0.347826"
      ]
     },
     "execution_count": 969,
     "metadata": {},
     "output_type": "execute_result"
    }
   ],
   "source": [
    "trainning_dataset[['Title', 'Survived']].groupby(['Title'], as_index=False).mean()"
   ]
  },
  {
   "cell_type": "code",
   "execution_count": 970,
   "metadata": {},
   "outputs": [],
   "source": [
    "to_numerical = LabelEncoder()\n",
    "trainning_dataset[\"Title code\"] = to_numerical.fit_transform(trainning_dataset[\"Title\"])"
   ]
  },
  {
   "cell_type": "code",
   "execution_count": 971,
   "metadata": {},
   "outputs": [],
   "source": [
    "to_numerical = LabelEncoder()\n",
    "testing_dataset[\"Title code\"] = to_numerical.fit_transform(testing_dataset[\"Title\"])"
   ]
  },
  {
   "cell_type": "code",
   "execution_count": 972,
   "metadata": {},
   "outputs": [
    {
     "data": {
      "text/html": [
       "<div>\n",
       "<style scoped>\n",
       "    .dataframe tbody tr th:only-of-type {\n",
       "        vertical-align: middle;\n",
       "    }\n",
       "\n",
       "    .dataframe tbody tr th {\n",
       "        vertical-align: top;\n",
       "    }\n",
       "\n",
       "    .dataframe thead th {\n",
       "        text-align: right;\n",
       "    }\n",
       "</style>\n",
       "<table border=\"1\" class=\"dataframe\">\n",
       "  <thead>\n",
       "    <tr style=\"text-align: right;\">\n",
       "      <th></th>\n",
       "      <th>Survived</th>\n",
       "      <th>Pclass</th>\n",
       "      <th>Name</th>\n",
       "      <th>Sex</th>\n",
       "      <th>Age</th>\n",
       "      <th>SibSp</th>\n",
       "      <th>Parch</th>\n",
       "      <th>Fare</th>\n",
       "      <th>Embarked</th>\n",
       "      <th>Title</th>\n",
       "      <th>Title code</th>\n",
       "    </tr>\n",
       "  </thead>\n",
       "  <tbody>\n",
       "    <tr>\n",
       "      <th>0</th>\n",
       "      <td>0</td>\n",
       "      <td>3</td>\n",
       "      <td>Braund, Mr. Owen Harris</td>\n",
       "      <td>male</td>\n",
       "      <td>22.0</td>\n",
       "      <td>1</td>\n",
       "      <td>0</td>\n",
       "      <td>7.2500</td>\n",
       "      <td>S</td>\n",
       "      <td>Mr</td>\n",
       "      <td>2</td>\n",
       "    </tr>\n",
       "    <tr>\n",
       "      <th>1</th>\n",
       "      <td>1</td>\n",
       "      <td>1</td>\n",
       "      <td>Cumings, Mrs. John Bradley (Florence Briggs Th...</td>\n",
       "      <td>female</td>\n",
       "      <td>38.0</td>\n",
       "      <td>1</td>\n",
       "      <td>0</td>\n",
       "      <td>71.2833</td>\n",
       "      <td>C</td>\n",
       "      <td>Mrs</td>\n",
       "      <td>3</td>\n",
       "    </tr>\n",
       "    <tr>\n",
       "      <th>2</th>\n",
       "      <td>1</td>\n",
       "      <td>3</td>\n",
       "      <td>Heikkinen, Miss. Laina</td>\n",
       "      <td>female</td>\n",
       "      <td>26.0</td>\n",
       "      <td>0</td>\n",
       "      <td>0</td>\n",
       "      <td>7.9250</td>\n",
       "      <td>S</td>\n",
       "      <td>Miss</td>\n",
       "      <td>1</td>\n",
       "    </tr>\n",
       "    <tr>\n",
       "      <th>3</th>\n",
       "      <td>1</td>\n",
       "      <td>1</td>\n",
       "      <td>Futrelle, Mrs. Jacques Heath (Lily May Peel)</td>\n",
       "      <td>female</td>\n",
       "      <td>35.0</td>\n",
       "      <td>1</td>\n",
       "      <td>0</td>\n",
       "      <td>53.1000</td>\n",
       "      <td>S</td>\n",
       "      <td>Mrs</td>\n",
       "      <td>3</td>\n",
       "    </tr>\n",
       "    <tr>\n",
       "      <th>4</th>\n",
       "      <td>0</td>\n",
       "      <td>3</td>\n",
       "      <td>Allen, Mr. William Henry</td>\n",
       "      <td>male</td>\n",
       "      <td>35.0</td>\n",
       "      <td>0</td>\n",
       "      <td>0</td>\n",
       "      <td>8.0500</td>\n",
       "      <td>S</td>\n",
       "      <td>Mr</td>\n",
       "      <td>2</td>\n",
       "    </tr>\n",
       "  </tbody>\n",
       "</table>\n",
       "</div>"
      ],
      "text/plain": [
       "   Survived  Pclass                                               Name  \\\n",
       "0         0       3                            Braund, Mr. Owen Harris   \n",
       "1         1       1  Cumings, Mrs. John Bradley (Florence Briggs Th...   \n",
       "2         1       3                             Heikkinen, Miss. Laina   \n",
       "3         1       1       Futrelle, Mrs. Jacques Heath (Lily May Peel)   \n",
       "4         0       3                           Allen, Mr. William Henry   \n",
       "\n",
       "      Sex   Age  SibSp  Parch     Fare Embarked Title  Title code  \n",
       "0    male  22.0      1      0   7.2500        S    Mr           2  \n",
       "1  female  38.0      1      0  71.2833        C   Mrs           3  \n",
       "2  female  26.0      0      0   7.9250        S  Miss           1  \n",
       "3  female  35.0      1      0  53.1000        S   Mrs           3  \n",
       "4    male  35.0      0      0   8.0500        S    Mr           2  "
      ]
     },
     "execution_count": 972,
     "metadata": {},
     "output_type": "execute_result"
    }
   ],
   "source": [
    "trainning_dataset.head()"
   ]
  },
  {
   "cell_type": "code",
   "execution_count": 973,
   "metadata": {},
   "outputs": [],
   "source": [
    "to_numerical = LabelEncoder()\n",
    "testing_dataset[\"Sex\"] = to_numerical.fit_transform(testing_dataset[\"Sex\"])\n",
    "trainning_dataset[\"Sex\"] = to_numerical.fit_transform(trainning_dataset[\"Sex\"])"
   ]
  },
  {
   "cell_type": "code",
   "execution_count": 974,
   "metadata": {},
   "outputs": [],
   "source": [
    "to_numerical = LabelEncoder()\n",
    "testing_dataset[\"Embarked\"] = to_numerical.fit_transform(testing_dataset[\"Embarked\"])"
   ]
  },
  {
   "cell_type": "code",
   "execution_count": 975,
   "metadata": {},
   "outputs": [],
   "source": [
    "to_numerical = LabelEncoder()\n",
    "trainning_dataset['Embarked'] = trainning_dataset['Embarked'].replace(np.nan, 'S')\n",
    "trainning_dataset['Embarked'] = to_numerical.fit_transform(trainning_dataset[\"Embarked\"])"
   ]
  },
  {
   "cell_type": "code",
   "execution_count": 976,
   "metadata": {},
   "outputs": [],
   "source": [
    "trainning_dataset = trainning_dataset.drop(['Title', 'Name'], axis = 1)\n",
    "testing_dataset   = testing_dataset.drop(['Title', 'Name'], axis = 1)"
   ]
  },
  {
   "cell_type": "code",
   "execution_count": 977,
   "metadata": {},
   "outputs": [
    {
     "data": {
      "text/plain": [
       "177"
      ]
     },
     "execution_count": 977,
     "metadata": {},
     "output_type": "execute_result"
    }
   ],
   "source": [
    "trainning_dataset['Age'].isnull().sum()"
   ]
  },
  {
   "cell_type": "code",
   "execution_count": 978,
   "metadata": {},
   "outputs": [
    {
     "data": {
      "text/plain": [
       "86"
      ]
     },
     "execution_count": 978,
     "metadata": {},
     "output_type": "execute_result"
    }
   ],
   "source": [
    "testing_dataset['Age'].isnull().sum()"
   ]
  },
  {
   "cell_type": "code",
   "execution_count": 979,
   "metadata": {},
   "outputs": [],
   "source": [
    "trainning_dataset['Age'] = trainning_dataset['Age'].fillna(trainning_dataset['Age'].median())\n",
    "testing_dataset['Age']   = testing_dataset['Age'].fillna(testing_dataset['Age'].median())"
   ]
  },
  {
   "cell_type": "code",
   "execution_count": 980,
   "metadata": {},
   "outputs": [
    {
     "data": {
      "text/html": [
       "<div>\n",
       "<style scoped>\n",
       "    .dataframe tbody tr th:only-of-type {\n",
       "        vertical-align: middle;\n",
       "    }\n",
       "\n",
       "    .dataframe tbody tr th {\n",
       "        vertical-align: top;\n",
       "    }\n",
       "\n",
       "    .dataframe thead th {\n",
       "        text-align: right;\n",
       "    }\n",
       "</style>\n",
       "<table border=\"1\" class=\"dataframe\">\n",
       "  <thead>\n",
       "    <tr style=\"text-align: right;\">\n",
       "      <th></th>\n",
       "      <th>Survived</th>\n",
       "      <th>Pclass</th>\n",
       "      <th>Sex</th>\n",
       "      <th>Age</th>\n",
       "      <th>SibSp</th>\n",
       "      <th>Parch</th>\n",
       "      <th>Fare</th>\n",
       "      <th>Embarked</th>\n",
       "      <th>Title code</th>\n",
       "    </tr>\n",
       "  </thead>\n",
       "  <tbody>\n",
       "    <tr>\n",
       "      <th>0</th>\n",
       "      <td>0</td>\n",
       "      <td>3</td>\n",
       "      <td>1</td>\n",
       "      <td>22.0</td>\n",
       "      <td>1</td>\n",
       "      <td>0</td>\n",
       "      <td>7.2500</td>\n",
       "      <td>2</td>\n",
       "      <td>2</td>\n",
       "    </tr>\n",
       "    <tr>\n",
       "      <th>1</th>\n",
       "      <td>1</td>\n",
       "      <td>1</td>\n",
       "      <td>0</td>\n",
       "      <td>38.0</td>\n",
       "      <td>1</td>\n",
       "      <td>0</td>\n",
       "      <td>71.2833</td>\n",
       "      <td>0</td>\n",
       "      <td>3</td>\n",
       "    </tr>\n",
       "    <tr>\n",
       "      <th>2</th>\n",
       "      <td>1</td>\n",
       "      <td>3</td>\n",
       "      <td>0</td>\n",
       "      <td>26.0</td>\n",
       "      <td>0</td>\n",
       "      <td>0</td>\n",
       "      <td>7.9250</td>\n",
       "      <td>2</td>\n",
       "      <td>1</td>\n",
       "    </tr>\n",
       "    <tr>\n",
       "      <th>3</th>\n",
       "      <td>1</td>\n",
       "      <td>1</td>\n",
       "      <td>0</td>\n",
       "      <td>35.0</td>\n",
       "      <td>1</td>\n",
       "      <td>0</td>\n",
       "      <td>53.1000</td>\n",
       "      <td>2</td>\n",
       "      <td>3</td>\n",
       "    </tr>\n",
       "    <tr>\n",
       "      <th>4</th>\n",
       "      <td>0</td>\n",
       "      <td>3</td>\n",
       "      <td>1</td>\n",
       "      <td>35.0</td>\n",
       "      <td>0</td>\n",
       "      <td>0</td>\n",
       "      <td>8.0500</td>\n",
       "      <td>2</td>\n",
       "      <td>2</td>\n",
       "    </tr>\n",
       "  </tbody>\n",
       "</table>\n",
       "</div>"
      ],
      "text/plain": [
       "   Survived  Pclass  Sex   Age  SibSp  Parch     Fare  Embarked  Title code\n",
       "0         0       3    1  22.0      1      0   7.2500         2           2\n",
       "1         1       1    0  38.0      1      0  71.2833         0           3\n",
       "2         1       3    0  26.0      0      0   7.9250         2           1\n",
       "3         1       1    0  35.0      1      0  53.1000         2           3\n",
       "4         0       3    1  35.0      0      0   8.0500         2           2"
      ]
     },
     "execution_count": 980,
     "metadata": {},
     "output_type": "execute_result"
    }
   ],
   "source": [
    "trainning_dataset.head()"
   ]
  },
  {
   "cell_type": "code",
   "execution_count": 981,
   "metadata": {},
   "outputs": [
    {
     "data": {
      "text/plain": [
       "Survived      0\n",
       "Pclass        0\n",
       "Sex           0\n",
       "Age           0\n",
       "SibSp         0\n",
       "Parch         0\n",
       "Fare          0\n",
       "Embarked      0\n",
       "Title code    0\n",
       "dtype: int64"
      ]
     },
     "execution_count": 981,
     "metadata": {},
     "output_type": "execute_result"
    }
   ],
   "source": [
    "#let's check of all the values are complet\n",
    "trainning_dataset.isna().sum()"
   ]
  },
  {
   "cell_type": "markdown",
   "metadata": {},
   "source": [
    "# model selection & prediction"
   ]
  },
  {
   "cell_type": "code",
   "execution_count": 982,
   "metadata": {},
   "outputs": [],
   "source": [
    "from sklearn.model_selection import train_test_split\n",
    "X = trainning_dataset.drop(trainning_dataset.Survived)\n",
    "y = trainning_dataset.Survived\n",
    "x_train, x_test, y_train, y_test = train_test_split(X,y[2:], test_size = 0.3)"
   ]
  },
  {
   "cell_type": "code",
   "execution_count": 983,
   "metadata": {},
   "outputs": [],
   "source": [
    "MAE = list()\n",
    "MSE = list()\n",
    "RMSE = list()\n",
    "Var = list()"
   ]
  },
  {
   "cell_type": "markdown",
   "metadata": {},
   "source": [
    "## Logstic regression"
   ]
  },
  {
   "cell_type": "code",
   "execution_count": 984,
   "metadata": {},
   "outputs": [],
   "source": [
    "from sklearn.linear_model import LogisticRegression"
   ]
  },
  {
   "cell_type": "code",
   "execution_count": 985,
   "metadata": {},
   "outputs": [
    {
     "name": "stderr",
     "output_type": "stream",
     "text": [
      "C:\\Users\\Supernova\\anaconda3\\lib\\site-packages\\sklearn\\linear_model\\_logistic.py:762: ConvergenceWarning: lbfgs failed to converge (status=1):\n",
      "STOP: TOTAL NO. of ITERATIONS REACHED LIMIT.\n",
      "\n",
      "Increase the number of iterations (max_iter) or scale the data as shown in:\n",
      "    https://scikit-learn.org/stable/modules/preprocessing.html\n",
      "Please also refer to the documentation for alternative solver options:\n",
      "    https://scikit-learn.org/stable/modules/linear_model.html#logistic-regression\n",
      "  n_iter_i = _check_optimize_result(\n"
     ]
    }
   ],
   "source": [
    "logstic_regression = LogisticRegression()\n",
    "logstic_regression.fit(x_train,y_train)\n",
    "y_pred = logstic_regression.predict(x_test)"
   ]
  },
  {
   "cell_type": "code",
   "execution_count": 986,
   "metadata": {},
   "outputs": [
    {
     "name": "stdout",
     "output_type": "stream",
     "text": [
      "MAE: 0.0\n",
      "MSE: 0.0\n",
      "RMSE: 0.0\n",
      "VarScore: 1.0\n"
     ]
    }
   ],
   "source": [
    "print('MAE:', metrics.mean_absolute_error(y_test, y_pred))  \n",
    "print('MSE:', metrics.mean_squared_error(y_test, y_pred))  \n",
    "print('RMSE:', np.sqrt(metrics.mean_squared_error(y_test, y_pred)))\n",
    "print('VarScore:',metrics.explained_variance_score(y_test,y_pred))"
   ]
  },
  {
   "cell_type": "code",
   "execution_count": 987,
   "metadata": {},
   "outputs": [],
   "source": [
    "MAE.append(metrics.mean_absolute_error(y_test, y_pred))\n",
    "MSE.append(metrics.mean_squared_error(y_test, y_pred))\n",
    "RMSE.append(np.sqrt(metrics.mean_squared_error(y_test, y_pred)))\n",
    "Var.append(metrics.explained_variance_score(y_test,y_pred))"
   ]
  },
  {
   "cell_type": "markdown",
   "metadata": {},
   "source": [
    "# K neighbors classifier"
   ]
  },
  {
   "cell_type": "code",
   "execution_count": 988,
   "metadata": {},
   "outputs": [],
   "source": [
    "from sklearn.neighbors import KNeighborsClassifier"
   ]
  },
  {
   "cell_type": "code",
   "execution_count": 989,
   "metadata": {},
   "outputs": [],
   "source": [
    "knn = KNeighborsClassifier(n_neighbors = 3)\n",
    "knn.fit(x_train, y_train)\n",
    "y_pred = knn.predict(x_test)"
   ]
  },
  {
   "cell_type": "code",
   "execution_count": 990,
   "metadata": {},
   "outputs": [
    {
     "name": "stdout",
     "output_type": "stream",
     "text": [
      "MAE: 0.2247191011235955\n",
      "MSE: 0.2247191011235955\n",
      "RMSE: 0.4740454631399772\n",
      "VarScore: 0.10040532715691974\n"
     ]
    }
   ],
   "source": [
    "print('MAE:', metrics.mean_absolute_error(y_test, y_pred))  \n",
    "print('MSE:', metrics.mean_squared_error(y_test, y_pred))  \n",
    "print('RMSE:', np.sqrt(metrics.mean_squared_error(y_test, y_pred)))\n",
    "print('VarScore:',metrics.explained_variance_score(y_test,y_pred))"
   ]
  },
  {
   "cell_type": "code",
   "execution_count": 991,
   "metadata": {},
   "outputs": [],
   "source": [
    "MAE.append(metrics.mean_absolute_error(y_test, y_pred))\n",
    "MSE.append(metrics.mean_squared_error(y_test, y_pred))\n",
    "RMSE.append(np.sqrt(metrics.mean_squared_error(y_test, y_pred)))\n",
    "Var.append(metrics.explained_variance_score(y_test,y_pred))"
   ]
  },
  {
   "cell_type": "markdown",
   "metadata": {},
   "source": [
    "# Neural netowrk "
   ]
  },
  {
   "cell_type": "code",
   "execution_count": 992,
   "metadata": {},
   "outputs": [],
   "source": [
    "def build_model(dense_dimension = 200):\n",
    "    model = Sequential()\n",
    "    model.add(Dense(dense_dimension,  activation='relu'))\n",
    "    model.add(Dense(dense_dimension,  activation='relu'))\n",
    "    model.add(Dense(dense_dimension, activation='relu'))\n",
    "    model.add(Dense(dense_dimension, activation='relu'))\n",
    "    model.add(Dense(1))\n",
    "    model.compile(optimizer='Adam',loss='mean_squared_error')\n",
    "    return model"
   ]
  },
  {
   "cell_type": "code",
   "execution_count": 993,
   "metadata": {},
   "outputs": [
    {
     "name": "stdout",
     "output_type": "stream",
     "text": [
      "Epoch 1/500\n",
      "WARNING:tensorflow:Layer dense_15 is casting an input tensor from dtype float64 to the layer's dtype of float32, which is new behavior in TensorFlow 2.  The layer has dtype float32 because its dtype defaults to floatx.\n",
      "\n",
      "If you intended to run this layer in float32, you can safely ignore this warning. If in doubt, this warning is likely only an issue if you are porting a TensorFlow 1.X model to TensorFlow 2.\n",
      "\n",
      "To change all layers to have dtype float64 by default, call `tf.keras.backend.set_floatx('float64')`. To change just this layer, pass dtype='float64' to the layer constructor. If you are the author of this layer, you can disable autocasting by passing autocast=False to the base Layer constructor.\n",
      "\n",
      "4/4 [==============================] - 0s 2ms/step - loss: 7.9282\n",
      "Epoch 2/500\n",
      "4/4 [==============================] - 0s 2ms/step - loss: 5.4206\n",
      "Epoch 3/500\n",
      "4/4 [==============================] - 0s 2ms/step - loss: 1.2283\n",
      "Epoch 4/500\n",
      "4/4 [==============================] - 0s 3ms/step - loss: 0.9640\n",
      "Epoch 5/500\n",
      "4/4 [==============================] - 0s 2ms/step - loss: 0.5689\n",
      "Epoch 6/500\n",
      "4/4 [==============================] - 0s 2ms/step - loss: 0.6581\n",
      "Epoch 7/500\n",
      "4/4 [==============================] - 0s 3ms/step - loss: 0.2847\n",
      "Epoch 8/500\n",
      "4/4 [==============================] - 0s 2ms/step - loss: 0.3782\n",
      "Epoch 9/500\n",
      "4/4 [==============================] - 0s 3ms/step - loss: 0.2527\n",
      "Epoch 10/500\n",
      "4/4 [==============================] - 0s 3ms/step - loss: 0.2761\n",
      "Epoch 11/500\n",
      "4/4 [==============================] - 0s 3ms/step - loss: 0.2386\n",
      "Epoch 12/500\n",
      "4/4 [==============================] - ETA: 0s - loss: 0.253 - 0s 3ms/step - loss: 0.2433\n",
      "Epoch 13/500\n",
      "4/4 [==============================] - 0s 3ms/step - loss: 0.2300\n",
      "Epoch 14/500\n",
      "4/4 [==============================] - 0s 3ms/step - loss: 0.2232\n",
      "Epoch 15/500\n",
      "4/4 [==============================] - 0s 3ms/step - loss: 0.2193\n",
      "Epoch 16/500\n",
      "4/4 [==============================] - 0s 2ms/step - loss: 0.2116\n",
      "Epoch 17/500\n",
      "4/4 [==============================] - 0s 2ms/step - loss: 0.2142\n",
      "Epoch 18/500\n",
      "4/4 [==============================] - 0s 3ms/step - loss: 0.2007\n",
      "Epoch 19/500\n",
      "4/4 [==============================] - 0s 3ms/step - loss: 0.2097\n",
      "Epoch 20/500\n",
      "4/4 [==============================] - 0s 3ms/step - loss: 0.1930\n",
      "Epoch 21/500\n",
      "4/4 [==============================] - 0s 3ms/step - loss: 0.1863\n",
      "Epoch 22/500\n",
      "4/4 [==============================] - 0s 2ms/step - loss: 0.1802\n",
      "Epoch 23/500\n",
      "4/4 [==============================] - 0s 2ms/step - loss: 0.1738\n",
      "Epoch 24/500\n",
      "4/4 [==============================] - 0s 2ms/step - loss: 0.1716\n",
      "Epoch 25/500\n",
      "4/4 [==============================] - 0s 3ms/step - loss: 0.1646\n",
      "Epoch 26/500\n",
      "4/4 [==============================] - 0s 3ms/step - loss: 0.1648\n",
      "Epoch 27/500\n",
      "4/4 [==============================] - 0s 3ms/step - loss: 0.1608\n",
      "Epoch 28/500\n",
      "4/4 [==============================] - 0s 2ms/step - loss: 0.1515\n",
      "Epoch 29/500\n",
      "4/4 [==============================] - 0s 2ms/step - loss: 0.1469\n",
      "Epoch 30/500\n",
      "4/4 [==============================] - 0s 2ms/step - loss: 0.1519\n",
      "Epoch 31/500\n",
      "4/4 [==============================] - 0s 3ms/step - loss: 0.1369\n",
      "Epoch 32/500\n",
      "4/4 [==============================] - 0s 3ms/step - loss: 0.1387\n",
      "Epoch 33/500\n",
      "4/4 [==============================] - 0s 2ms/step - loss: 0.1461\n",
      "Epoch 34/500\n",
      "4/4 [==============================] - 0s 3ms/step - loss: 0.1128\n",
      "Epoch 35/500\n",
      "4/4 [==============================] - 0s 3ms/step - loss: 0.1113\n",
      "Epoch 36/500\n",
      "4/4 [==============================] - 0s 3ms/step - loss: 0.0890\n",
      "Epoch 37/500\n",
      "4/4 [==============================] - 0s 2ms/step - loss: 0.0777\n",
      "Epoch 38/500\n",
      "4/4 [==============================] - 0s 3ms/step - loss: 0.0632\n",
      "Epoch 39/500\n",
      "4/4 [==============================] - 0s 2ms/step - loss: 0.0611\n",
      "Epoch 40/500\n",
      "4/4 [==============================] - 0s 2ms/step - loss: 0.0583\n",
      "Epoch 41/500\n",
      "4/4 [==============================] - 0s 2ms/step - loss: 0.0714\n",
      "Epoch 42/500\n",
      "4/4 [==============================] - 0s 2ms/step - loss: 0.0508\n",
      "Epoch 43/500\n",
      "4/4 [==============================] - 0s 3ms/step - loss: 0.0617\n",
      "Epoch 44/500\n",
      "4/4 [==============================] - 0s 2ms/step - loss: 0.0570\n",
      "Epoch 45/500\n",
      "4/4 [==============================] - 0s 2ms/step - loss: 0.0502\n",
      "Epoch 46/500\n",
      "4/4 [==============================] - 0s 3ms/step - loss: 0.0396\n",
      "Epoch 47/500\n",
      "4/4 [==============================] - 0s 2ms/step - loss: 0.0364\n",
      "Epoch 48/500\n",
      "4/4 [==============================] - 0s 2ms/step - loss: 0.0398\n",
      "Epoch 49/500\n",
      "4/4 [==============================] - 0s 2ms/step - loss: 0.0271\n",
      "Epoch 50/500\n",
      "4/4 [==============================] - 0s 2ms/step - loss: 0.0321\n",
      "Epoch 51/500\n",
      "4/4 [==============================] - 0s 2ms/step - loss: 0.0659\n",
      "Epoch 52/500\n",
      "4/4 [==============================] - 0s 2ms/step - loss: 0.0513\n",
      "Epoch 53/500\n",
      "4/4 [==============================] - 0s 3ms/step - loss: 0.0413\n",
      "Epoch 54/500\n",
      "4/4 [==============================] - 0s 3ms/step - loss: 0.0315\n",
      "Epoch 55/500\n",
      "4/4 [==============================] - 0s 2ms/step - loss: 0.0359\n",
      "Epoch 56/500\n",
      "4/4 [==============================] - 0s 2ms/step - loss: 0.0370\n",
      "Epoch 57/500\n",
      "4/4 [==============================] - 0s 2ms/step - loss: 0.0487\n",
      "Epoch 58/500\n",
      "4/4 [==============================] - 0s 3ms/step - loss: 0.0285\n",
      "Epoch 59/500\n",
      "4/4 [==============================] - 0s 2ms/step - loss: 0.0267\n",
      "Epoch 60/500\n",
      "4/4 [==============================] - 0s 2ms/step - loss: 0.0227\n",
      "Epoch 61/500\n",
      "4/4 [==============================] - 0s 2ms/step - loss: 0.0230\n",
      "Epoch 62/500\n",
      "4/4 [==============================] - 0s 2ms/step - loss: 0.0215\n",
      "Epoch 63/500\n",
      "4/4 [==============================] - 0s 2ms/step - loss: 0.0142\n",
      "Epoch 64/500\n",
      "4/4 [==============================] - 0s 2ms/step - loss: 0.0147\n",
      "Epoch 65/500\n",
      "4/4 [==============================] - 0s 2ms/step - loss: 0.0190\n",
      "Epoch 66/500\n",
      "4/4 [==============================] - 0s 3ms/step - loss: 0.0296\n",
      "Epoch 67/500\n",
      "4/4 [==============================] - 0s 2ms/step - loss: 0.0348\n",
      "Epoch 68/500\n",
      "4/4 [==============================] - 0s 3ms/step - loss: 0.0219\n",
      "Epoch 69/500\n",
      "4/4 [==============================] - 0s 3ms/step - loss: 0.0219\n",
      "Epoch 70/500\n",
      "4/4 [==============================] - 0s 2ms/step - loss: 0.0157\n",
      "Epoch 71/500\n",
      "4/4 [==============================] - 0s 2ms/step - loss: 0.0146\n",
      "Epoch 72/500\n",
      "4/4 [==============================] - 0s 2ms/step - loss: 0.0105\n",
      "Epoch 73/500\n",
      "4/4 [==============================] - 0s 2ms/step - loss: 0.0090\n",
      "Epoch 74/500\n",
      "4/4 [==============================] - 0s 2ms/step - loss: 0.0086\n",
      "Epoch 75/500\n",
      "4/4 [==============================] - 0s 2ms/step - loss: 0.0216\n",
      "Epoch 76/500\n",
      "4/4 [==============================] - 0s 2ms/step - loss: 0.0245\n",
      "Epoch 77/500\n",
      "4/4 [==============================] - 0s 2ms/step - loss: 0.0320\n",
      "Epoch 78/500\n",
      "4/4 [==============================] - 0s 3ms/step - loss: 0.0542\n",
      "Epoch 79/500\n",
      "4/4 [==============================] - 0s 3ms/step - loss: 0.0354\n",
      "Epoch 80/500\n",
      "4/4 [==============================] - 0s 2ms/step - loss: 0.0243\n",
      "Epoch 81/500\n",
      "4/4 [==============================] - 0s 2ms/step - loss: 0.0155\n",
      "Epoch 82/500\n",
      "4/4 [==============================] - 0s 2ms/step - loss: 0.0135\n",
      "Epoch 83/500\n",
      "4/4 [==============================] - 0s 3ms/step - loss: 0.0108\n",
      "Epoch 84/500\n",
      "4/4 [==============================] - 0s 2ms/step - loss: 0.0100\n",
      "Epoch 85/500\n",
      "4/4 [==============================] - 0s 2ms/step - loss: 0.0232\n",
      "Epoch 86/500\n",
      "4/4 [==============================] - 0s 3ms/step - loss: 0.0214\n",
      "Epoch 87/500\n",
      "4/4 [==============================] - 0s 3ms/step - loss: 0.0222\n",
      "Epoch 88/500\n",
      "4/4 [==============================] - 0s 3ms/step - loss: 0.0140\n",
      "Epoch 89/500\n",
      "4/4 [==============================] - 0s 3ms/step - loss: 0.0148\n",
      "Epoch 90/500\n",
      "4/4 [==============================] - 0s 3ms/step - loss: 0.0116\n",
      "Epoch 91/500\n",
      "4/4 [==============================] - 0s 2ms/step - loss: 0.0122\n",
      "Epoch 92/500\n",
      "4/4 [==============================] - 0s 3ms/step - loss: 0.0091\n",
      "Epoch 93/500\n",
      "4/4 [==============================] - 0s 3ms/step - loss: 0.0095\n",
      "Epoch 94/500\n",
      "4/4 [==============================] - 0s 3ms/step - loss: 0.0046\n",
      "Epoch 95/500\n"
     ]
    },
    {
     "name": "stdout",
     "output_type": "stream",
     "text": [
      "4/4 [==============================] - 0s 2ms/step - loss: 0.0061\n",
      "Epoch 96/500\n",
      "4/4 [==============================] - 0s 3ms/step - loss: 0.0041\n",
      "Epoch 97/500\n",
      "4/4 [==============================] - 0s 3ms/step - loss: 0.0033\n",
      "Epoch 98/500\n",
      "4/4 [==============================] - 0s 2ms/step - loss: 0.0035\n",
      "Epoch 99/500\n",
      "4/4 [==============================] - 0s 2ms/step - loss: 0.0081\n",
      "Epoch 100/500\n",
      "4/4 [==============================] - 0s 2ms/step - loss: 0.0025\n",
      "Epoch 101/500\n",
      "4/4 [==============================] - 0s 2ms/step - loss: 0.0052\n",
      "Epoch 102/500\n",
      "4/4 [==============================] - 0s 3ms/step - loss: 0.0115\n",
      "Epoch 103/500\n",
      "4/4 [==============================] - 0s 3ms/step - loss: 0.0091\n",
      "Epoch 104/500\n",
      "4/4 [==============================] - 0s 3ms/step - loss: 0.0095\n",
      "Epoch 105/500\n",
      "4/4 [==============================] - 0s 2ms/step - loss: 0.0065\n",
      "Epoch 106/500\n",
      "4/4 [==============================] - 0s 2ms/step - loss: 0.0075\n",
      "Epoch 107/500\n",
      "4/4 [==============================] - 0s 2ms/step - loss: 0.0062\n",
      "Epoch 108/500\n",
      "4/4 [==============================] - 0s 2ms/step - loss: 0.0024\n",
      "Epoch 109/500\n",
      "4/4 [==============================] - 0s 2ms/step - loss: 0.0021\n",
      "Epoch 110/500\n",
      "4/4 [==============================] - 0s 3ms/step - loss: 0.0017\n",
      "Epoch 111/500\n",
      "4/4 [==============================] - 0s 3ms/step - loss: 0.0027\n",
      "Epoch 112/500\n",
      "4/4 [==============================] - 0s 2ms/step - loss: 0.0055\n",
      "Epoch 113/500\n",
      "4/4 [==============================] - 0s 2ms/step - loss: 0.0017\n",
      "Epoch 114/500\n",
      "4/4 [==============================] - 0s 2ms/step - loss: 0.0022\n",
      "Epoch 115/500\n",
      "4/4 [==============================] - 0s 2ms/step - loss: 0.0019\n",
      "Epoch 116/500\n",
      "4/4 [==============================] - 0s 2ms/step - loss: 0.0045\n",
      "Epoch 117/500\n",
      "4/4 [==============================] - 0s 2ms/step - loss: 0.0073\n",
      "Epoch 118/500\n",
      "4/4 [==============================] - 0s 2ms/step - loss: 0.0073\n",
      "Epoch 119/500\n",
      "4/4 [==============================] - 0s 2ms/step - loss: 0.0046\n",
      "Epoch 120/500\n",
      "4/4 [==============================] - 0s 2ms/step - loss: 0.0035\n",
      "Epoch 121/500\n",
      "4/4 [==============================] - 0s 2ms/step - loss: 0.0036\n",
      "Epoch 122/500\n",
      "4/4 [==============================] - 0s 2ms/step - loss: 0.0106\n",
      "Epoch 123/500\n",
      "4/4 [==============================] - 0s 2ms/step - loss: 0.0122\n",
      "Epoch 124/500\n",
      "4/4 [==============================] - 0s 2ms/step - loss: 0.0092\n",
      "Epoch 125/500\n",
      "4/4 [==============================] - 0s 2ms/step - loss: 0.0059\n",
      "Epoch 126/500\n",
      "4/4 [==============================] - 0s 2ms/step - loss: 0.0093\n",
      "Epoch 127/500\n",
      "4/4 [==============================] - 0s 3ms/step - loss: 0.0036\n",
      "Epoch 128/500\n",
      "4/4 [==============================] - 0s 2ms/step - loss: 0.0032\n",
      "Epoch 129/500\n",
      "4/4 [==============================] - 0s 2ms/step - loss: 0.0063\n",
      "Epoch 130/500\n",
      "4/4 [==============================] - 0s 3ms/step - loss: 0.0023\n",
      "Epoch 131/500\n",
      "4/4 [==============================] - 0s 3ms/step - loss: 0.0023\n",
      "Epoch 132/500\n",
      "4/4 [==============================] - 0s 2ms/step - loss: 0.0017\n",
      "Epoch 133/500\n",
      "4/4 [==============================] - 0s 3ms/step - loss: 0.0019\n",
      "Epoch 134/500\n",
      "4/4 [==============================] - 0s 2ms/step - loss: 0.0029\n",
      "Epoch 135/500\n",
      "4/4 [==============================] - 0s 2ms/step - loss: 0.0034\n",
      "Epoch 136/500\n",
      "4/4 [==============================] - 0s 2ms/step - loss: 0.0110\n",
      "Epoch 137/500\n",
      "4/4 [==============================] - 0s 2ms/step - loss: 0.0113\n",
      "Epoch 138/500\n",
      "4/4 [==============================] - 0s 2ms/step - loss: 0.0139\n",
      "Epoch 139/500\n",
      "4/4 [==============================] - 0s 2ms/step - loss: 0.0111\n",
      "Epoch 140/500\n",
      "4/4 [==============================] - 0s 2ms/step - loss: 0.0112\n",
      "Epoch 141/500\n",
      "4/4 [==============================] - 0s 3ms/step - loss: 0.0147\n",
      "Epoch 142/500\n",
      "4/4 [==============================] - 0s 3ms/step - loss: 0.0158\n",
      "Epoch 143/500\n",
      "4/4 [==============================] - 0s 3ms/step - loss: 0.0127\n",
      "Epoch 144/500\n",
      "4/4 [==============================] - 0s 2ms/step - loss: 0.0069\n",
      "Epoch 145/500\n",
      "4/4 [==============================] - 0s 3ms/step - loss: 0.0066\n",
      "Epoch 146/500\n",
      "4/4 [==============================] - 0s 3ms/step - loss: 0.0080\n",
      "Epoch 147/500\n",
      "4/4 [==============================] - 0s 3ms/step - loss: 0.0092\n",
      "Epoch 148/500\n",
      "4/4 [==============================] - 0s 2ms/step - loss: 0.0103\n",
      "Epoch 149/500\n",
      "4/4 [==============================] - 0s 3ms/step - loss: 0.0096\n",
      "Epoch 150/500\n",
      "4/4 [==============================] - ETA: 0s - loss: 0.010 - 0s 3ms/step - loss: 0.0070\n",
      "Epoch 151/500\n",
      "4/4 [==============================] - 0s 3ms/step - loss: 0.0054\n",
      "Epoch 152/500\n",
      "4/4 [==============================] - 0s 3ms/step - loss: 0.0120\n",
      "Epoch 153/500\n",
      "4/4 [==============================] - 0s 3ms/step - loss: 0.0055\n",
      "Epoch 154/500\n",
      "4/4 [==============================] - 0s 3ms/step - loss: 0.0064\n",
      "Epoch 155/500\n",
      "4/4 [==============================] - 0s 3ms/step - loss: 0.0042\n",
      "Epoch 156/500\n",
      "4/4 [==============================] - 0s 2ms/step - loss: 0.0025\n",
      "Epoch 157/500\n",
      "4/4 [==============================] - 0s 3ms/step - loss: 0.0020\n",
      "Epoch 158/500\n",
      "4/4 [==============================] - 0s 2ms/step - loss: 0.0017\n",
      "Epoch 159/500\n",
      "4/4 [==============================] - 0s 3ms/step - loss: 0.0021\n",
      "Epoch 160/500\n",
      "4/4 [==============================] - 0s 3ms/step - loss: 0.0038\n",
      "Epoch 161/500\n",
      "4/4 [==============================] - 0s 4ms/step - loss: 0.0033\n",
      "Epoch 162/500\n",
      "4/4 [==============================] - 0s 3ms/step - loss: 0.0052\n",
      "Epoch 163/500\n",
      "4/4 [==============================] - 0s 3ms/step - loss: 0.0026\n",
      "Epoch 164/500\n",
      "4/4 [==============================] - 0s 3ms/step - loss: 0.0014\n",
      "Epoch 165/500\n",
      "4/4 [==============================] - 0s 3ms/step - loss: 0.0011\n",
      "Epoch 166/500\n",
      "4/4 [==============================] - 0s 3ms/step - loss: 7.6731e-04\n",
      "Epoch 167/500\n",
      "4/4 [==============================] - 0s 3ms/step - loss: 6.2899e-04\n",
      "Epoch 168/500\n",
      "4/4 [==============================] - 0s 3ms/step - loss: 0.0013\n",
      "Epoch 169/500\n",
      "4/4 [==============================] - 0s 3ms/step - loss: 8.9906e-04\n",
      "Epoch 170/500\n",
      "4/4 [==============================] - 0s 3ms/step - loss: 5.9418e-04\n",
      "Epoch 171/500\n",
      "4/4 [==============================] - ETA: 0s - loss: 0.002 - 0s 3ms/step - loss: 0.0021\n",
      "Epoch 172/500\n",
      "4/4 [==============================] - 0s 3ms/step - loss: 8.4538e-04\n",
      "Epoch 173/500\n",
      "4/4 [==============================] - 0s 3ms/step - loss: 0.0029\n",
      "Epoch 174/500\n",
      "4/4 [==============================] - 0s 3ms/step - loss: 0.0124\n",
      "Epoch 175/500\n",
      "4/4 [==============================] - 0s 3ms/step - loss: 0.0062\n",
      "Epoch 176/500\n",
      "4/4 [==============================] - 0s 3ms/step - loss: 0.0100\n",
      "Epoch 177/500\n",
      "4/4 [==============================] - 0s 3ms/step - loss: 0.0092\n",
      "Epoch 178/500\n",
      "4/4 [==============================] - 0s 3ms/step - loss: 0.0074\n",
      "Epoch 179/500\n",
      "4/4 [==============================] - 0s 2ms/step - loss: 0.0138\n",
      "Epoch 180/500\n",
      "4/4 [==============================] - 0s 3ms/step - loss: 0.0103\n",
      "Epoch 181/500\n",
      "4/4 [==============================] - 0s 3ms/step - loss: 0.0085\n",
      "Epoch 182/500\n",
      "4/4 [==============================] - 0s 3ms/step - loss: 0.0066\n",
      "Epoch 183/500\n",
      "4/4 [==============================] - 0s 3ms/step - loss: 0.0028\n",
      "Epoch 184/500\n",
      "4/4 [==============================] - 0s 3ms/step - loss: 0.0032\n",
      "Epoch 185/500\n",
      "4/4 [==============================] - 0s 2ms/step - loss: 0.0040\n",
      "Epoch 186/500\n",
      "4/4 [==============================] - 0s 3ms/step - loss: 0.0353\n",
      "Epoch 187/500\n",
      "4/4 [==============================] - 0s 3ms/step - loss: 0.0318\n",
      "Epoch 188/500\n",
      "4/4 [==============================] - 0s 3ms/step - loss: 0.0286\n",
      "Epoch 189/500\n",
      "4/4 [==============================] - 0s 3ms/step - loss: 0.0192\n",
      "Epoch 190/500\n",
      "4/4 [==============================] - 0s 3ms/step - loss: 0.0137\n",
      "Epoch 191/500\n",
      "4/4 [==============================] - 0s 3ms/step - loss: 0.0194\n",
      "Epoch 192/500\n",
      "4/4 [==============================] - 0s 3ms/step - loss: 0.0155\n",
      "Epoch 193/500\n",
      "4/4 [==============================] - 0s 3ms/step - loss: 0.0105\n",
      "Epoch 194/500\n",
      "4/4 [==============================] - 0s 3ms/step - loss: 0.2004\n",
      "Epoch 195/500\n",
      "4/4 [==============================] - 0s 3ms/step - loss: 0.1476\n",
      "Epoch 196/500\n"
     ]
    },
    {
     "name": "stdout",
     "output_type": "stream",
     "text": [
      "4/4 [==============================] - 0s 3ms/step - loss: 0.1067\n",
      "Epoch 197/500\n",
      "4/4 [==============================] - 0s 3ms/step - loss: 0.0842\n",
      "Epoch 198/500\n",
      "4/4 [==============================] - 0s 3ms/step - loss: 0.0688\n",
      "Epoch 199/500\n",
      "4/4 [==============================] - 0s 3ms/step - loss: 0.0493\n",
      "Epoch 200/500\n",
      "4/4 [==============================] - 0s 3ms/step - loss: 0.0404\n",
      "Epoch 201/500\n",
      "4/4 [==============================] - 0s 2ms/step - loss: 0.0447\n",
      "Epoch 202/500\n",
      "4/4 [==============================] - 0s 3ms/step - loss: 0.0471\n",
      "Epoch 203/500\n",
      "4/4 [==============================] - 0s 3ms/step - loss: 0.0246\n",
      "Epoch 204/500\n",
      "4/4 [==============================] - 0s 3ms/step - loss: 0.0196\n",
      "Epoch 205/500\n",
      "4/4 [==============================] - 0s 2ms/step - loss: 0.0175\n",
      "Epoch 206/500\n",
      "4/4 [==============================] - 0s 3ms/step - loss: 0.0163\n",
      "Epoch 207/500\n",
      "4/4 [==============================] - 0s 2ms/step - loss: 0.0194\n",
      "Epoch 208/500\n",
      "4/4 [==============================] - 0s 2ms/step - loss: 0.0123\n",
      "Epoch 209/500\n",
      "4/4 [==============================] - 0s 3ms/step - loss: 0.0268\n",
      "Epoch 210/500\n",
      "4/4 [==============================] - 0s 3ms/step - loss: 0.0201\n",
      "Epoch 211/500\n",
      "4/4 [==============================] - 0s 3ms/step - loss: 0.0147\n",
      "Epoch 212/500\n",
      "4/4 [==============================] - 0s 2ms/step - loss: 0.0097\n",
      "Epoch 213/500\n",
      "4/4 [==============================] - 0s 3ms/step - loss: 0.0236\n",
      "Epoch 214/500\n",
      "4/4 [==============================] - 0s 2ms/step - loss: 0.0093\n",
      "Epoch 215/500\n",
      "4/4 [==============================] - 0s 4ms/step - loss: 0.0100\n",
      "Epoch 216/500\n",
      "4/4 [==============================] - 0s 3ms/step - loss: 0.0106\n",
      "Epoch 217/500\n",
      "4/4 [==============================] - 0s 3ms/step - loss: 0.0114\n",
      "Epoch 218/500\n",
      "4/4 [==============================] - 0s 2ms/step - loss: 0.0077\n",
      "Epoch 219/500\n",
      "4/4 [==============================] - 0s 2ms/step - loss: 0.0082\n",
      "Epoch 220/500\n",
      "4/4 [==============================] - 0s 2ms/step - loss: 0.0057\n",
      "Epoch 221/500\n",
      "4/4 [==============================] - 0s 3ms/step - loss: 0.0058\n",
      "Epoch 222/500\n",
      "4/4 [==============================] - ETA: 0s - loss: 0.002 - 0s 3ms/step - loss: 0.0036\n",
      "Epoch 223/500\n",
      "4/4 [==============================] - 0s 3ms/step - loss: 0.0038\n",
      "Epoch 224/500\n",
      "4/4 [==============================] - 0s 3ms/step - loss: 0.0118\n",
      "Epoch 225/500\n",
      "4/4 [==============================] - 0s 2ms/step - loss: 0.0120\n",
      "Epoch 226/500\n",
      "4/4 [==============================] - 0s 2ms/step - loss: 0.0099\n",
      "Epoch 227/500\n",
      "4/4 [==============================] - 0s 2ms/step - loss: 0.0086\n",
      "Epoch 228/500\n",
      "4/4 [==============================] - 0s 3ms/step - loss: 0.0182\n",
      "Epoch 229/500\n",
      "4/4 [==============================] - 0s 2ms/step - loss: 0.0147\n",
      "Epoch 230/500\n",
      "4/4 [==============================] - 0s 2ms/step - loss: 0.0117\n",
      "Epoch 231/500\n",
      "4/4 [==============================] - 0s 3ms/step - loss: 0.0136\n",
      "Epoch 232/500\n",
      "4/4 [==============================] - 0s 3ms/step - loss: 0.0153\n",
      "Epoch 233/500\n",
      "4/4 [==============================] - 0s 2ms/step - loss: 0.0095\n",
      "Epoch 234/500\n",
      "4/4 [==============================] - 0s 2ms/step - loss: 0.0099\n",
      "Epoch 235/500\n",
      "4/4 [==============================] - 0s 2ms/step - loss: 0.0113\n",
      "Epoch 236/500\n",
      "4/4 [==============================] - 0s 3ms/step - loss: 0.0089\n",
      "Epoch 237/500\n",
      "4/4 [==============================] - 0s 3ms/step - loss: 0.0103\n",
      "Epoch 238/500\n",
      "4/4 [==============================] - 0s 5ms/step - loss: 0.0072\n",
      "Epoch 239/500\n",
      "4/4 [==============================] - 0s 3ms/step - loss: 0.0077\n",
      "Epoch 240/500\n",
      "4/4 [==============================] - ETA: 0s - loss: 0.010 - 0s 3ms/step - loss: 0.0133\n",
      "Epoch 241/500\n",
      "4/4 [==============================] - 0s 2ms/step - loss: 0.0059\n",
      "Epoch 242/500\n",
      "4/4 [==============================] - 0s 3ms/step - loss: 0.0038\n",
      "Epoch 243/500\n",
      "4/4 [==============================] - 0s 3ms/step - loss: 0.0038\n",
      "Epoch 244/500\n",
      "4/4 [==============================] - 0s 3ms/step - loss: 0.0041\n",
      "Epoch 245/500\n",
      "4/4 [==============================] - 0s 3ms/step - loss: 0.0040\n",
      "Epoch 246/500\n",
      "4/4 [==============================] - 0s 3ms/step - loss: 0.0032\n",
      "Epoch 247/500\n",
      "4/4 [==============================] - 0s 2ms/step - loss: 0.0039\n",
      "Epoch 248/500\n",
      "4/4 [==============================] - 0s 3ms/step - loss: 0.0053\n",
      "Epoch 249/500\n",
      "4/4 [==============================] - 0s 2ms/step - loss: 0.0091\n",
      "Epoch 250/500\n",
      "4/4 [==============================] - 0s 2ms/step - loss: 0.0055\n",
      "Epoch 251/500\n",
      "4/4 [==============================] - 0s 2ms/step - loss: 0.0025\n",
      "Epoch 252/500\n",
      "4/4 [==============================] - 0s 2ms/step - loss: 0.0013\n",
      "Epoch 253/500\n",
      "4/4 [==============================] - 0s 2ms/step - loss: 0.0014\n",
      "Epoch 254/500\n",
      "4/4 [==============================] - 0s 3ms/step - loss: 0.0012\n",
      "Epoch 255/500\n",
      "4/4 [==============================] - 0s 2ms/step - loss: 0.0042\n",
      "Epoch 256/500\n",
      "4/4 [==============================] - 0s 2ms/step - loss: 0.0096\n",
      "Epoch 257/500\n",
      "4/4 [==============================] - 0s 2ms/step - loss: 0.0129\n",
      "Epoch 258/500\n",
      "4/4 [==============================] - 0s 3ms/step - loss: 0.0174\n",
      "Epoch 259/500\n",
      "4/4 [==============================] - 0s 3ms/step - loss: 0.0140\n",
      "Epoch 260/500\n",
      "4/4 [==============================] - 0s 2ms/step - loss: 0.0067\n",
      "Epoch 261/500\n",
      "4/4 [==============================] - 0s 2ms/step - loss: 0.0058\n",
      "Epoch 262/500\n",
      "4/4 [==============================] - 0s 2ms/step - loss: 0.0047\n",
      "Epoch 263/500\n",
      "4/4 [==============================] - 0s 3ms/step - loss: 0.0039\n",
      "Epoch 264/500\n",
      "4/4 [==============================] - 0s 4ms/step - loss: 0.0033\n",
      "Epoch 265/500\n",
      "4/4 [==============================] - 0s 3ms/step - loss: 0.0051\n",
      "Epoch 266/500\n",
      "4/4 [==============================] - 0s 2ms/step - loss: 0.0024\n",
      "Epoch 267/500\n",
      "4/4 [==============================] - 0s 2ms/step - loss: 0.0013\n",
      "Epoch 268/500\n",
      "4/4 [==============================] - 0s 3ms/step - loss: 0.0011\n",
      "Epoch 269/500\n",
      "4/4 [==============================] - 0s 2ms/step - loss: 0.0023\n",
      "Epoch 270/500\n",
      "4/4 [==============================] - 0s 2ms/step - loss: 0.0055\n",
      "Epoch 271/500\n",
      "4/4 [==============================] - 0s 3ms/step - loss: 0.0030\n",
      "Epoch 272/500\n",
      "4/4 [==============================] - 0s 2ms/step - loss: 0.0035\n",
      "Epoch 273/500\n",
      "4/4 [==============================] - 0s 3ms/step - loss: 0.0026\n",
      "Epoch 274/500\n",
      "4/4 [==============================] - 0s 2ms/step - loss: 0.0013\n",
      "Epoch 275/500\n",
      "4/4 [==============================] - 0s 3ms/step - loss: 9.9846e-04\n",
      "Epoch 276/500\n",
      "4/4 [==============================] - 0s 3ms/step - loss: 6.3666e-04\n",
      "Epoch 277/500\n",
      "4/4 [==============================] - 0s 3ms/step - loss: 6.6881e-04\n",
      "Epoch 278/500\n",
      "4/4 [==============================] - 0s 3ms/step - loss: 0.0011\n",
      "Epoch 279/500\n",
      "4/4 [==============================] - 0s 3ms/step - loss: 8.7000e-04\n",
      "Epoch 280/500\n",
      "4/4 [==============================] - 0s 3ms/step - loss: 5.4988e-04\n",
      "Epoch 281/500\n",
      "4/4 [==============================] - 0s 2ms/step - loss: 5.6664e-04\n",
      "Epoch 282/500\n",
      "4/4 [==============================] - 0s 3ms/step - loss: 4.0427e-04\n",
      "Epoch 283/500\n",
      "4/4 [==============================] - 0s 3ms/step - loss: 5.2743e-04\n",
      "Epoch 284/500\n",
      "4/4 [==============================] - 0s 2ms/step - loss: 4.0533e-04\n",
      "Epoch 285/500\n",
      "4/4 [==============================] - 0s 3ms/step - loss: 5.0649e-04\n",
      "Epoch 286/500\n",
      "4/4 [==============================] - 0s 2ms/step - loss: 5.7678e-04\n",
      "Epoch 287/500\n",
      "4/4 [==============================] - 0s 3ms/step - loss: 7.4617e-04\n",
      "Epoch 288/500\n",
      "4/4 [==============================] - 0s 3ms/step - loss: 6.6164e-04\n",
      "Epoch 289/500\n",
      "4/4 [==============================] - 0s 3ms/step - loss: 7.3124e-04\n",
      "Epoch 290/500\n",
      "4/4 [==============================] - 0s 2ms/step - loss: 0.0012\n",
      "Epoch 291/500\n",
      "4/4 [==============================] - 0s 2ms/step - loss: 0.0011\n",
      "Epoch 292/500\n",
      "4/4 [==============================] - 0s 3ms/step - loss: 6.6364e-04\n",
      "Epoch 293/500\n",
      "4/4 [==============================] - 0s 3ms/step - loss: 4.6311e-04\n",
      "Epoch 294/500\n",
      "4/4 [==============================] - 0s 3ms/step - loss: 4.4900e-04\n",
      "Epoch 295/500\n",
      "4/4 [==============================] - 0s 3ms/step - loss: 0.0016\n",
      "Epoch 296/500\n",
      "4/4 [==============================] - 0s 2ms/step - loss: 0.0021\n",
      "Epoch 297/500\n"
     ]
    },
    {
     "name": "stdout",
     "output_type": "stream",
     "text": [
      "4/4 [==============================] - 0s 3ms/step - loss: 0.0012\n",
      "Epoch 298/500\n",
      "4/4 [==============================] - 0s 3ms/step - loss: 6.0258e-04\n",
      "Epoch 299/500\n",
      "4/4 [==============================] - 0s 3ms/step - loss: 5.9028e-04\n",
      "Epoch 300/500\n",
      "4/4 [==============================] - 0s 3ms/step - loss: 4.6786e-04\n",
      "Epoch 301/500\n",
      "4/4 [==============================] - 0s 3ms/step - loss: 4.3308e-04\n",
      "Epoch 302/500\n",
      "4/4 [==============================] - 0s 2ms/step - loss: 8.9541e-04\n",
      "Epoch 303/500\n",
      "4/4 [==============================] - 0s 2ms/step - loss: 7.7708e-04\n",
      "Epoch 304/500\n",
      "4/4 [==============================] - 0s 3ms/step - loss: 8.1932e-04\n",
      "Epoch 305/500\n",
      "4/4 [==============================] - 0s 3ms/step - loss: 0.0014\n",
      "Epoch 306/500\n",
      "4/4 [==============================] - 0s 3ms/step - loss: 0.0068\n",
      "Epoch 307/500\n",
      "4/4 [==============================] - 0s 3ms/step - loss: 0.0060\n",
      "Epoch 308/500\n",
      "4/4 [==============================] - 0s 2ms/step - loss: 0.0028\n",
      "Epoch 309/500\n",
      "4/4 [==============================] - 0s 2ms/step - loss: 0.0036\n",
      "Epoch 310/500\n",
      "4/4 [==============================] - 0s 2ms/step - loss: 0.0025\n",
      "Epoch 311/500\n",
      "4/4 [==============================] - 0s 2ms/step - loss: 0.0021\n",
      "Epoch 312/500\n",
      "4/4 [==============================] - 0s 2ms/step - loss: 0.0036\n",
      "Epoch 313/500\n",
      "4/4 [==============================] - 0s 3ms/step - loss: 0.0120\n",
      "Epoch 314/500\n",
      "4/4 [==============================] - 0s 2ms/step - loss: 0.0116\n",
      "Epoch 315/500\n",
      "4/4 [==============================] - 0s 3ms/step - loss: 0.0090\n",
      "Epoch 316/500\n",
      "4/4 [==============================] - 0s 2ms/step - loss: 0.0063\n",
      "Epoch 317/500\n",
      "4/4 [==============================] - 0s 2ms/step - loss: 0.0096\n",
      "Epoch 318/500\n",
      "4/4 [==============================] - 0s 2ms/step - loss: 0.0081\n",
      "Epoch 319/500\n",
      "4/4 [==============================] - 0s 2ms/step - loss: 0.0048\n",
      "Epoch 320/500\n",
      "4/4 [==============================] - 0s 2ms/step - loss: 0.0034\n",
      "Epoch 321/500\n",
      "4/4 [==============================] - 0s 3ms/step - loss: 0.0025\n",
      "Epoch 322/500\n",
      "4/4 [==============================] - 0s 3ms/step - loss: 0.0018\n",
      "Epoch 323/500\n",
      "4/4 [==============================] - 0s 2ms/step - loss: 0.0016\n",
      "Epoch 324/500\n",
      "4/4 [==============================] - 0s 2ms/step - loss: 8.4263e-04\n",
      "Epoch 325/500\n",
      "4/4 [==============================] - 0s 2ms/step - loss: 7.0035e-04\n",
      "Epoch 326/500\n",
      "4/4 [==============================] - 0s 2ms/step - loss: 6.5874e-04\n",
      "Epoch 327/500\n",
      "4/4 [==============================] - 0s 2ms/step - loss: 5.6845e-04\n",
      "Epoch 328/500\n",
      "4/4 [==============================] - 0s 2ms/step - loss: 8.4011e-04\n",
      "Epoch 329/500\n",
      "4/4 [==============================] - 0s 3ms/step - loss: 0.0019\n",
      "Epoch 330/500\n",
      "4/4 [==============================] - 0s 2ms/step - loss: 0.0011\n",
      "Epoch 331/500\n",
      "4/4 [==============================] - 0s 2ms/step - loss: 0.0025\n",
      "Epoch 332/500\n",
      "4/4 [==============================] - 0s 2ms/step - loss: 0.0053\n",
      "Epoch 333/500\n",
      "4/4 [==============================] - 0s 2ms/step - loss: 0.0022\n",
      "Epoch 334/500\n",
      "4/4 [==============================] - 0s 3ms/step - loss: 0.0020\n",
      "Epoch 335/500\n",
      "4/4 [==============================] - 0s 3ms/step - loss: 0.0019\n",
      "Epoch 336/500\n",
      "4/4 [==============================] - 0s 2ms/step - loss: 0.0028\n",
      "Epoch 337/500\n",
      "4/4 [==============================] - 0s 2ms/step - loss: 0.0031\n",
      "Epoch 338/500\n",
      "4/4 [==============================] - 0s 2ms/step - loss: 0.0016\n",
      "Epoch 339/500\n",
      "4/4 [==============================] - 0s 3ms/step - loss: 0.0020\n",
      "Epoch 340/500\n",
      "4/4 [==============================] - 0s 3ms/step - loss: 8.6757e-04\n",
      "Epoch 341/500\n",
      "4/4 [==============================] - 0s 3ms/step - loss: 7.1861e-04\n",
      "Epoch 342/500\n",
      "4/4 [==============================] - 0s 3ms/step - loss: 0.0011\n",
      "Epoch 343/500\n",
      "4/4 [==============================] - 0s 2ms/step - loss: 8.5963e-04\n",
      "Epoch 344/500\n",
      "4/4 [==============================] - 0s 3ms/step - loss: 0.0011\n",
      "Epoch 345/500\n",
      "4/4 [==============================] - 0s 2ms/step - loss: 7.8419e-04\n",
      "Epoch 346/500\n",
      "4/4 [==============================] - 0s 3ms/step - loss: 8.5506e-04\n",
      "Epoch 347/500\n",
      "4/4 [==============================] - 0s 3ms/step - loss: 5.5467e-04\n",
      "Epoch 348/500\n",
      "4/4 [==============================] - 0s 2ms/step - loss: 9.4997e-04\n",
      "Epoch 349/500\n",
      "4/4 [==============================] - 0s 3ms/step - loss: 0.0016\n",
      "Epoch 350/500\n",
      "4/4 [==============================] - ETA: 0s - loss: 2.9114e-0 - 0s 3ms/step - loss: 0.0011\n",
      "Epoch 351/500\n",
      "4/4 [==============================] - 0s 2ms/step - loss: 7.2809e-04\n",
      "Epoch 352/500\n",
      "4/4 [==============================] - 0s 2ms/step - loss: 0.0028\n",
      "Epoch 353/500\n",
      "4/4 [==============================] - 0s 2ms/step - loss: 0.0028\n",
      "Epoch 354/500\n",
      "4/4 [==============================] - 0s 3ms/step - loss: 0.0037\n",
      "Epoch 355/500\n",
      "4/4 [==============================] - 0s 3ms/step - loss: 0.0020\n",
      "Epoch 356/500\n",
      "4/4 [==============================] - 0s 2ms/step - loss: 0.0012\n",
      "Epoch 357/500\n",
      "4/4 [==============================] - 0s 2ms/step - loss: 9.4232e-04\n",
      "Epoch 358/500\n",
      "4/4 [==============================] - 0s 2ms/step - loss: 0.0126\n",
      "Epoch 359/500\n",
      "4/4 [==============================] - 0s 2ms/step - loss: 0.0076\n",
      "Epoch 360/500\n",
      "4/4 [==============================] - 0s 3ms/step - loss: 0.0043\n",
      "Epoch 361/500\n",
      "4/4 [==============================] - 0s 2ms/step - loss: 0.0028\n",
      "Epoch 362/500\n",
      "4/4 [==============================] - 0s 2ms/step - loss: 0.0019\n",
      "Epoch 363/500\n",
      "4/4 [==============================] - 0s 2ms/step - loss: 0.0021\n",
      "Epoch 364/500\n",
      "4/4 [==============================] - 0s 2ms/step - loss: 0.0041\n",
      "Epoch 365/500\n",
      "4/4 [==============================] - 0s 3ms/step - loss: 0.0019\n",
      "Epoch 366/500\n",
      "4/4 [==============================] - 0s 2ms/step - loss: 0.0022\n",
      "Epoch 367/500\n",
      "4/4 [==============================] - 0s 3ms/step - loss: 0.0017\n",
      "Epoch 368/500\n",
      "4/4 [==============================] - 0s 3ms/step - loss: 0.0012\n",
      "Epoch 369/500\n",
      "4/4 [==============================] - 0s 3ms/step - loss: 9.0623e-04\n",
      "Epoch 370/500\n",
      "4/4 [==============================] - 0s 2ms/step - loss: 5.6955e-04\n",
      "Epoch 371/500\n",
      "4/4 [==============================] - 0s 2ms/step - loss: 5.7707e-04\n",
      "Epoch 372/500\n",
      "4/4 [==============================] - 0s 3ms/step - loss: 0.0010\n",
      "Epoch 373/500\n",
      "4/4 [==============================] - 0s 3ms/step - loss: 0.0017\n",
      "Epoch 374/500\n",
      "4/4 [==============================] - 0s 3ms/step - loss: 0.0013\n",
      "Epoch 375/500\n",
      "4/4 [==============================] - 0s 2ms/step - loss: 0.0022\n",
      "Epoch 376/500\n",
      "4/4 [==============================] - 0s 2ms/step - loss: 0.0025\n",
      "Epoch 377/500\n",
      "4/4 [==============================] - 0s 2ms/step - loss: 0.0011\n",
      "Epoch 378/500\n",
      "4/4 [==============================] - 0s 2ms/step - loss: 0.0011\n",
      "Epoch 379/500\n",
      "4/4 [==============================] - 0s 3ms/step - loss: 5.1374e-04\n",
      "Epoch 380/500\n",
      "4/4 [==============================] - 0s 3ms/step - loss: 5.1399e-04\n",
      "Epoch 381/500\n",
      "4/4 [==============================] - 0s 3ms/step - loss: 0.0017\n",
      "Epoch 382/500\n",
      "4/4 [==============================] - 0s 2ms/step - loss: 0.0012\n",
      "Epoch 383/500\n",
      "4/4 [==============================] - 0s 2ms/step - loss: 8.0661e-04\n",
      "Epoch 384/500\n",
      "4/4 [==============================] - 0s 2ms/step - loss: 8.4671e-04\n",
      "Epoch 385/500\n",
      "4/4 [==============================] - 0s 3ms/step - loss: 0.0011\n",
      "Epoch 386/500\n",
      "4/4 [==============================] - 0s 2ms/step - loss: 7.0081e-04\n",
      "Epoch 387/500\n",
      "4/4 [==============================] - 0s 2ms/step - loss: 5.6318e-04\n",
      "Epoch 388/500\n",
      "4/4 [==============================] - 0s 2ms/step - loss: 6.3381e-04\n",
      "Epoch 389/500\n",
      "4/4 [==============================] - 0s 3ms/step - loss: 4.1846e-04\n",
      "Epoch 390/500\n",
      "4/4 [==============================] - 0s 2ms/step - loss: 4.3078e-04\n",
      "Epoch 391/500\n",
      "4/4 [==============================] - 0s 3ms/step - loss: 3.3566e-04\n",
      "Epoch 392/500\n",
      "4/4 [==============================] - 0s 2ms/step - loss: 5.2992e-04\n",
      "Epoch 393/500\n",
      "4/4 [==============================] - 0s 3ms/step - loss: 3.1389e-04\n",
      "Epoch 394/500\n",
      "4/4 [==============================] - 0s 3ms/step - loss: 2.2307e-04\n",
      "Epoch 395/500\n",
      "4/4 [==============================] - 0s 3ms/step - loss: 2.1066e-04\n",
      "Epoch 396/500\n",
      "4/4 [==============================] - 0s 3ms/step - loss: 1.8164e-04\n",
      "Epoch 397/500\n"
     ]
    },
    {
     "name": "stdout",
     "output_type": "stream",
     "text": [
      "4/4 [==============================] - 0s 2ms/step - loss: 1.7410e-04\n",
      "Epoch 398/500\n",
      "4/4 [==============================] - 0s 3ms/step - loss: 2.2063e-04\n",
      "Epoch 399/500\n",
      "4/4 [==============================] - 0s 3ms/step - loss: 2.6875e-04\n",
      "Epoch 400/500\n",
      "4/4 [==============================] - 0s 3ms/step - loss: 2.5012e-04\n",
      "Epoch 401/500\n",
      "4/4 [==============================] - 0s 3ms/step - loss: 6.7749e-04\n",
      "Epoch 402/500\n",
      "4/4 [==============================] - 0s 2ms/step - loss: 9.6817e-04\n",
      "Epoch 403/500\n",
      "4/4 [==============================] - 0s 3ms/step - loss: 0.0011\n",
      "Epoch 404/500\n",
      "4/4 [==============================] - 0s 2ms/step - loss: 0.0011\n",
      "Epoch 405/500\n",
      "4/4 [==============================] - 0s 2ms/step - loss: 0.0020\n",
      "Epoch 406/500\n",
      "4/4 [==============================] - 0s 2ms/step - loss: 0.0013\n",
      "Epoch 407/500\n",
      "4/4 [==============================] - 0s 2ms/step - loss: 0.0026\n",
      "Epoch 408/500\n",
      "4/4 [==============================] - 0s 2ms/step - loss: 0.0051\n",
      "Epoch 409/500\n",
      "4/4 [==============================] - 0s 3ms/step - loss: 0.0077\n",
      "Epoch 410/500\n",
      "4/4 [==============================] - 0s 3ms/step - loss: 0.0088\n",
      "Epoch 411/500\n",
      "4/4 [==============================] - 0s 2ms/step - loss: 0.0073\n",
      "Epoch 412/500\n",
      "4/4 [==============================] - 0s 2ms/step - loss: 0.0089\n",
      "Epoch 413/500\n",
      "4/4 [==============================] - 0s 2ms/step - loss: 0.0059\n",
      "Epoch 414/500\n",
      "4/4 [==============================] - 0s 2ms/step - loss: 0.0023\n",
      "Epoch 415/500\n",
      "4/4 [==============================] - 0s 3ms/step - loss: 0.0017\n",
      "Epoch 416/500\n",
      "4/4 [==============================] - 0s 2ms/step - loss: 0.0011\n",
      "Epoch 417/500\n",
      "4/4 [==============================] - 0s 2ms/step - loss: 0.0023\n",
      "Epoch 418/500\n",
      "4/4 [==============================] - 0s 2ms/step - loss: 0.0020\n",
      "Epoch 419/500\n",
      "4/4 [==============================] - 0s 2ms/step - loss: 0.0011\n",
      "Epoch 420/500\n",
      "4/4 [==============================] - 0s 2ms/step - loss: 8.7972e-04\n",
      "Epoch 421/500\n",
      "4/4 [==============================] - 0s 3ms/step - loss: 7.0501e-04\n",
      "Epoch 422/500\n",
      "4/4 [==============================] - 0s 3ms/step - loss: 0.0013\n",
      "Epoch 423/500\n",
      "4/4 [==============================] - 0s 2ms/step - loss: 0.0023\n",
      "Epoch 424/500\n",
      "4/4 [==============================] - 0s 2ms/step - loss: 0.0013\n",
      "Epoch 425/500\n",
      "4/4 [==============================] - 0s 2ms/step - loss: 7.4566e-04\n",
      "Epoch 426/500\n",
      "4/4 [==============================] - 0s 2ms/step - loss: 0.0010\n",
      "Epoch 427/500\n",
      "4/4 [==============================] - 0s 3ms/step - loss: 6.6104e-04\n",
      "Epoch 428/500\n",
      "4/4 [==============================] - 0s 2ms/step - loss: 3.6714e-04\n",
      "Epoch 429/500\n",
      "4/4 [==============================] - 0s 3ms/step - loss: 2.6459e-04\n",
      "Epoch 430/500\n",
      "4/4 [==============================] - 0s 3ms/step - loss: 2.3833e-04\n",
      "Epoch 431/500\n",
      "4/4 [==============================] - 0s 2ms/step - loss: 1.8950e-04\n",
      "Epoch 432/500\n",
      "4/4 [==============================] - 0s 3ms/step - loss: 1.6841e-04\n",
      "Epoch 433/500\n",
      "4/4 [==============================] - 0s 3ms/step - loss: 1.5344e-04\n",
      "Epoch 434/500\n",
      "4/4 [==============================] - 0s 3ms/step - loss: 1.5061e-04\n",
      "Epoch 435/500\n",
      "4/4 [==============================] - 0s 2ms/step - loss: 1.3745e-04\n",
      "Epoch 436/500\n",
      "4/4 [==============================] - 0s 2ms/step - loss: 1.4851e-04\n",
      "Epoch 437/500\n",
      "4/4 [==============================] - 0s 3ms/step - loss: 1.3612e-04\n",
      "Epoch 438/500\n",
      "4/4 [==============================] - 0s 2ms/step - loss: 1.2429e-04\n",
      "Epoch 439/500\n",
      "4/4 [==============================] - 0s 2ms/step - loss: 1.4786e-04\n",
      "Epoch 440/500\n",
      "4/4 [==============================] - 0s 2ms/step - loss: 1.4713e-04\n",
      "Epoch 441/500\n",
      "4/4 [==============================] - 0s 2ms/step - loss: 2.0229e-04\n",
      "Epoch 442/500\n",
      "4/4 [==============================] - 0s 2ms/step - loss: 4.3328e-04\n",
      "Epoch 443/500\n",
      "4/4 [==============================] - 0s 3ms/step - loss: 4.5383e-04\n",
      "Epoch 444/500\n",
      "4/4 [==============================] - 0s 2ms/step - loss: 7.1436e-04\n",
      "Epoch 445/500\n",
      "4/4 [==============================] - 0s 2ms/step - loss: 0.0035\n",
      "Epoch 446/500\n",
      "4/4 [==============================] - 0s 2ms/step - loss: 0.0065\n",
      "Epoch 447/500\n",
      "4/4 [==============================] - 0s 3ms/step - loss: 0.0036\n",
      "Epoch 448/500\n",
      "4/4 [==============================] - 0s 2ms/step - loss: 0.0030\n",
      "Epoch 449/500\n",
      "4/4 [==============================] - 0s 2ms/step - loss: 0.0018\n",
      "Epoch 450/500\n",
      "4/4 [==============================] - 0s 2ms/step - loss: 0.0015\n",
      "Epoch 451/500\n",
      "4/4 [==============================] - 0s 2ms/step - loss: 0.0022\n",
      "Epoch 452/500\n",
      "4/4 [==============================] - 0s 2ms/step - loss: 0.0034\n",
      "Epoch 453/500\n",
      "4/4 [==============================] - 0s 2ms/step - loss: 0.0125\n",
      "Epoch 454/500\n",
      "4/4 [==============================] - 0s 2ms/step - loss: 0.0095\n",
      "Epoch 455/500\n",
      "4/4 [==============================] - 0s 2ms/step - loss: 0.0053\n",
      "Epoch 456/500\n",
      "4/4 [==============================] - 0s 2ms/step - loss: 0.0053\n",
      "Epoch 457/500\n",
      "4/4 [==============================] - 0s 2ms/step - loss: 0.0069\n",
      "Epoch 458/500\n",
      "4/4 [==============================] - 0s 3ms/step - loss: 0.0037\n",
      "Epoch 459/500\n",
      "4/4 [==============================] - 0s 3ms/step - loss: 0.0028\n",
      "Epoch 460/500\n",
      "4/4 [==============================] - 0s 3ms/step - loss: 0.0028\n",
      "Epoch 461/500\n",
      "4/4 [==============================] - 0s 3ms/step - loss: 0.0027\n",
      "Epoch 462/500\n",
      "4/4 [==============================] - 0s 3ms/step - loss: 0.0013\n",
      "Epoch 463/500\n",
      "4/4 [==============================] - 0s 2ms/step - loss: 0.0010\n",
      "Epoch 464/500\n",
      "4/4 [==============================] - 0s 3ms/step - loss: 0.0016\n",
      "Epoch 465/500\n",
      "4/4 [==============================] - 0s 3ms/step - loss: 0.0035\n",
      "Epoch 466/500\n",
      "4/4 [==============================] - 0s 4ms/step - loss: 0.0040\n",
      "Epoch 467/500\n",
      "4/4 [==============================] - 0s 3ms/step - loss: 0.0045\n",
      "Epoch 468/500\n",
      "4/4 [==============================] - 0s 3ms/step - loss: 0.0038\n",
      "Epoch 469/500\n",
      "4/4 [==============================] - 0s 3ms/step - loss: 0.0047\n",
      "Epoch 470/500\n",
      "4/4 [==============================] - 0s 3ms/step - loss: 0.0053\n",
      "Epoch 471/500\n",
      "4/4 [==============================] - 0s 2ms/step - loss: 0.0048\n",
      "Epoch 472/500\n",
      "4/4 [==============================] - 0s 3ms/step - loss: 0.0047\n",
      "Epoch 473/500\n",
      "4/4 [==============================] - 0s 3ms/step - loss: 0.0055\n",
      "Epoch 474/500\n",
      "4/4 [==============================] - 0s 2ms/step - loss: 0.0032\n",
      "Epoch 475/500\n",
      "4/4 [==============================] - 0s 2ms/step - loss: 0.0028\n",
      "Epoch 476/500\n",
      "4/4 [==============================] - 0s 3ms/step - loss: 0.0018\n",
      "Epoch 477/500\n",
      "4/4 [==============================] - 0s 2ms/step - loss: 0.0027\n",
      "Epoch 478/500\n",
      "4/4 [==============================] - 0s 2ms/step - loss: 0.0026\n",
      "Epoch 479/500\n",
      "4/4 [==============================] - 0s 3ms/step - loss: 0.0020\n",
      "Epoch 480/500\n",
      "4/4 [==============================] - 0s 3ms/step - loss: 0.0027\n",
      "Epoch 481/500\n",
      "4/4 [==============================] - 0s 3ms/step - loss: 0.0017\n",
      "Epoch 482/500\n",
      "4/4 [==============================] - 0s 2ms/step - loss: 0.0013\n",
      "Epoch 483/500\n",
      "4/4 [==============================] - 0s 2ms/step - loss: 5.6527e-04\n",
      "Epoch 484/500\n",
      "4/4 [==============================] - 0s 2ms/step - loss: 4.5430e-04\n",
      "Epoch 485/500\n",
      "4/4 [==============================] - 0s 3ms/step - loss: 3.5885e-04\n",
      "Epoch 486/500\n",
      "4/4 [==============================] - 0s 3ms/step - loss: 3.5194e-04\n",
      "Epoch 487/500\n",
      "4/4 [==============================] - 0s 3ms/step - loss: 2.6053e-04\n",
      "Epoch 488/500\n",
      "4/4 [==============================] - 0s 3ms/step - loss: 2.5084e-04\n",
      "Epoch 489/500\n",
      "4/4 [==============================] - 0s 2ms/step - loss: 3.1228e-04\n",
      "Epoch 490/500\n",
      "4/4 [==============================] - 0s 2ms/step - loss: 5.6235e-04\n",
      "Epoch 491/500\n",
      "4/4 [==============================] - 0s 2ms/step - loss: 4.1498e-04\n",
      "Epoch 492/500\n",
      "4/4 [==============================] - 0s 3ms/step - loss: 6.9356e-04\n",
      "Epoch 493/500\n",
      "4/4 [==============================] - 0s 3ms/step - loss: 0.0020\n",
      "Epoch 494/500\n",
      "4/4 [==============================] - 0s 3ms/step - loss: 0.0029\n",
      "Epoch 495/500\n",
      "4/4 [==============================] - 0s 2ms/step - loss: 0.0061\n",
      "Epoch 496/500\n",
      "4/4 [==============================] - 0s 3ms/step - loss: 0.0047\n",
      "Epoch 497/500\n"
     ]
    },
    {
     "name": "stdout",
     "output_type": "stream",
     "text": [
      "4/4 [==============================] - 0s 2ms/step - loss: 0.0034\n",
      "Epoch 498/500\n",
      "4/4 [==============================] - 0s 3ms/step - loss: 0.0030\n",
      "Epoch 499/500\n",
      "4/4 [==============================] - 0s 2ms/step - loss: 0.0035\n",
      "Epoch 500/500\n",
      "4/4 [==============================] - 0s 3ms/step - loss: 0.0015\n"
     ]
    }
   ],
   "source": [
    "model = build_model(200)\n",
    "model.fit(x = x_train, y = y_train,\n",
    "          batch_size=200,epochs=500)\n",
    "y_pred = model.predict(x_test)"
   ]
  },
  {
   "cell_type": "code",
   "execution_count": 994,
   "metadata": {},
   "outputs": [
    {
     "name": "stdout",
     "output_type": "stream",
     "text": [
      "MAE: 0.02433335939108321\n",
      "MSE: 0.0013911271976834512\n",
      "RMSE: 0.037297817599471574\n",
      "VarScore: 0.9952924426500486\n"
     ]
    }
   ],
   "source": [
    "print('MAE:', metrics.mean_absolute_error(y_test, y_pred))  \n",
    "print('MSE:', metrics.mean_squared_error(y_test, y_pred))  \n",
    "print('RMSE:', np.sqrt(metrics.mean_squared_error(y_test, y_pred)))\n",
    "print('VarScore:',metrics.explained_variance_score(y_test,y_pred))"
   ]
  },
  {
   "cell_type": "code",
   "execution_count": 995,
   "metadata": {},
   "outputs": [],
   "source": [
    "MAE.append(metrics.mean_absolute_error(y_test, y_pred))\n",
    "MSE.append(metrics.mean_squared_error(y_test, y_pred))\n",
    "RMSE.append(np.sqrt(metrics.mean_squared_error(y_test, y_pred)))\n",
    "Var.append(metrics.explained_variance_score(y_test,y_pred))"
   ]
  },
  {
   "cell_type": "markdown",
   "metadata": {},
   "source": [
    "# Support vector Machine "
   ]
  },
  {
   "cell_type": "code",
   "execution_count": 996,
   "metadata": {},
   "outputs": [],
   "source": [
    "from sklearn import svm"
   ]
  },
  {
   "cell_type": "code",
   "execution_count": 997,
   "metadata": {},
   "outputs": [
    {
     "name": "stderr",
     "output_type": "stream",
     "text": [
      "C:\\Users\\Supernova\\anaconda3\\lib\\site-packages\\sklearn\\svm\\_base.py:976: ConvergenceWarning: Liblinear failed to converge, increase the number of iterations.\n",
      "  warnings.warn(\"Liblinear failed to converge, increase \"\n"
     ]
    }
   ],
   "source": [
    "linear_svc = svm.LinearSVC()\n",
    "linear_svc.fit(x_train, y_train)\n",
    "y_pred = linear_svc.predict(x_test)"
   ]
  },
  {
   "cell_type": "code",
   "execution_count": 998,
   "metadata": {},
   "outputs": [
    {
     "name": "stdout",
     "output_type": "stream",
     "text": [
      "MAE: 0.0\n",
      "MSE: 0.0\n",
      "RMSE: 0.0\n",
      "VarScore: 1.0\n"
     ]
    }
   ],
   "source": [
    "print('MAE:', metrics.mean_absolute_error(y_test, y_pred))  \n",
    "print('MSE:', metrics.mean_squared_error(y_test, y_pred))  \n",
    "print('RMSE:', np.sqrt(metrics.mean_squared_error(y_test, y_pred)))\n",
    "print('VarScore:',metrics.explained_variance_score(y_test,y_pred))"
   ]
  },
  {
   "cell_type": "code",
   "execution_count": 999,
   "metadata": {},
   "outputs": [],
   "source": [
    "MAE.append(metrics.mean_absolute_error(y_test, y_pred))\n",
    "MSE.append(metrics.mean_squared_error(y_test, y_pred))\n",
    "RMSE.append(np.sqrt(metrics.mean_squared_error(y_test, y_pred)))\n",
    "Var.append(metrics.explained_variance_score(y_test,y_pred))"
   ]
  },
  {
   "cell_type": "code",
   "execution_count": 1001,
   "metadata": {},
   "outputs": [],
   "source": [
    "Dict = {'models' : [\"Logstic Regression\", \"K neighbor classifier \",\"Neural Network\",\"Support Vector Machine\"],\n",
    "       \"MAE\" : MAE,\n",
    "       \"MSE\": MSE,\n",
    "       \"RMSE\": RMSE,\n",
    "       \"VarScore\":Var}\n",
    "data = pd.DataFrame(Dict)"
   ]
  },
  {
   "cell_type": "code",
   "execution_count": 1002,
   "metadata": {},
   "outputs": [
    {
     "data": {
      "text/html": [
       "<div>\n",
       "<style scoped>\n",
       "    .dataframe tbody tr th:only-of-type {\n",
       "        vertical-align: middle;\n",
       "    }\n",
       "\n",
       "    .dataframe tbody tr th {\n",
       "        vertical-align: top;\n",
       "    }\n",
       "\n",
       "    .dataframe thead th {\n",
       "        text-align: right;\n",
       "    }\n",
       "</style>\n",
       "<table border=\"1\" class=\"dataframe\">\n",
       "  <thead>\n",
       "    <tr style=\"text-align: right;\">\n",
       "      <th></th>\n",
       "      <th>models</th>\n",
       "      <th>MAE</th>\n",
       "      <th>MSE</th>\n",
       "      <th>RMSE</th>\n",
       "      <th>VarScore</th>\n",
       "    </tr>\n",
       "  </thead>\n",
       "  <tbody>\n",
       "    <tr>\n",
       "      <th>0</th>\n",
       "      <td>Logstic Regression</td>\n",
       "      <td>0.000000</td>\n",
       "      <td>0.000000</td>\n",
       "      <td>0.000000</td>\n",
       "      <td>1.000000</td>\n",
       "    </tr>\n",
       "    <tr>\n",
       "      <th>1</th>\n",
       "      <td>K neighbor classifier</td>\n",
       "      <td>0.224719</td>\n",
       "      <td>0.224719</td>\n",
       "      <td>0.474045</td>\n",
       "      <td>0.100405</td>\n",
       "    </tr>\n",
       "    <tr>\n",
       "      <th>2</th>\n",
       "      <td>Neural Network</td>\n",
       "      <td>0.024333</td>\n",
       "      <td>0.001391</td>\n",
       "      <td>0.037298</td>\n",
       "      <td>0.995292</td>\n",
       "    </tr>\n",
       "    <tr>\n",
       "      <th>3</th>\n",
       "      <td>Support Vector Machine</td>\n",
       "      <td>0.000000</td>\n",
       "      <td>0.000000</td>\n",
       "      <td>0.000000</td>\n",
       "      <td>1.000000</td>\n",
       "    </tr>\n",
       "  </tbody>\n",
       "</table>\n",
       "</div>"
      ],
      "text/plain": [
       "                   models       MAE       MSE      RMSE  VarScore\n",
       "0      Logstic Regression  0.000000  0.000000  0.000000  1.000000\n",
       "1  K neighbor classifier   0.224719  0.224719  0.474045  0.100405\n",
       "2          Neural Network  0.024333  0.001391  0.037298  0.995292\n",
       "3  Support Vector Machine  0.000000  0.000000  0.000000  1.000000"
      ]
     },
     "execution_count": 1002,
     "metadata": {},
     "output_type": "execute_result"
    }
   ],
   "source": [
    "data"
   ]
  },
  {
   "cell_type": "code",
   "execution_count": null,
   "metadata": {},
   "outputs": [],
   "source": []
  },
  {
   "cell_type": "code",
   "execution_count": null,
   "metadata": {},
   "outputs": [],
   "source": []
  }
 ],
 "metadata": {
  "kernelspec": {
   "display_name": "Python 3",
   "language": "python",
   "name": "python3"
  },
  "language_info": {
   "codemirror_mode": {
    "name": "ipython",
    "version": 3
   },
   "file_extension": ".py",
   "mimetype": "text/x-python",
   "name": "python",
   "nbconvert_exporter": "python",
   "pygments_lexer": "ipython3",
   "version": "3.8.3"
  }
 },
 "nbformat": 4,
 "nbformat_minor": 4
}
