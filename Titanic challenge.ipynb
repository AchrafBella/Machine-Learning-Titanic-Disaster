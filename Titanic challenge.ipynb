{
 "cells": [
  {
   "cell_type": "markdown",
   "metadata": {},
   "source": [
    "# Titanic challenge"
   ]
  },
  {
   "cell_type": "markdown",
   "metadata": {},
   "source": [
    "This problem is proposed by kaggle competition the main objectif is to predict which passengers survived the Titanic shipwreck."
   ]
  },
  {
   "cell_type": "markdown",
   "metadata": {},
   "source": [
    "The dataset used in this notebook are proposed by kaggle : https://www.kaggle.com/c/titanic"
   ]
  },
  {
   "cell_type": "markdown",
   "metadata": {},
   "source": [
    "Steps\n",
    "Acquiring the data\n",
    "Analysing the data\n",
    "Visualizing the data\n",
    "Completing the data\n",
    "Correcting the data\n",
    "Classifying using a model\n"
   ]
  },
  {
   "cell_type": "code",
   "execution_count": 1224,
   "metadata": {},
   "outputs": [],
   "source": [
    "#importing the necessary packages\n",
    "import pandas as pd\n",
    "import numpy as np\n",
    "import seaborn as sns\n",
    "from matplotlib import pyplot as plt\n",
    "from sklearn.preprocessing import LabelEncoder\n",
    "from sklearn import metrics\n",
    "import keras \n",
    "from keras.models import Sequential\n",
    "from keras.layers import Dense, Dropout"
   ]
  },
  {
   "cell_type": "markdown",
   "metadata": {},
   "source": [
    "# Acquire the data"
   ]
  },
  {
   "cell_type": "code",
   "execution_count": 1225,
   "metadata": {},
   "outputs": [],
   "source": [
    "#importing the dataset\n",
    "trainning_dataset = pd.read_csv('train.csv')\n",
    "testing_dataset   = pd.read_csv('test.csv')\n",
    "dataset           = trainning_dataset.append(testing_dataset)"
   ]
  },
  {
   "cell_type": "code",
   "execution_count": 1226,
   "metadata": {},
   "outputs": [
    {
     "name": "stdout",
     "output_type": "stream",
     "text": [
      " training dataset shape (891, 12)\n",
      " testing dataset shape (891, 12)\n",
      " all dataset shape (1309, 12)\n"
     ]
    }
   ],
   "source": [
    "#dataset shapes\n",
    "print(\" training dataset shape\", trainning_dataset.shape)\n",
    "print(\" testing dataset shape\", trainning_dataset.shape)\n",
    "print(\" all dataset shape\", dataset.shape)"
   ]
  },
  {
   "cell_type": "markdown",
   "metadata": {},
   "source": [
    "# Analysing the data"
   ]
  },
  {
   "cell_type": "code",
   "execution_count": 1227,
   "metadata": {},
   "outputs": [
    {
     "data": {
      "text/html": [
       "<div>\n",
       "<style scoped>\n",
       "    .dataframe tbody tr th:only-of-type {\n",
       "        vertical-align: middle;\n",
       "    }\n",
       "\n",
       "    .dataframe tbody tr th {\n",
       "        vertical-align: top;\n",
       "    }\n",
       "\n",
       "    .dataframe thead th {\n",
       "        text-align: right;\n",
       "    }\n",
       "</style>\n",
       "<table border=\"1\" class=\"dataframe\">\n",
       "  <thead>\n",
       "    <tr style=\"text-align: right;\">\n",
       "      <th></th>\n",
       "      <th>PassengerId</th>\n",
       "      <th>Survived</th>\n",
       "      <th>Pclass</th>\n",
       "      <th>Name</th>\n",
       "      <th>Sex</th>\n",
       "      <th>Age</th>\n",
       "      <th>SibSp</th>\n",
       "      <th>Parch</th>\n",
       "      <th>Ticket</th>\n",
       "      <th>Fare</th>\n",
       "      <th>Cabin</th>\n",
       "      <th>Embarked</th>\n",
       "    </tr>\n",
       "  </thead>\n",
       "  <tbody>\n",
       "    <tr>\n",
       "      <th>0</th>\n",
       "      <td>1</td>\n",
       "      <td>0</td>\n",
       "      <td>3</td>\n",
       "      <td>Braund, Mr. Owen Harris</td>\n",
       "      <td>male</td>\n",
       "      <td>22.0</td>\n",
       "      <td>1</td>\n",
       "      <td>0</td>\n",
       "      <td>A/5 21171</td>\n",
       "      <td>7.2500</td>\n",
       "      <td>NaN</td>\n",
       "      <td>S</td>\n",
       "    </tr>\n",
       "    <tr>\n",
       "      <th>1</th>\n",
       "      <td>2</td>\n",
       "      <td>1</td>\n",
       "      <td>1</td>\n",
       "      <td>Cumings, Mrs. John Bradley (Florence Briggs Th...</td>\n",
       "      <td>female</td>\n",
       "      <td>38.0</td>\n",
       "      <td>1</td>\n",
       "      <td>0</td>\n",
       "      <td>PC 17599</td>\n",
       "      <td>71.2833</td>\n",
       "      <td>C85</td>\n",
       "      <td>C</td>\n",
       "    </tr>\n",
       "    <tr>\n",
       "      <th>2</th>\n",
       "      <td>3</td>\n",
       "      <td>1</td>\n",
       "      <td>3</td>\n",
       "      <td>Heikkinen, Miss. Laina</td>\n",
       "      <td>female</td>\n",
       "      <td>26.0</td>\n",
       "      <td>0</td>\n",
       "      <td>0</td>\n",
       "      <td>STON/O2. 3101282</td>\n",
       "      <td>7.9250</td>\n",
       "      <td>NaN</td>\n",
       "      <td>S</td>\n",
       "    </tr>\n",
       "    <tr>\n",
       "      <th>3</th>\n",
       "      <td>4</td>\n",
       "      <td>1</td>\n",
       "      <td>1</td>\n",
       "      <td>Futrelle, Mrs. Jacques Heath (Lily May Peel)</td>\n",
       "      <td>female</td>\n",
       "      <td>35.0</td>\n",
       "      <td>1</td>\n",
       "      <td>0</td>\n",
       "      <td>113803</td>\n",
       "      <td>53.1000</td>\n",
       "      <td>C123</td>\n",
       "      <td>S</td>\n",
       "    </tr>\n",
       "    <tr>\n",
       "      <th>4</th>\n",
       "      <td>5</td>\n",
       "      <td>0</td>\n",
       "      <td>3</td>\n",
       "      <td>Allen, Mr. William Henry</td>\n",
       "      <td>male</td>\n",
       "      <td>35.0</td>\n",
       "      <td>0</td>\n",
       "      <td>0</td>\n",
       "      <td>373450</td>\n",
       "      <td>8.0500</td>\n",
       "      <td>NaN</td>\n",
       "      <td>S</td>\n",
       "    </tr>\n",
       "  </tbody>\n",
       "</table>\n",
       "</div>"
      ],
      "text/plain": [
       "   PassengerId  Survived  Pclass  \\\n",
       "0            1         0       3   \n",
       "1            2         1       1   \n",
       "2            3         1       3   \n",
       "3            4         1       1   \n",
       "4            5         0       3   \n",
       "\n",
       "                                                Name     Sex   Age  SibSp  \\\n",
       "0                            Braund, Mr. Owen Harris    male  22.0      1   \n",
       "1  Cumings, Mrs. John Bradley (Florence Briggs Th...  female  38.0      1   \n",
       "2                             Heikkinen, Miss. Laina  female  26.0      0   \n",
       "3       Futrelle, Mrs. Jacques Heath (Lily May Peel)  female  35.0      1   \n",
       "4                           Allen, Mr. William Henry    male  35.0      0   \n",
       "\n",
       "   Parch            Ticket     Fare Cabin Embarked  \n",
       "0      0         A/5 21171   7.2500   NaN        S  \n",
       "1      0          PC 17599  71.2833   C85        C  \n",
       "2      0  STON/O2. 3101282   7.9250   NaN        S  \n",
       "3      0            113803  53.1000  C123        S  \n",
       "4      0            373450   8.0500   NaN        S  "
      ]
     },
     "execution_count": 1227,
     "metadata": {},
     "output_type": "execute_result"
    }
   ],
   "source": [
    "#let's take sight to our dataset\n",
    "trainning_dataset.head()"
   ]
  },
  {
   "cell_type": "code",
   "execution_count": 1228,
   "metadata": {},
   "outputs": [
    {
     "data": {
      "text/html": [
       "<div>\n",
       "<style scoped>\n",
       "    .dataframe tbody tr th:only-of-type {\n",
       "        vertical-align: middle;\n",
       "    }\n",
       "\n",
       "    .dataframe tbody tr th {\n",
       "        vertical-align: top;\n",
       "    }\n",
       "\n",
       "    .dataframe thead th {\n",
       "        text-align: right;\n",
       "    }\n",
       "</style>\n",
       "<table border=\"1\" class=\"dataframe\">\n",
       "  <thead>\n",
       "    <tr style=\"text-align: right;\">\n",
       "      <th></th>\n",
       "      <th>PassengerId</th>\n",
       "      <th>Survived</th>\n",
       "      <th>Pclass</th>\n",
       "      <th>Age</th>\n",
       "      <th>SibSp</th>\n",
       "      <th>Parch</th>\n",
       "      <th>Fare</th>\n",
       "    </tr>\n",
       "  </thead>\n",
       "  <tbody>\n",
       "    <tr>\n",
       "      <th>count</th>\n",
       "      <td>1309.000000</td>\n",
       "      <td>891.000000</td>\n",
       "      <td>1309.000000</td>\n",
       "      <td>1046.000000</td>\n",
       "      <td>1309.000000</td>\n",
       "      <td>1309.000000</td>\n",
       "      <td>1308.000000</td>\n",
       "    </tr>\n",
       "    <tr>\n",
       "      <th>mean</th>\n",
       "      <td>655.000000</td>\n",
       "      <td>0.383838</td>\n",
       "      <td>2.294882</td>\n",
       "      <td>29.881138</td>\n",
       "      <td>0.498854</td>\n",
       "      <td>0.385027</td>\n",
       "      <td>33.295479</td>\n",
       "    </tr>\n",
       "    <tr>\n",
       "      <th>std</th>\n",
       "      <td>378.020061</td>\n",
       "      <td>0.486592</td>\n",
       "      <td>0.837836</td>\n",
       "      <td>14.413493</td>\n",
       "      <td>1.041658</td>\n",
       "      <td>0.865560</td>\n",
       "      <td>51.758668</td>\n",
       "    </tr>\n",
       "    <tr>\n",
       "      <th>min</th>\n",
       "      <td>1.000000</td>\n",
       "      <td>0.000000</td>\n",
       "      <td>1.000000</td>\n",
       "      <td>0.170000</td>\n",
       "      <td>0.000000</td>\n",
       "      <td>0.000000</td>\n",
       "      <td>0.000000</td>\n",
       "    </tr>\n",
       "    <tr>\n",
       "      <th>25%</th>\n",
       "      <td>328.000000</td>\n",
       "      <td>0.000000</td>\n",
       "      <td>2.000000</td>\n",
       "      <td>21.000000</td>\n",
       "      <td>0.000000</td>\n",
       "      <td>0.000000</td>\n",
       "      <td>7.895800</td>\n",
       "    </tr>\n",
       "    <tr>\n",
       "      <th>50%</th>\n",
       "      <td>655.000000</td>\n",
       "      <td>0.000000</td>\n",
       "      <td>3.000000</td>\n",
       "      <td>28.000000</td>\n",
       "      <td>0.000000</td>\n",
       "      <td>0.000000</td>\n",
       "      <td>14.454200</td>\n",
       "    </tr>\n",
       "    <tr>\n",
       "      <th>75%</th>\n",
       "      <td>982.000000</td>\n",
       "      <td>1.000000</td>\n",
       "      <td>3.000000</td>\n",
       "      <td>39.000000</td>\n",
       "      <td>1.000000</td>\n",
       "      <td>0.000000</td>\n",
       "      <td>31.275000</td>\n",
       "    </tr>\n",
       "    <tr>\n",
       "      <th>max</th>\n",
       "      <td>1309.000000</td>\n",
       "      <td>1.000000</td>\n",
       "      <td>3.000000</td>\n",
       "      <td>80.000000</td>\n",
       "      <td>8.000000</td>\n",
       "      <td>9.000000</td>\n",
       "      <td>512.329200</td>\n",
       "    </tr>\n",
       "  </tbody>\n",
       "</table>\n",
       "</div>"
      ],
      "text/plain": [
       "       PassengerId    Survived       Pclass          Age        SibSp  \\\n",
       "count  1309.000000  891.000000  1309.000000  1046.000000  1309.000000   \n",
       "mean    655.000000    0.383838     2.294882    29.881138     0.498854   \n",
       "std     378.020061    0.486592     0.837836    14.413493     1.041658   \n",
       "min       1.000000    0.000000     1.000000     0.170000     0.000000   \n",
       "25%     328.000000    0.000000     2.000000    21.000000     0.000000   \n",
       "50%     655.000000    0.000000     3.000000    28.000000     0.000000   \n",
       "75%     982.000000    1.000000     3.000000    39.000000     1.000000   \n",
       "max    1309.000000    1.000000     3.000000    80.000000     8.000000   \n",
       "\n",
       "             Parch         Fare  \n",
       "count  1309.000000  1308.000000  \n",
       "mean      0.385027    33.295479  \n",
       "std       0.865560    51.758668  \n",
       "min       0.000000     0.000000  \n",
       "25%       0.000000     7.895800  \n",
       "50%       0.000000    14.454200  \n",
       "75%       0.000000    31.275000  \n",
       "max       9.000000   512.329200  "
      ]
     },
     "execution_count": 1228,
     "metadata": {},
     "output_type": "execute_result"
    }
   ],
   "source": [
    "dataset.describe()"
   ]
  },
  {
   "cell_type": "code",
   "execution_count": 1229,
   "metadata": {},
   "outputs": [
    {
     "name": "stdout",
     "output_type": "stream",
     "text": [
      "['PassengerId' 'Survived' 'Pclass' 'Name' 'Sex' 'Age' 'SibSp' 'Parch'\n",
      " 'Ticket' 'Fare' 'Cabin' 'Embarked']\n"
     ]
    }
   ],
   "source": [
    "print(dataset.columns.values)"
   ]
  },
  {
   "cell_type": "code",
   "execution_count": 1230,
   "metadata": {},
   "outputs": [],
   "source": [
    "# which features are numerical and categorical\n",
    "categorical_values = list()\n",
    "numerical_values   = list()\n",
    "for elm in dataset:\n",
    "    if dataset[elm].dtype == 'object':\n",
    "        categorical_values.append(elm)\n",
    "    else:\n",
    "        numerical_values.append(elm)\n",
    "        pass\n",
    "    pass\n",
    "pass"
   ]
  },
  {
   "cell_type": "code",
   "execution_count": 1231,
   "metadata": {},
   "outputs": [
    {
     "name": "stdout",
     "output_type": "stream",
     "text": [
      "categorical values ['Name', 'Sex', 'Ticket', 'Cabin', 'Embarked']\n",
      "numerical values ['PassengerId', 'Survived', 'Pclass', 'Age', 'SibSp', 'Parch', 'Fare']\n"
     ]
    }
   ],
   "source": [
    "print(\"categorical values\", categorical_values)\n",
    "print(\"numerical values\", numerical_values)"
   ]
  },
  {
   "cell_type": "code",
   "execution_count": 1232,
   "metadata": {},
   "outputs": [
    {
     "name": "stdout",
     "output_type": "stream",
     "text": [
      "the element Name  contiens 1307 category\n",
      "the element Sex  contiens 2 category\n",
      "the element Ticket  contiens 929 category\n",
      "the element Cabin  contiens 187 category\n",
      "the element Embarked  contiens 4 category\n"
     ]
    }
   ],
   "source": [
    "for elm in dataset:\n",
    "    if dataset[elm].dtype == 'object':\n",
    "        print(\"the element\",elm,\" contiens\", len(dataset[elm].unique()), \"category\")\n",
    "        pass\n",
    "    pass\n",
    "pass"
   ]
  },
  {
   "cell_type": "markdown",
   "metadata": {},
   "source": [
    "let's take a look at Ticket and Cabin because they contient lot of categories "
   ]
  },
  {
   "cell_type": "code",
   "execution_count": 1233,
   "metadata": {},
   "outputs": [
    {
     "data": {
      "text/plain": [
       "array(['A/5 21171', 'PC 17599', 'STON/O2. 3101282', '113803', '373450',\n",
       "       '330877', '17463', '349909', '347742', '237736', 'PP 9549',\n",
       "       '113783', 'A/5. 2151', '347082', '350406', '248706', '382652',\n",
       "       '244373', '345763', '2649', '239865', '248698', '330923', '113788',\n",
       "       '349909', '347077', '2631', '19950', '330959', '349216',\n",
       "       'PC 17601', 'PC 17569', '335677', 'C.A. 24579', 'PC 17604',\n",
       "       '113789', '2677', 'A./5. 2152', '345764', '2651'], dtype=object)"
      ]
     },
     "execution_count": 1233,
     "metadata": {},
     "output_type": "execute_result"
    }
   ],
   "source": [
    "dataset['Ticket'][:40].values"
   ]
  },
  {
   "cell_type": "markdown",
   "metadata": {},
   "source": [
    "it's a mixed data type (numerical + categorical)"
   ]
  },
  {
   "cell_type": "code",
   "execution_count": 1234,
   "metadata": {},
   "outputs": [
    {
     "name": "stdout",
     "output_type": "stream",
     "text": [
      "549 Deaths\n",
      "342 Alives\n"
     ]
    }
   ],
   "source": [
    "print(dataset['Survived'][dataset['Survived'] == 0].count(), \"Deaths\")\n",
    "print(dataset['Survived'][dataset['Survived'] == 1].count(), \"Alives\")"
   ]
  },
  {
   "cell_type": "code",
   "execution_count": 1235,
   "metadata": {},
   "outputs": [
    {
     "data": {
      "text/html": [
       "<div>\n",
       "<style scoped>\n",
       "    .dataframe tbody tr th:only-of-type {\n",
       "        vertical-align: middle;\n",
       "    }\n",
       "\n",
       "    .dataframe tbody tr th {\n",
       "        vertical-align: top;\n",
       "    }\n",
       "\n",
       "    .dataframe thead th {\n",
       "        text-align: right;\n",
       "    }\n",
       "</style>\n",
       "<table border=\"1\" class=\"dataframe\">\n",
       "  <thead>\n",
       "    <tr style=\"text-align: right;\">\n",
       "      <th></th>\n",
       "      <th>PassengerId</th>\n",
       "    </tr>\n",
       "    <tr>\n",
       "      <th>Parch</th>\n",
       "      <th></th>\n",
       "    </tr>\n",
       "  </thead>\n",
       "  <tbody>\n",
       "    <tr>\n",
       "      <th>0</th>\n",
       "      <td>1002</td>\n",
       "    </tr>\n",
       "    <tr>\n",
       "      <th>1</th>\n",
       "      <td>170</td>\n",
       "    </tr>\n",
       "    <tr>\n",
       "      <th>2</th>\n",
       "      <td>113</td>\n",
       "    </tr>\n",
       "    <tr>\n",
       "      <th>3</th>\n",
       "      <td>8</td>\n",
       "    </tr>\n",
       "    <tr>\n",
       "      <th>4</th>\n",
       "      <td>6</td>\n",
       "    </tr>\n",
       "    <tr>\n",
       "      <th>5</th>\n",
       "      <td>6</td>\n",
       "    </tr>\n",
       "    <tr>\n",
       "      <th>6</th>\n",
       "      <td>2</td>\n",
       "    </tr>\n",
       "    <tr>\n",
       "      <th>9</th>\n",
       "      <td>2</td>\n",
       "    </tr>\n",
       "  </tbody>\n",
       "</table>\n",
       "</div>"
      ],
      "text/plain": [
       "       PassengerId\n",
       "Parch             \n",
       "0             1002\n",
       "1              170\n",
       "2              113\n",
       "3                8\n",
       "4                6\n",
       "5                6\n",
       "6                2\n",
       "9                2"
      ]
     },
     "execution_count": 1235,
     "metadata": {},
     "output_type": "execute_result"
    }
   ],
   "source": [
    "dataset[[\"Parch\", \"PassengerId\"]].groupby(['Parch']).count()"
   ]
  },
  {
   "cell_type": "code",
   "execution_count": 1236,
   "metadata": {},
   "outputs": [
    {
     "data": {
      "text/html": [
       "<div>\n",
       "<style scoped>\n",
       "    .dataframe tbody tr th:only-of-type {\n",
       "        vertical-align: middle;\n",
       "    }\n",
       "\n",
       "    .dataframe tbody tr th {\n",
       "        vertical-align: top;\n",
       "    }\n",
       "\n",
       "    .dataframe thead th {\n",
       "        text-align: right;\n",
       "    }\n",
       "</style>\n",
       "<table border=\"1\" class=\"dataframe\">\n",
       "  <thead>\n",
       "    <tr style=\"text-align: right;\">\n",
       "      <th></th>\n",
       "      <th>PassengerId</th>\n",
       "    </tr>\n",
       "    <tr>\n",
       "      <th>SibSp</th>\n",
       "      <th></th>\n",
       "    </tr>\n",
       "  </thead>\n",
       "  <tbody>\n",
       "    <tr>\n",
       "      <th>0</th>\n",
       "      <td>891</td>\n",
       "    </tr>\n",
       "    <tr>\n",
       "      <th>1</th>\n",
       "      <td>319</td>\n",
       "    </tr>\n",
       "    <tr>\n",
       "      <th>2</th>\n",
       "      <td>42</td>\n",
       "    </tr>\n",
       "    <tr>\n",
       "      <th>3</th>\n",
       "      <td>20</td>\n",
       "    </tr>\n",
       "    <tr>\n",
       "      <th>4</th>\n",
       "      <td>22</td>\n",
       "    </tr>\n",
       "    <tr>\n",
       "      <th>5</th>\n",
       "      <td>6</td>\n",
       "    </tr>\n",
       "    <tr>\n",
       "      <th>8</th>\n",
       "      <td>9</td>\n",
       "    </tr>\n",
       "  </tbody>\n",
       "</table>\n",
       "</div>"
      ],
      "text/plain": [
       "       PassengerId\n",
       "SibSp             \n",
       "0              891\n",
       "1              319\n",
       "2               42\n",
       "3               20\n",
       "4               22\n",
       "5                6\n",
       "8                9"
      ]
     },
     "execution_count": 1236,
     "metadata": {},
     "output_type": "execute_result"
    }
   ],
   "source": [
    "dataset[[\"SibSp\", \"PassengerId\"]].groupby(['SibSp']).count()"
   ]
  },
  {
   "cell_type": "markdown",
   "metadata": {},
   "source": [
    "Using groupby on Sibsb & Parch we can know the nombre of passengers with their parents & siblings"
   ]
  },
  {
   "cell_type": "code",
   "execution_count": 1237,
   "metadata": {},
   "outputs": [
    {
     "name": "stdout",
     "output_type": "stream",
     "text": [
      "PassengerId  :  0.0 %\n",
      "Survived  :  0.31932773109243695 %\n",
      "Pclass  :  0.0 %\n",
      "Name  :  0.0 %\n",
      "Sex  :  0.0 %\n",
      "Age  :  0.20091673032849502 %\n",
      "SibSp  :  0.0 %\n",
      "Parch  :  0.0 %\n",
      "Ticket  :  0.0 %\n",
      "Fare  :  0.0007639419404125286 %\n",
      "Cabin  :  0.774637127578304 %\n",
      "Embarked  :  0.0015278838808250573 %\n"
     ]
    }
   ],
   "source": [
    "# which features contiens null values\n",
    "for elm in dataset:\n",
    "    print(elm,\" : \",float((dataset[elm].isnull().sum()/1309)),\"%\")\n",
    "    pass\n",
    "pass"
   ]
  },
  {
   "cell_type": "markdown",
   "metadata": {},
   "source": [
    "Survived, Age, Fare, Cabin, Embarked need correction and we could drop the column Cabin because it contiens lot of null values, \n",
    "to avoid the over fitting of the most appeared element it's much better to drop it all"
   ]
  },
  {
   "cell_type": "code",
   "execution_count": 1238,
   "metadata": {},
   "outputs": [
    {
     "name": "stdout",
     "output_type": "stream",
     "text": [
      "<class 'pandas.core.frame.DataFrame'>\n",
      "Int64Index: 1309 entries, 0 to 417\n",
      "Data columns (total 12 columns):\n",
      " #   Column       Non-Null Count  Dtype  \n",
      "---  ------       --------------  -----  \n",
      " 0   PassengerId  1309 non-null   int64  \n",
      " 1   Survived     891 non-null    float64\n",
      " 2   Pclass       1309 non-null   int64  \n",
      " 3   Name         1309 non-null   object \n",
      " 4   Sex          1309 non-null   object \n",
      " 5   Age          1046 non-null   float64\n",
      " 6   SibSp        1309 non-null   int64  \n",
      " 7   Parch        1309 non-null   int64  \n",
      " 8   Ticket       1309 non-null   object \n",
      " 9   Fare         1308 non-null   float64\n",
      " 10  Cabin        295 non-null    object \n",
      " 11  Embarked     1307 non-null   object \n",
      "dtypes: float64(3), int64(4), object(5)\n",
      "memory usage: 132.9+ KB\n"
     ]
    }
   ],
   "source": [
    "dataset.info()"
   ]
  },
  {
   "cell_type": "markdown",
   "metadata": {},
   "source": [
    "# Visualization of our data "
   ]
  },
  {
   "cell_type": "code",
   "execution_count": 1239,
   "metadata": {
    "scrolled": true
   },
   "outputs": [
    {
     "data": {
      "text/plain": [
       "Text(0.5, 1.0, 'Sublim/spouses vs Survived')"
      ]
     },
     "execution_count": 1239,
     "metadata": {},
     "output_type": "execute_result"
    },
    {
     "data": {
      "image/png": "[encoded data removed]",
      "text/plain": [
       "<Figure size 432x432 with 1 Axes>"
      ]
     },
     "metadata": {
      "needs_background": "light"
     },
     "output_type": "display_data"
    },
    {
     "data": {
      "image/png": "[encoded data removed]",
      "text/plain": [
       "<Figure size 432x432 with 1 Axes>"
      ]
     },
     "metadata": {
      "needs_background": "light"
     },
     "output_type": "display_data"
    },
    {
     "data": {
      "image/png": "[encoded data removed]",
      "text/plain": [
       "<Figure size 432x432 with 1 Axes>"
      ]
     },
     "metadata": {
      "needs_background": "light"
     },
     "output_type": "display_data"
    }
   ],
   "source": [
    "#let take a look to our data using matplotlib and seaborn\n",
    "plt.figure(figsize=(6,6))\n",
    "sns.barplot(x = dataset['Sex'], y = dataset['Survived'])\n",
    "plt.title('Sex vs Survived')\n",
    "\n",
    "plt.figure(figsize=(6,6))\n",
    "sns.barplot(x = dataset['Pclass'], y = dataset['Survived'])\n",
    "plt.title('Class vs Survived')\n",
    "\n",
    "plt.figure(figsize=(6,6))\n",
    "sns.barplot(x = dataset['SibSp'], y = dataset['Survived'])\n",
    "plt.title('Sublim/spouses vs Survived')"
   ]
  },
  {
   "cell_type": "code",
   "execution_count": 1240,
   "metadata": {},
   "outputs": [
    {
     "data": {
      "text/plain": [
       "Text(0.5, 1.0, 'Sex vs Survived')"
      ]
     },
     "execution_count": 1240,
     "metadata": {},
     "output_type": "execute_result"
    },
    {
     "data": {
      "image/png": "[encoded data removed]",
      "text/plain": [
       "<Figure size 720x720 with 1 Axes>"
      ]
     },
     "metadata": {
      "needs_background": "light"
     },
     "output_type": "display_data"
    }
   ],
   "source": [
    "bins=[0,5,12,18,30,60,np.inf]\n",
    "labels=['Baby','Child','Teenager','Adult(young)','Middle age','Old age']\n",
    "dataset['AgeGroup'] = pd.cut(dataset[\"Age\"], bins, labels = labels)\n",
    "\n",
    "plt.figure(figsize=(10,10))\n",
    "sns.barplot(x = dataset['AgeGroup'] , y = dataset['Survived'])\n",
    "plt.title('Sex vs Survived')"
   ]
  },
  {
   "cell_type": "markdown",
   "metadata": {},
   "source": [
    "# Correlation between the columns"
   ]
  },
  {
   "cell_type": "code",
   "execution_count": 1241,
   "metadata": {},
   "outputs": [
    {
     "data": {
      "text/plain": [
       "<seaborn.axisgrid.FacetGrid at 0x21606535f70>"
      ]
     },
     "execution_count": 1241,
     "metadata": {},
     "output_type": "execute_result"
    },
    {
     "data": {
      "image/png": "[encoded data removed]",
      "text/plain": [
       "<Figure size 432x216 with 2 Axes>"
      ]
     },
     "metadata": {
      "needs_background": "light"
     },
     "output_type": "display_data"
    }
   ],
   "source": [
    "g = sns.FacetGrid(dataset, col='Survived')\n",
    "g.map(plt.hist, 'Age', bins=20)"
   ]
  },
  {
   "cell_type": "markdown",
   "metadata": {},
   "source": [
    "we can understand that lot of people in the middle age (between 20 and 50) they pass away"
   ]
  },
  {
   "cell_type": "code",
   "execution_count": 1242,
   "metadata": {},
   "outputs": [
    {
     "name": "stderr",
     "output_type": "stream",
     "text": [
      "C:\\Users\\Supernova\\anaconda3\\lib\\site-packages\\seaborn\\axisgrid.py:243: UserWarning: The `size` parameter has been renamed to `height`; please update your code.\n",
      "  warnings.warn(msg, UserWarning)\n"
     ]
    },
    {
     "data": {
      "image/png": "[encoded data removed]",
      "text/plain": [
       "<Figure size 514.88x475.2 with 6 Axes>"
      ]
     },
     "metadata": {
      "needs_background": "light"
     },
     "output_type": "display_data"
    }
   ],
   "source": [
    "grid = sns.FacetGrid(dataset, col='Survived', row='Pclass', size=2.2, aspect=1.6)\n",
    "grid.map(plt.hist, 'Age', alpha=.5, bins=20)\n",
    "grid.add_legend();"
   ]
  },
  {
   "cell_type": "markdown",
   "metadata": {},
   "source": [
    "lot of people in class == 3 between the age 20 and 50 are deaths"
   ]
  },
  {
   "cell_type": "code",
   "execution_count": 1243,
   "metadata": {},
   "outputs": [
    {
     "data": {
      "image/png": "[encoded data removed]",
      "text/plain": [
       "<Figure size 514.88x316.8 with 4 Axes>"
      ]
     },
     "metadata": {
      "needs_background": "light"
     },
     "output_type": "display_data"
    }
   ],
   "source": [
    "grid = sns.FacetGrid(dataset, col='Survived', row='Sex', size=2.2, aspect=1.6)\n",
    "grid.map(plt.hist, 'Age', alpha=.5, bins=20)\n",
    "grid.add_legend();"
   ]
  },
  {
   "cell_type": "markdown",
   "metadata": {},
   "source": [
    "most of people are men"
   ]
  },
  {
   "cell_type": "code",
   "execution_count": 1244,
   "metadata": {},
   "outputs": [
    {
     "name": "stderr",
     "output_type": "stream",
     "text": [
      "C:\\Users\\Supernova\\anaconda3\\lib\\site-packages\\seaborn\\axisgrid.py:723: UserWarning: Using the pointplot function without specifying `order` is likely to produce an incorrect plot.\n",
      "  warnings.warn(warning)\n",
      "C:\\Users\\Supernova\\anaconda3\\lib\\site-packages\\seaborn\\axisgrid.py:728: UserWarning: Using the pointplot function without specifying `hue_order` is likely to produce an incorrect plot.\n",
      "  warnings.warn(warning)\n"
     ]
    },
    {
     "data": {
      "text/plain": [
       "<seaborn.axisgrid.FacetGrid at 0x21608658040>"
      ]
     },
     "execution_count": 1244,
     "metadata": {},
     "output_type": "execute_result"
    },
    {
     "data": {
      "image/png": "[encoded data removed]",
      "text/plain": [
       "<Figure size 323.94x475.2 with 3 Axes>"
      ]
     },
     "metadata": {
      "needs_background": "light"
     },
     "output_type": "display_data"
    }
   ],
   "source": [
    "grid = sns.FacetGrid(dataset, row='Embarked', size=2.2, aspect=1.6)\n",
    "grid.map(sns.pointplot, 'Pclass', 'Survived', 'Sex', palette='deep')\n",
    "grid.add_legend()"
   ]
  },
  {
   "cell_type": "markdown",
   "metadata": {},
   "source": [
    "Groupby method will allows us to know the percent of people stay alive per Pclass, Sex, Parch and sib sp"
   ]
  },
  {
   "cell_type": "code",
   "execution_count": 1245,
   "metadata": {},
   "outputs": [
    {
     "data": {
      "text/html": [
       "<div>\n",
       "<style scoped>\n",
       "    .dataframe tbody tr th:only-of-type {\n",
       "        vertical-align: middle;\n",
       "    }\n",
       "\n",
       "    .dataframe tbody tr th {\n",
       "        vertical-align: top;\n",
       "    }\n",
       "\n",
       "    .dataframe thead th {\n",
       "        text-align: right;\n",
       "    }\n",
       "</style>\n",
       "<table border=\"1\" class=\"dataframe\">\n",
       "  <thead>\n",
       "    <tr style=\"text-align: right;\">\n",
       "      <th></th>\n",
       "      <th>PassengerId</th>\n",
       "      <th>Pclass</th>\n",
       "      <th>Age</th>\n",
       "      <th>SibSp</th>\n",
       "      <th>Parch</th>\n",
       "      <th>Fare</th>\n",
       "    </tr>\n",
       "    <tr>\n",
       "      <th>Survived</th>\n",
       "      <th></th>\n",
       "      <th></th>\n",
       "      <th></th>\n",
       "      <th></th>\n",
       "      <th></th>\n",
       "      <th></th>\n",
       "    </tr>\n",
       "  </thead>\n",
       "  <tbody>\n",
       "    <tr>\n",
       "      <th>0.0</th>\n",
       "      <td>447.016393</td>\n",
       "      <td>2.531876</td>\n",
       "      <td>30.626179</td>\n",
       "      <td>0.553734</td>\n",
       "      <td>0.329690</td>\n",
       "      <td>22.117887</td>\n",
       "    </tr>\n",
       "    <tr>\n",
       "      <th>1.0</th>\n",
       "      <td>444.368421</td>\n",
       "      <td>1.950292</td>\n",
       "      <td>28.343690</td>\n",
       "      <td>0.473684</td>\n",
       "      <td>0.464912</td>\n",
       "      <td>48.395408</td>\n",
       "    </tr>\n",
       "  </tbody>\n",
       "</table>\n",
       "</div>"
      ],
      "text/plain": [
       "          PassengerId    Pclass        Age     SibSp     Parch       Fare\n",
       "Survived                                                                 \n",
       "0.0        447.016393  2.531876  30.626179  0.553734  0.329690  22.117887\n",
       "1.0        444.368421  1.950292  28.343690  0.473684  0.464912  48.395408"
      ]
     },
     "execution_count": 1245,
     "metadata": {},
     "output_type": "execute_result"
    }
   ],
   "source": [
    "dataset.groupby(['Survived']).mean()"
   ]
  },
  {
   "cell_type": "code",
   "execution_count": 1246,
   "metadata": {},
   "outputs": [
    {
     "data": {
      "text/html": [
       "<div>\n",
       "<style scoped>\n",
       "    .dataframe tbody tr th:only-of-type {\n",
       "        vertical-align: middle;\n",
       "    }\n",
       "\n",
       "    .dataframe tbody tr th {\n",
       "        vertical-align: top;\n",
       "    }\n",
       "\n",
       "    .dataframe thead th {\n",
       "        text-align: right;\n",
       "    }\n",
       "</style>\n",
       "<table border=\"1\" class=\"dataframe\">\n",
       "  <thead>\n",
       "    <tr style=\"text-align: right;\">\n",
       "      <th></th>\n",
       "      <th>Pclass</th>\n",
       "      <th>Survived</th>\n",
       "    </tr>\n",
       "  </thead>\n",
       "  <tbody>\n",
       "    <tr>\n",
       "      <th>0</th>\n",
       "      <td>1</td>\n",
       "      <td>0.629630</td>\n",
       "    </tr>\n",
       "    <tr>\n",
       "      <th>1</th>\n",
       "      <td>2</td>\n",
       "      <td>0.472826</td>\n",
       "    </tr>\n",
       "    <tr>\n",
       "      <th>2</th>\n",
       "      <td>3</td>\n",
       "      <td>0.242363</td>\n",
       "    </tr>\n",
       "  </tbody>\n",
       "</table>\n",
       "</div>"
      ],
      "text/plain": [
       "   Pclass  Survived\n",
       "0       1  0.629630\n",
       "1       2  0.472826\n",
       "2       3  0.242363"
      ]
     },
     "execution_count": 1246,
     "metadata": {},
     "output_type": "execute_result"
    }
   ],
   "source": [
    "dataset[['Pclass', 'Survived']].groupby(['Pclass'], as_index=False).mean().sort_values(by='Survived', ascending=False)"
   ]
  },
  {
   "cell_type": "code",
   "execution_count": 1247,
   "metadata": {},
   "outputs": [
    {
     "data": {
      "text/html": [
       "<div>\n",
       "<style scoped>\n",
       "    .dataframe tbody tr th:only-of-type {\n",
       "        vertical-align: middle;\n",
       "    }\n",
       "\n",
       "    .dataframe tbody tr th {\n",
       "        vertical-align: top;\n",
       "    }\n",
       "\n",
       "    .dataframe thead th {\n",
       "        text-align: right;\n",
       "    }\n",
       "</style>\n",
       "<table border=\"1\" class=\"dataframe\">\n",
       "  <thead>\n",
       "    <tr style=\"text-align: right;\">\n",
       "      <th></th>\n",
       "      <th>Sex</th>\n",
       "      <th>Survived</th>\n",
       "    </tr>\n",
       "  </thead>\n",
       "  <tbody>\n",
       "    <tr>\n",
       "      <th>0</th>\n",
       "      <td>female</td>\n",
       "      <td>0.742038</td>\n",
       "    </tr>\n",
       "    <tr>\n",
       "      <th>1</th>\n",
       "      <td>male</td>\n",
       "      <td>0.188908</td>\n",
       "    </tr>\n",
       "  </tbody>\n",
       "</table>\n",
       "</div>"
      ],
      "text/plain": [
       "      Sex  Survived\n",
       "0  female  0.742038\n",
       "1    male  0.188908"
      ]
     },
     "execution_count": 1247,
     "metadata": {},
     "output_type": "execute_result"
    }
   ],
   "source": [
    "dataset[[\"Sex\", \"Survived\"]].groupby(['Sex'], as_index=False).mean().sort_values(by='Survived', ascending=False)"
   ]
  },
  {
   "cell_type": "code",
   "execution_count": 1248,
   "metadata": {},
   "outputs": [
    {
     "data": {
      "text/html": [
       "<div>\n",
       "<style scoped>\n",
       "    .dataframe tbody tr th:only-of-type {\n",
       "        vertical-align: middle;\n",
       "    }\n",
       "\n",
       "    .dataframe tbody tr th {\n",
       "        vertical-align: top;\n",
       "    }\n",
       "\n",
       "    .dataframe thead th {\n",
       "        text-align: right;\n",
       "    }\n",
       "</style>\n",
       "<table border=\"1\" class=\"dataframe\">\n",
       "  <thead>\n",
       "    <tr style=\"text-align: right;\">\n",
       "      <th></th>\n",
       "      <th>Parch</th>\n",
       "      <th>Survived</th>\n",
       "    </tr>\n",
       "  </thead>\n",
       "  <tbody>\n",
       "    <tr>\n",
       "      <th>3</th>\n",
       "      <td>3</td>\n",
       "      <td>0.600000</td>\n",
       "    </tr>\n",
       "    <tr>\n",
       "      <th>1</th>\n",
       "      <td>1</td>\n",
       "      <td>0.550847</td>\n",
       "    </tr>\n",
       "    <tr>\n",
       "      <th>2</th>\n",
       "      <td>2</td>\n",
       "      <td>0.500000</td>\n",
       "    </tr>\n",
       "    <tr>\n",
       "      <th>0</th>\n",
       "      <td>0</td>\n",
       "      <td>0.343658</td>\n",
       "    </tr>\n",
       "    <tr>\n",
       "      <th>5</th>\n",
       "      <td>5</td>\n",
       "      <td>0.200000</td>\n",
       "    </tr>\n",
       "    <tr>\n",
       "      <th>4</th>\n",
       "      <td>4</td>\n",
       "      <td>0.000000</td>\n",
       "    </tr>\n",
       "    <tr>\n",
       "      <th>6</th>\n",
       "      <td>6</td>\n",
       "      <td>0.000000</td>\n",
       "    </tr>\n",
       "    <tr>\n",
       "      <th>7</th>\n",
       "      <td>9</td>\n",
       "      <td>NaN</td>\n",
       "    </tr>\n",
       "  </tbody>\n",
       "</table>\n",
       "</div>"
      ],
      "text/plain": [
       "   Parch  Survived\n",
       "3      3  0.600000\n",
       "1      1  0.550847\n",
       "2      2  0.500000\n",
       "0      0  0.343658\n",
       "5      5  0.200000\n",
       "4      4  0.000000\n",
       "6      6  0.000000\n",
       "7      9       NaN"
      ]
     },
     "execution_count": 1248,
     "metadata": {},
     "output_type": "execute_result"
    }
   ],
   "source": [
    "dataset[[\"Parch\", \"Survived\"]].groupby(['Parch'], as_index=False).mean().sort_values(by='Survived', ascending=False)"
   ]
  },
  {
   "cell_type": "code",
   "execution_count": 1249,
   "metadata": {},
   "outputs": [
    {
     "data": {
      "text/html": [
       "<div>\n",
       "<style scoped>\n",
       "    .dataframe tbody tr th:only-of-type {\n",
       "        vertical-align: middle;\n",
       "    }\n",
       "\n",
       "    .dataframe tbody tr th {\n",
       "        vertical-align: top;\n",
       "    }\n",
       "\n",
       "    .dataframe thead th {\n",
       "        text-align: right;\n",
       "    }\n",
       "</style>\n",
       "<table border=\"1\" class=\"dataframe\">\n",
       "  <thead>\n",
       "    <tr style=\"text-align: right;\">\n",
       "      <th></th>\n",
       "      <th>SibSp</th>\n",
       "      <th>Survived</th>\n",
       "    </tr>\n",
       "  </thead>\n",
       "  <tbody>\n",
       "    <tr>\n",
       "      <th>1</th>\n",
       "      <td>1</td>\n",
       "      <td>0.535885</td>\n",
       "    </tr>\n",
       "    <tr>\n",
       "      <th>2</th>\n",
       "      <td>2</td>\n",
       "      <td>0.464286</td>\n",
       "    </tr>\n",
       "    <tr>\n",
       "      <th>0</th>\n",
       "      <td>0</td>\n",
       "      <td>0.345395</td>\n",
       "    </tr>\n",
       "    <tr>\n",
       "      <th>3</th>\n",
       "      <td>3</td>\n",
       "      <td>0.250000</td>\n",
       "    </tr>\n",
       "    <tr>\n",
       "      <th>4</th>\n",
       "      <td>4</td>\n",
       "      <td>0.166667</td>\n",
       "    </tr>\n",
       "    <tr>\n",
       "      <th>5</th>\n",
       "      <td>5</td>\n",
       "      <td>0.000000</td>\n",
       "    </tr>\n",
       "    <tr>\n",
       "      <th>6</th>\n",
       "      <td>8</td>\n",
       "      <td>0.000000</td>\n",
       "    </tr>\n",
       "  </tbody>\n",
       "</table>\n",
       "</div>"
      ],
      "text/plain": [
       "   SibSp  Survived\n",
       "1      1  0.535885\n",
       "2      2  0.464286\n",
       "0      0  0.345395\n",
       "3      3  0.250000\n",
       "4      4  0.166667\n",
       "5      5  0.000000\n",
       "6      8  0.000000"
      ]
     },
     "execution_count": 1249,
     "metadata": {},
     "output_type": "execute_result"
    }
   ],
   "source": [
    "dataset[[\"SibSp\", \"Survived\"]].groupby(['SibSp'], as_index=False).mean().sort_values(by='Survived', ascending=False)"
   ]
  },
  {
   "cell_type": "markdown",
   "metadata": {},
   "source": [
    "# Correction of the data"
   ]
  },
  {
   "cell_type": "code",
   "execution_count": 1250,
   "metadata": {},
   "outputs": [],
   "source": [
    "#to correct our data we should drop Cabin because it contiens lot of null values also ticket because it contiens lot of duplication\n",
    "trainning_dataset = trainning_dataset.drop(['PassengerId', 'Ticket', 'Cabin'], axis = 1)\n",
    "testing_dataset   = testing_dataset.drop(['PassengerId', 'Ticket', 'Cabin'], axis = 1)"
   ]
  },
  {
   "cell_type": "code",
   "execution_count": 1251,
   "metadata": {},
   "outputs": [],
   "source": [
    "for dataset in [trainning_dataset, testing_dataset]:\n",
    "    dataset['Title'] = dataset.Name.str.extract(' ([A-Za-z]+)\\.', expand=False)\n",
    "    pass\n",
    "pass"
   ]
  },
  {
   "cell_type": "code",
   "execution_count": 1252,
   "metadata": {},
   "outputs": [
    {
     "data": {
      "text/html": [
       "<div>\n",
       "<style scoped>\n",
       "    .dataframe tbody tr th:only-of-type {\n",
       "        vertical-align: middle;\n",
       "    }\n",
       "\n",
       "    .dataframe tbody tr th {\n",
       "        vertical-align: top;\n",
       "    }\n",
       "\n",
       "    .dataframe thead th {\n",
       "        text-align: right;\n",
       "    }\n",
       "</style>\n",
       "<table border=\"1\" class=\"dataframe\">\n",
       "  <thead>\n",
       "    <tr style=\"text-align: right;\">\n",
       "      <th>Sex</th>\n",
       "      <th>female</th>\n",
       "      <th>male</th>\n",
       "    </tr>\n",
       "    <tr>\n",
       "      <th>Title</th>\n",
       "      <th></th>\n",
       "      <th></th>\n",
       "    </tr>\n",
       "  </thead>\n",
       "  <tbody>\n",
       "    <tr>\n",
       "      <th>Capt</th>\n",
       "      <td>0</td>\n",
       "      <td>1</td>\n",
       "    </tr>\n",
       "    <tr>\n",
       "      <th>Col</th>\n",
       "      <td>0</td>\n",
       "      <td>2</td>\n",
       "    </tr>\n",
       "    <tr>\n",
       "      <th>Countess</th>\n",
       "      <td>1</td>\n",
       "      <td>0</td>\n",
       "    </tr>\n",
       "    <tr>\n",
       "      <th>Don</th>\n",
       "      <td>0</td>\n",
       "      <td>1</td>\n",
       "    </tr>\n",
       "    <tr>\n",
       "      <th>Dr</th>\n",
       "      <td>1</td>\n",
       "      <td>6</td>\n",
       "    </tr>\n",
       "    <tr>\n",
       "      <th>Jonkheer</th>\n",
       "      <td>0</td>\n",
       "      <td>1</td>\n",
       "    </tr>\n",
       "    <tr>\n",
       "      <th>Lady</th>\n",
       "      <td>1</td>\n",
       "      <td>0</td>\n",
       "    </tr>\n",
       "    <tr>\n",
       "      <th>Major</th>\n",
       "      <td>0</td>\n",
       "      <td>2</td>\n",
       "    </tr>\n",
       "    <tr>\n",
       "      <th>Master</th>\n",
       "      <td>0</td>\n",
       "      <td>40</td>\n",
       "    </tr>\n",
       "    <tr>\n",
       "      <th>Miss</th>\n",
       "      <td>182</td>\n",
       "      <td>0</td>\n",
       "    </tr>\n",
       "    <tr>\n",
       "      <th>Mlle</th>\n",
       "      <td>2</td>\n",
       "      <td>0</td>\n",
       "    </tr>\n",
       "    <tr>\n",
       "      <th>Mme</th>\n",
       "      <td>1</td>\n",
       "      <td>0</td>\n",
       "    </tr>\n",
       "    <tr>\n",
       "      <th>Mr</th>\n",
       "      <td>0</td>\n",
       "      <td>517</td>\n",
       "    </tr>\n",
       "    <tr>\n",
       "      <th>Mrs</th>\n",
       "      <td>125</td>\n",
       "      <td>0</td>\n",
       "    </tr>\n",
       "    <tr>\n",
       "      <th>Ms</th>\n",
       "      <td>1</td>\n",
       "      <td>0</td>\n",
       "    </tr>\n",
       "    <tr>\n",
       "      <th>Rev</th>\n",
       "      <td>0</td>\n",
       "      <td>6</td>\n",
       "    </tr>\n",
       "    <tr>\n",
       "      <th>Sir</th>\n",
       "      <td>0</td>\n",
       "      <td>1</td>\n",
       "    </tr>\n",
       "  </tbody>\n",
       "</table>\n",
       "</div>"
      ],
      "text/plain": [
       "Sex       female  male\n",
       "Title                 \n",
       "Capt           0     1\n",
       "Col            0     2\n",
       "Countess       1     0\n",
       "Don            0     1\n",
       "Dr             1     6\n",
       "Jonkheer       0     1\n",
       "Lady           1     0\n",
       "Major          0     2\n",
       "Master         0    40\n",
       "Miss         182     0\n",
       "Mlle           2     0\n",
       "Mme            1     0\n",
       "Mr             0   517\n",
       "Mrs          125     0\n",
       "Ms             1     0\n",
       "Rev            0     6\n",
       "Sir            0     1"
      ]
     },
     "execution_count": 1252,
     "metadata": {},
     "output_type": "execute_result"
    }
   ],
   "source": [
    "pd.crosstab(trainning_dataset['Title'], trainning_dataset['Sex'])"
   ]
  },
  {
   "cell_type": "code",
   "execution_count": 1253,
   "metadata": {},
   "outputs": [
    {
     "data": {
      "text/html": [
       "<div>\n",
       "<style scoped>\n",
       "    .dataframe tbody tr th:only-of-type {\n",
       "        vertical-align: middle;\n",
       "    }\n",
       "\n",
       "    .dataframe tbody tr th {\n",
       "        vertical-align: top;\n",
       "    }\n",
       "\n",
       "    .dataframe thead th {\n",
       "        text-align: right;\n",
       "    }\n",
       "</style>\n",
       "<table border=\"1\" class=\"dataframe\">\n",
       "  <thead>\n",
       "    <tr style=\"text-align: right;\">\n",
       "      <th>Sex</th>\n",
       "      <th>female</th>\n",
       "      <th>male</th>\n",
       "    </tr>\n",
       "    <tr>\n",
       "      <th>Title</th>\n",
       "      <th></th>\n",
       "      <th></th>\n",
       "    </tr>\n",
       "  </thead>\n",
       "  <tbody>\n",
       "    <tr>\n",
       "      <th>Col</th>\n",
       "      <td>0</td>\n",
       "      <td>2</td>\n",
       "    </tr>\n",
       "    <tr>\n",
       "      <th>Dona</th>\n",
       "      <td>1</td>\n",
       "      <td>0</td>\n",
       "    </tr>\n",
       "    <tr>\n",
       "      <th>Dr</th>\n",
       "      <td>0</td>\n",
       "      <td>1</td>\n",
       "    </tr>\n",
       "    <tr>\n",
       "      <th>Master</th>\n",
       "      <td>0</td>\n",
       "      <td>21</td>\n",
       "    </tr>\n",
       "    <tr>\n",
       "      <th>Miss</th>\n",
       "      <td>78</td>\n",
       "      <td>0</td>\n",
       "    </tr>\n",
       "    <tr>\n",
       "      <th>Mr</th>\n",
       "      <td>0</td>\n",
       "      <td>240</td>\n",
       "    </tr>\n",
       "    <tr>\n",
       "      <th>Mrs</th>\n",
       "      <td>72</td>\n",
       "      <td>0</td>\n",
       "    </tr>\n",
       "    <tr>\n",
       "      <th>Ms</th>\n",
       "      <td>1</td>\n",
       "      <td>0</td>\n",
       "    </tr>\n",
       "    <tr>\n",
       "      <th>Rev</th>\n",
       "      <td>0</td>\n",
       "      <td>2</td>\n",
       "    </tr>\n",
       "  </tbody>\n",
       "</table>\n",
       "</div>"
      ],
      "text/plain": [
       "Sex     female  male\n",
       "Title               \n",
       "Col          0     2\n",
       "Dona         1     0\n",
       "Dr           0     1\n",
       "Master       0    21\n",
       "Miss        78     0\n",
       "Mr           0   240\n",
       "Mrs         72     0\n",
       "Ms           1     0\n",
       "Rev          0     2"
      ]
     },
     "execution_count": 1253,
     "metadata": {},
     "output_type": "execute_result"
    }
   ],
   "source": [
    "pd.crosstab(testing_dataset['Title'], testing_dataset['Sex'])"
   ]
  },
  {
   "cell_type": "code",
   "execution_count": 1254,
   "metadata": {},
   "outputs": [],
   "source": [
    "for dataset in [trainning_dataset, testing_dataset]:\n",
    "    dataset['Title'] = dataset['Title'].replace(['Lady', 'Countess','Capt', 'Col','Don', \n",
    "                                                 'Dr', 'Major', 'Rev', 'Sir', \n",
    "                                                 'Jonkheer', 'Dona'], 'Rare')\n",
    "    dataset['Title'] = dataset['Title'].replace('Mlle', 'Miss')\n",
    "    dataset['Title'] = dataset['Title'].replace('Ms', 'Miss')\n",
    "    dataset['Title'] = dataset['Title'].replace('Mme', 'Mrs')\n",
    "    pass\n",
    "pass"
   ]
  },
  {
   "cell_type": "code",
   "execution_count": 1255,
   "metadata": {},
   "outputs": [
    {
     "data": {
      "text/html": [
       "<div>\n",
       "<style scoped>\n",
       "    .dataframe tbody tr th:only-of-type {\n",
       "        vertical-align: middle;\n",
       "    }\n",
       "\n",
       "    .dataframe tbody tr th {\n",
       "        vertical-align: top;\n",
       "    }\n",
       "\n",
       "    .dataframe thead th {\n",
       "        text-align: right;\n",
       "    }\n",
       "</style>\n",
       "<table border=\"1\" class=\"dataframe\">\n",
       "  <thead>\n",
       "    <tr style=\"text-align: right;\">\n",
       "      <th></th>\n",
       "      <th>Title</th>\n",
       "      <th>Survived</th>\n",
       "    </tr>\n",
       "  </thead>\n",
       "  <tbody>\n",
       "    <tr>\n",
       "      <th>0</th>\n",
       "      <td>Master</td>\n",
       "      <td>0.575000</td>\n",
       "    </tr>\n",
       "    <tr>\n",
       "      <th>1</th>\n",
       "      <td>Miss</td>\n",
       "      <td>0.702703</td>\n",
       "    </tr>\n",
       "    <tr>\n",
       "      <th>2</th>\n",
       "      <td>Mr</td>\n",
       "      <td>0.156673</td>\n",
       "    </tr>\n",
       "    <tr>\n",
       "      <th>3</th>\n",
       "      <td>Mrs</td>\n",
       "      <td>0.793651</td>\n",
       "    </tr>\n",
       "    <tr>\n",
       "      <th>4</th>\n",
       "      <td>Rare</td>\n",
       "      <td>0.347826</td>\n",
       "    </tr>\n",
       "  </tbody>\n",
       "</table>\n",
       "</div>"
      ],
      "text/plain": [
       "    Title  Survived\n",
       "0  Master  0.575000\n",
       "1    Miss  0.702703\n",
       "2      Mr  0.156673\n",
       "3     Mrs  0.793651\n",
       "4    Rare  0.347826"
      ]
     },
     "execution_count": 1255,
     "metadata": {},
     "output_type": "execute_result"
    }
   ],
   "source": [
    "trainning_dataset[['Title', 'Survived']].groupby(['Title'], as_index=False).mean()"
   ]
  },
  {
   "cell_type": "code",
   "execution_count": 1256,
   "metadata": {},
   "outputs": [],
   "source": [
    "to_numerical = LabelEncoder()\n",
    "trainning_dataset[\"Title code\"] = to_numerical.fit_transform(trainning_dataset[\"Title\"])"
   ]
  },
  {
   "cell_type": "code",
   "execution_count": 1257,
   "metadata": {},
   "outputs": [],
   "source": [
    "to_numerical = LabelEncoder()\n",
    "testing_dataset[\"Title code\"] = to_numerical.fit_transform(testing_dataset[\"Title\"])"
   ]
  },
  {
   "cell_type": "code",
   "execution_count": 1258,
   "metadata": {},
   "outputs": [],
   "source": [
    "to_numerical = LabelEncoder()\n",
    "testing_dataset[\"Sex\"] = to_numerical.fit_transform(testing_dataset[\"Sex\"])\n",
    "trainning_dataset[\"Sex\"] = to_numerical.fit_transform(trainning_dataset[\"Sex\"])"
   ]
  },
  {
   "cell_type": "code",
   "execution_count": 1259,
   "metadata": {},
   "outputs": [],
   "source": [
    "to_numerical = LabelEncoder()\n",
    "testing_dataset[\"Embarked\"] = to_numerical.fit_transform(testing_dataset[\"Embarked\"])"
   ]
  },
  {
   "cell_type": "code",
   "execution_count": 1260,
   "metadata": {},
   "outputs": [],
   "source": [
    "to_numerical = LabelEncoder()\n",
    "trainning_dataset['Embarked'] = trainning_dataset['Embarked'].replace(np.nan, 'S')\n",
    "trainning_dataset['Embarked'] = to_numerical.fit_transform(trainning_dataset[\"Embarked\"])"
   ]
  },
  {
   "cell_type": "code",
   "execution_count": 1261,
   "metadata": {},
   "outputs": [],
   "source": [
    "trainning_dataset = trainning_dataset.drop(['Title', 'Name'], axis = 1)\n",
    "testing_dataset   = testing_dataset.drop(['Title', 'Name'], axis = 1)"
   ]
  },
  {
   "cell_type": "code",
   "execution_count": 1262,
   "metadata": {},
   "outputs": [
    {
     "data": {
      "text/plain": [
       "177"
      ]
     },
     "execution_count": 1262,
     "metadata": {},
     "output_type": "execute_result"
    }
   ],
   "source": [
    "trainning_dataset['Age'].isnull().sum()"
   ]
  },
  {
   "cell_type": "code",
   "execution_count": 1263,
   "metadata": {},
   "outputs": [
    {
     "data": {
      "text/plain": [
       "86"
      ]
     },
     "execution_count": 1263,
     "metadata": {},
     "output_type": "execute_result"
    }
   ],
   "source": [
    "testing_dataset['Age'].isnull().sum()"
   ]
  },
  {
   "cell_type": "code",
   "execution_count": 1264,
   "metadata": {},
   "outputs": [],
   "source": [
    "trainning_dataset['Age'] = trainning_dataset['Age'].fillna(trainning_dataset['Age'].median())\n",
    "testing_dataset['Age']   = testing_dataset['Age'].fillna(testing_dataset['Age'].median())"
   ]
  },
  {
   "cell_type": "code",
   "execution_count": 1265,
   "metadata": {},
   "outputs": [
    {
     "data": {
      "text/plain": [
       "Survived      0\n",
       "Pclass        0\n",
       "Sex           0\n",
       "Age           0\n",
       "SibSp         0\n",
       "Parch         0\n",
       "Fare          0\n",
       "Embarked      0\n",
       "Title code    0\n",
       "dtype: int64"
      ]
     },
     "execution_count": 1265,
     "metadata": {},
     "output_type": "execute_result"
    }
   ],
   "source": [
    "#let's check of all the values are complet\n",
    "trainning_dataset.isna().sum()"
   ]
  },
  {
   "cell_type": "code",
   "execution_count": 1266,
   "metadata": {},
   "outputs": [
    {
     "data": {
      "text/plain": [
       "Pclass        0\n",
       "Sex           0\n",
       "Age           0\n",
       "SibSp         0\n",
       "Parch         0\n",
       "Fare          1\n",
       "Embarked      0\n",
       "Title code    0\n",
       "dtype: int64"
      ]
     },
     "execution_count": 1266,
     "metadata": {},
     "output_type": "execute_result"
    }
   ],
   "source": [
    "testing_dataset.isna().sum()"
   ]
  },
  {
   "cell_type": "code",
   "execution_count": 1267,
   "metadata": {},
   "outputs": [
    {
     "data": {
      "text/plain": [
       "0    7.75\n",
       "dtype: float64"
      ]
     },
     "execution_count": 1267,
     "metadata": {},
     "output_type": "execute_result"
    }
   ],
   "source": [
    " testing_dataset['Fare'].mode()"
   ]
  },
  {
   "cell_type": "code",
   "execution_count": 1268,
   "metadata": {},
   "outputs": [],
   "source": [
    "testing_dataset['Fare'] = testing_dataset['Fare'].fillna(7.75)"
   ]
  },
  {
   "cell_type": "code",
   "execution_count": 1269,
   "metadata": {},
   "outputs": [
    {
     "data": {
      "text/plain": [
       "Pclass        0\n",
       "Sex           0\n",
       "Age           0\n",
       "SibSp         0\n",
       "Parch         0\n",
       "Fare          0\n",
       "Embarked      0\n",
       "Title code    0\n",
       "dtype: int64"
      ]
     },
     "execution_count": 1269,
     "metadata": {},
     "output_type": "execute_result"
    }
   ],
   "source": [
    "testing_dataset.isna().sum()"
   ]
  },
  {
   "cell_type": "markdown",
   "metadata": {},
   "source": [
    "# model selection & prediction"
   ]
  },
  {
   "cell_type": "code",
   "execution_count": 1357,
   "metadata": {},
   "outputs": [],
   "source": [
    "from sklearn.model_selection import train_test_split\n",
    "y = trainning_dataset.Survived\n",
    "X = trainning_dataset.drop('Survived', axis = 1)\n",
    "y_test = pd.read_csv('gender_submission.csv')"
   ]
  },
  {
   "cell_type": "code",
   "execution_count": 1358,
   "metadata": {},
   "outputs": [],
   "source": [
    "y_test = y_test['Survived']"
   ]
  },
  {
   "cell_type": "code",
   "execution_count": 1359,
   "metadata": {},
   "outputs": [],
   "source": [
    "MAE = list()\n",
    "MSE = list()\n",
    "RMSE = list()\n",
    "Var = list()"
   ]
  },
  {
   "cell_type": "markdown",
   "metadata": {},
   "source": [
    "## Logstic regression"
   ]
  },
  {
   "cell_type": "code",
   "execution_count": 1360,
   "metadata": {},
   "outputs": [],
   "source": [
    "from sklearn.linear_model import LogisticRegression"
   ]
  },
  {
   "cell_type": "code",
   "execution_count": 1361,
   "metadata": {},
   "outputs": [
    {
     "name": "stderr",
     "output_type": "stream",
     "text": [
      "C:\\Users\\Supernova\\anaconda3\\lib\\site-packages\\sklearn\\linear_model\\_logistic.py:762: ConvergenceWarning: lbfgs failed to converge (status=1):\n",
      "STOP: TOTAL NO. of ITERATIONS REACHED LIMIT.\n",
      "\n",
      "Increase the number of iterations (max_iter) or scale the data as shown in:\n",
      "    https://scikit-learn.org/stable/modules/preprocessing.html\n",
      "Please also refer to the documentation for alternative solver options:\n",
      "    https://scikit-learn.org/stable/modules/linear_model.html#logistic-regression\n",
      "  n_iter_i = _check_optimize_result(\n"
     ]
    }
   ],
   "source": [
    "logstic_regression = LogisticRegression()\n",
    "logstic_regression.fit(X, y)\n",
    "y_pred = logstic_regression.predict(testing_dataset)"
   ]
  },
  {
   "cell_type": "code",
   "execution_count": 1362,
   "metadata": {},
   "outputs": [
    {
     "name": "stdout",
     "output_type": "stream",
     "text": [
      "MAE: 0.05980861244019139\n",
      "MSE: 0.05980861244019139\n",
      "RMSE: 0.24455799402225925\n",
      "VarScore: 0.7415660862683022\n"
     ]
    }
   ],
   "source": [
    "print('MAE:', metrics.mean_absolute_error(y_test, y_pred))  \n",
    "print('MSE:', metrics.mean_squared_error(y_test, y_pred))  \n",
    "print('RMSE:', np.sqrt(metrics.mean_squared_error(y_test, y_pred)))\n",
    "print('VarScore:',metrics.explained_variance_score(y_test,y_pred))"
   ]
  },
  {
   "cell_type": "code",
   "execution_count": 1363,
   "metadata": {},
   "outputs": [],
   "source": [
    "MAE.append(metrics.mean_absolute_error(y_test, y_pred))\n",
    "MSE.append(metrics.mean_squared_error(y_test, y_pred))\n",
    "RMSE.append(np.sqrt(metrics.mean_squared_error(y_test, y_pred)))\n",
    "Var.append(metrics.explained_variance_score(y_test,y_pred))"
   ]
  },
  {
   "cell_type": "markdown",
   "metadata": {},
   "source": [
    "# K neighbors classifier"
   ]
  },
  {
   "cell_type": "code",
   "execution_count": 1364,
   "metadata": {},
   "outputs": [],
   "source": [
    "from sklearn.neighbors import KNeighborsClassifier"
   ]
  },
  {
   "cell_type": "code",
   "execution_count": 1365,
   "metadata": {},
   "outputs": [],
   "source": [
    "knn = KNeighborsClassifier(n_neighbors = 4)\n",
    "knn.fit(X, y)\n",
    "y_pred = knn.predict(testing_dataset)"
   ]
  },
  {
   "cell_type": "code",
   "execution_count": 1366,
   "metadata": {},
   "outputs": [
    {
     "name": "stdout",
     "output_type": "stream",
     "text": [
      "MAE: 0.35406698564593303\n",
      "MSE: 0.35406698564593303\n",
      "RMSE: 0.5950352810093978\n",
      "VarScore: -0.504748713889988\n"
     ]
    }
   ],
   "source": [
    "print('MAE:', metrics.mean_absolute_error(y_test, y_pred))  \n",
    "print('MSE:', metrics.mean_squared_error(y_test, y_pred))  \n",
    "print('RMSE:', np.sqrt(metrics.mean_squared_error(y_test, y_pred)))\n",
    "print('VarScore:',metrics.explained_variance_score(y_test,y_pred))"
   ]
  },
  {
   "cell_type": "code",
   "execution_count": 1367,
   "metadata": {},
   "outputs": [],
   "source": [
    "MAE.append(metrics.mean_absolute_error(y_test, y_pred))\n",
    "MSE.append(metrics.mean_squared_error(y_test, y_pred))\n",
    "RMSE.append(np.sqrt(metrics.mean_squared_error(y_test, y_pred)))\n",
    "Var.append(metrics.explained_variance_score(y_test,y_pred))"
   ]
  },
  {
   "cell_type": "markdown",
   "metadata": {},
   "source": [
    "# Neural netowrk "
   ]
  },
  {
   "cell_type": "code",
   "execution_count": 1368,
   "metadata": {},
   "outputs": [],
   "source": [
    "def build_model(dense_dimension = 200):\n",
    "    model = Sequential()\n",
    "    model.add(Dense(dense_dimension,  activation='relu'))\n",
    "    model.add(Dense(dense_dimension,  activation='relu'))\n",
    "    model.add(Dense(dense_dimension, activation='relu'))\n",
    "    model.add(Dense(dense_dimension, activation='relu'))\n",
    "    model.add(Dense(1))\n",
    "    model.compile(optimizer='Adam',loss='mean_squared_error')\n",
    "    return model"
   ]
  },
  {
   "cell_type": "code",
   "execution_count": 1369,
   "metadata": {},
   "outputs": [
    {
     "name": "stdout",
     "output_type": "stream",
     "text": [
      "Epoch 1/500\n",
      "WARNING:tensorflow:Layer dense_40 is casting an input tensor from dtype float64 to the layer's dtype of float32, which is new behavior in TensorFlow 2.  The layer has dtype float32 because its dtype defaults to floatx.\n",
      "\n",
      "If you intended to run this layer in float32, you can safely ignore this warning. If in doubt, this warning is likely only an issue if you are porting a TensorFlow 1.X model to TensorFlow 2.\n",
      "\n",
      "To change all layers to have dtype float64 by default, call `tf.keras.backend.set_floatx('float64')`. To change just this layer, pass dtype='float64' to the layer constructor. If you are the author of this layer, you can disable autocasting by passing autocast=False to the base Layer constructor.\n",
      "\n",
      "5/5 [==============================] - 0s 3ms/step - loss: 5.5224\n",
      "Epoch 2/500\n",
      "5/5 [==============================] - 0s 3ms/step - loss: 1.1108\n",
      "Epoch 3/500\n",
      "5/5 [==============================] - 0s 3ms/step - loss: 0.6968\n",
      "Epoch 4/500\n",
      "5/5 [==============================] - 0s 3ms/step - loss: 0.3725\n",
      "Epoch 5/500\n",
      "5/5 [==============================] - 0s 3ms/step - loss: 0.2971\n",
      "Epoch 6/500\n",
      "5/5 [==============================] - 0s 3ms/step - loss: 0.2623\n",
      "Epoch 7/500\n",
      "5/5 [==============================] - 0s 3ms/step - loss: 0.2563\n",
      "Epoch 8/500\n",
      "5/5 [==============================] - 0s 3ms/step - loss: 0.2387\n",
      "Epoch 9/500\n",
      "5/5 [==============================] - 0s 3ms/step - loss: 0.2248\n",
      "Epoch 10/500\n",
      "5/5 [==============================] - 0s 3ms/step - loss: 0.2238\n",
      "Epoch 11/500\n",
      "5/5 [==============================] - 0s 3ms/step - loss: 0.2226\n",
      "Epoch 12/500\n",
      "5/5 [==============================] - 0s 4ms/step - loss: 0.2156\n",
      "Epoch 13/500\n",
      "5/5 [==============================] - 0s 3ms/step - loss: 0.2124\n",
      "Epoch 14/500\n",
      "5/5 [==============================] - 0s 3ms/step - loss: 0.2105\n",
      "Epoch 15/500\n",
      "5/5 [==============================] - 0s 3ms/step - loss: 0.2061\n",
      "Epoch 16/500\n",
      "5/5 [==============================] - 0s 3ms/step - loss: 0.2033\n",
      "Epoch 17/500\n",
      "5/5 [==============================] - 0s 3ms/step - loss: 0.2006\n",
      "Epoch 18/500\n",
      "5/5 [==============================] - 0s 3ms/step - loss: 0.1966\n",
      "Epoch 19/500\n",
      "5/5 [==============================] - 0s 3ms/step - loss: 0.1977\n",
      "Epoch 20/500\n",
      "5/5 [==============================] - 0s 3ms/step - loss: 0.1967\n",
      "Epoch 21/500\n",
      "5/5 [==============================] - 0s 3ms/step - loss: 0.1911\n",
      "Epoch 22/500\n",
      "5/5 [==============================] - 0s 3ms/step - loss: 0.1897\n",
      "Epoch 23/500\n",
      "5/5 [==============================] - 0s 3ms/step - loss: 0.1856\n",
      "Epoch 24/500\n",
      "5/5 [==============================] - 0s 3ms/step - loss: 0.1840\n",
      "Epoch 25/500\n",
      "5/5 [==============================] - 0s 3ms/step - loss: 0.1807\n",
      "Epoch 26/500\n",
      "5/5 [==============================] - 0s 3ms/step - loss: 0.1788\n",
      "Epoch 27/500\n",
      "5/5 [==============================] - 0s 3ms/step - loss: 0.1779\n",
      "Epoch 28/500\n",
      "5/5 [==============================] - 0s 3ms/step - loss: 0.1724\n",
      "Epoch 29/500\n",
      "5/5 [==============================] - 0s 3ms/step - loss: 0.1727\n",
      "Epoch 30/500\n",
      "5/5 [==============================] - 0s 3ms/step - loss: 0.1752\n",
      "Epoch 31/500\n",
      "5/5 [==============================] - 0s 3ms/step - loss: 0.1854\n",
      "Epoch 32/500\n",
      "5/5 [==============================] - 0s 3ms/step - loss: 0.1682\n",
      "Epoch 33/500\n",
      "5/5 [==============================] - ETA: 0s - loss: 0.181 - 0s 3ms/step - loss: 0.1684\n",
      "Epoch 34/500\n",
      "5/5 [==============================] - 0s 3ms/step - loss: 0.1675\n",
      "Epoch 35/500\n",
      "5/5 [==============================] - 0s 3ms/step - loss: 0.1689\n",
      "Epoch 36/500\n",
      "5/5 [==============================] - 0s 3ms/step - loss: 0.1683\n",
      "Epoch 37/500\n",
      "5/5 [==============================] - 0s 3ms/step - loss: 0.1614\n",
      "Epoch 38/500\n",
      "5/5 [==============================] - 0s 3ms/step - loss: 0.1572\n",
      "Epoch 39/500\n",
      "5/5 [==============================] - 0s 3ms/step - loss: 0.1560\n",
      "Epoch 40/500\n",
      "5/5 [==============================] - 0s 3ms/step - loss: 0.1555\n",
      "Epoch 41/500\n",
      "5/5 [==============================] - 0s 3ms/step - loss: 0.1557\n",
      "Epoch 42/500\n",
      "5/5 [==============================] - 0s 3ms/step - loss: 0.1630\n",
      "Epoch 43/500\n",
      "5/5 [==============================] - 0s 3ms/step - loss: 0.1485\n",
      "Epoch 44/500\n",
      "5/5 [==============================] - ETA: 0s - loss: 0.180 - 0s 3ms/step - loss: 0.1577\n",
      "Epoch 45/500\n",
      "5/5 [==============================] - 0s 3ms/step - loss: 0.1560\n",
      "Epoch 46/500\n",
      "5/5 [==============================] - 0s 3ms/step - loss: 0.1756\n",
      "Epoch 47/500\n",
      "5/5 [==============================] - 0s 3ms/step - loss: 0.1814\n",
      "Epoch 48/500\n",
      "5/5 [==============================] - 0s 3ms/step - loss: 0.1758\n",
      "Epoch 49/500\n",
      "5/5 [==============================] - 0s 3ms/step - loss: 0.2054\n",
      "Epoch 50/500\n",
      "5/5 [==============================] - 0s 3ms/step - loss: 0.1980\n",
      "Epoch 51/500\n",
      "5/5 [==============================] - 0s 3ms/step - loss: 0.1909\n",
      "Epoch 52/500\n",
      "5/5 [==============================] - 0s 3ms/step - loss: 0.1656\n",
      "Epoch 53/500\n",
      "5/5 [==============================] - 0s 3ms/step - loss: 0.1626\n",
      "Epoch 54/500\n",
      "5/5 [==============================] - 0s 3ms/step - loss: 0.1586\n",
      "Epoch 55/500\n",
      "5/5 [==============================] - 0s 3ms/step - loss: 0.1470\n",
      "Epoch 56/500\n",
      "5/5 [==============================] - 0s 3ms/step - loss: 0.1516\n",
      "Epoch 57/500\n",
      "5/5 [==============================] - 0s 3ms/step - loss: 0.1594\n",
      "Epoch 58/500\n",
      "5/5 [==============================] - 0s 3ms/step - loss: 0.1582\n",
      "Epoch 59/500\n",
      "5/5 [==============================] - 0s 3ms/step - loss: 0.1592\n",
      "Epoch 60/500\n",
      "5/5 [==============================] - 0s 3ms/step - loss: 0.1627\n",
      "Epoch 61/500\n",
      "5/5 [==============================] - 0s 3ms/step - loss: 0.1547\n",
      "Epoch 62/500\n",
      "5/5 [==============================] - 0s 3ms/step - loss: 0.1431\n",
      "Epoch 63/500\n",
      "5/5 [==============================] - 0s 3ms/step - loss: 0.1409\n",
      "Epoch 64/500\n",
      "5/5 [==============================] - 0s 3ms/step - loss: 0.1390\n",
      "Epoch 65/500\n",
      "5/5 [==============================] - 0s 3ms/step - loss: 0.1387\n",
      "Epoch 66/500\n",
      "5/5 [==============================] - 0s 3ms/step - loss: 0.1445\n",
      "Epoch 67/500\n",
      "5/5 [==============================] - 0s 3ms/step - loss: 0.1338\n",
      "Epoch 68/500\n",
      "5/5 [==============================] - 0s 3ms/step - loss: 0.1345\n",
      "Epoch 69/500\n",
      "5/5 [==============================] - 0s 3ms/step - loss: 0.1362\n",
      "Epoch 70/500\n",
      "5/5 [==============================] - 0s 3ms/step - loss: 0.1348\n",
      "Epoch 71/500\n",
      "5/5 [==============================] - 0s 3ms/step - loss: 0.1369\n",
      "Epoch 72/500\n",
      "5/5 [==============================] - 0s 3ms/step - loss: 0.1395\n",
      "Epoch 73/500\n",
      "5/5 [==============================] - 0s 3ms/step - loss: 0.1374\n",
      "Epoch 74/500\n",
      "5/5 [==============================] - 0s 3ms/step - loss: 0.1415\n",
      "Epoch 75/500\n",
      "5/5 [==============================] - 0s 3ms/step - loss: 0.1401\n",
      "Epoch 76/500\n",
      "5/5 [==============================] - 0s 3ms/step - loss: 0.1314\n",
      "Epoch 77/500\n",
      "5/5 [==============================] - 0s 3ms/step - loss: 0.1351\n",
      "Epoch 78/500\n",
      "5/5 [==============================] - 0s 3ms/step - loss: 0.1326\n",
      "Epoch 79/500\n",
      "5/5 [==============================] - 0s 3ms/step - loss: 0.1343\n",
      "Epoch 80/500\n",
      "5/5 [==============================] - 0s 3ms/step - loss: 0.1317\n",
      "Epoch 81/500\n",
      "5/5 [==============================] - 0s 3ms/step - loss: 0.1330\n",
      "Epoch 82/500\n",
      "5/5 [==============================] - 0s 3ms/step - loss: 0.1495\n",
      "Epoch 83/500\n",
      "5/5 [==============================] - 0s 3ms/step - loss: 0.1538\n",
      "Epoch 84/500\n",
      "5/5 [==============================] - 0s 3ms/step - loss: 0.1465\n",
      "Epoch 85/500\n",
      "5/5 [==============================] - 0s 3ms/step - loss: 0.1398\n",
      "Epoch 86/500\n",
      "5/5 [==============================] - 0s 3ms/step - loss: 0.1469\n",
      "Epoch 87/500\n",
      "5/5 [==============================] - 0s 3ms/step - loss: 0.1606\n",
      "Epoch 88/500\n",
      "5/5 [==============================] - 0s 3ms/step - loss: 0.1352\n",
      "Epoch 89/500\n",
      "5/5 [==============================] - 0s 3ms/step - loss: 0.1427\n",
      "Epoch 90/500\n",
      "5/5 [==============================] - 0s 3ms/step - loss: 0.1357\n",
      "Epoch 91/500\n",
      "5/5 [==============================] - 0s 3ms/step - loss: 0.1325\n",
      "Epoch 92/500\n",
      "5/5 [==============================] - 0s 3ms/step - loss: 0.1281\n",
      "Epoch 93/500\n",
      "5/5 [==============================] - 0s 3ms/step - loss: 0.1286\n",
      "Epoch 94/500\n",
      "5/5 [==============================] - 0s 3ms/step - loss: 0.1341\n",
      "Epoch 95/500\n"
     ]
    },
    {
     "name": "stdout",
     "output_type": "stream",
     "text": [
      "5/5 [==============================] - 0s 3ms/step - loss: 0.1305\n",
      "Epoch 96/500\n",
      "5/5 [==============================] - 0s 3ms/step - loss: 0.1252\n",
      "Epoch 97/500\n",
      "5/5 [==============================] - 0s 3ms/step - loss: 0.1237\n",
      "Epoch 98/500\n",
      "5/5 [==============================] - 0s 3ms/step - loss: 0.1271\n",
      "Epoch 99/500\n",
      "5/5 [==============================] - 0s 3ms/step - loss: 0.1234\n",
      "Epoch 100/500\n",
      "5/5 [==============================] - 0s 3ms/step - loss: 0.1237\n",
      "Epoch 101/500\n",
      "5/5 [==============================] - 0s 3ms/step - loss: 0.1243\n",
      "Epoch 102/500\n",
      "5/5 [==============================] - 0s 3ms/step - loss: 0.1262\n",
      "Epoch 103/500\n",
      "5/5 [==============================] - 0s 3ms/step - loss: 0.1247\n",
      "Epoch 104/500\n",
      "5/5 [==============================] - 0s 3ms/step - loss: 0.1240\n",
      "Epoch 105/500\n",
      "5/5 [==============================] - 0s 3ms/step - loss: 0.1242\n",
      "Epoch 106/500\n",
      "5/5 [==============================] - 0s 3ms/step - loss: 0.1224\n",
      "Epoch 107/500\n",
      "5/5 [==============================] - 0s 3ms/step - loss: 0.1232\n",
      "Epoch 108/500\n",
      "5/5 [==============================] - 0s 3ms/step - loss: 0.1242\n",
      "Epoch 109/500\n",
      "5/5 [==============================] - 0s 3ms/step - loss: 0.1207\n",
      "Epoch 110/500\n",
      "5/5 [==============================] - 0s 3ms/step - loss: 0.1195\n",
      "Epoch 111/500\n",
      "5/5 [==============================] - 0s 3ms/step - loss: 0.1184\n",
      "Epoch 112/500\n",
      "5/5 [==============================] - 0s 3ms/step - loss: 0.1189\n",
      "Epoch 113/500\n",
      "5/5 [==============================] - 0s 3ms/step - loss: 0.1204\n",
      "Epoch 114/500\n",
      "5/5 [==============================] - ETA: 0s - loss: 0.122 - 0s 3ms/step - loss: 0.1242\n",
      "Epoch 115/500\n",
      "5/5 [==============================] - 0s 3ms/step - loss: 0.1231\n",
      "Epoch 116/500\n",
      "5/5 [==============================] - 0s 3ms/step - loss: 0.1282\n",
      "Epoch 117/500\n",
      "5/5 [==============================] - 0s 3ms/step - loss: 0.1200\n",
      "Epoch 118/500\n",
      "5/5 [==============================] - 0s 3ms/step - loss: 0.1201\n",
      "Epoch 119/500\n",
      "5/5 [==============================] - 0s 3ms/step - loss: 0.1190\n",
      "Epoch 120/500\n",
      "5/5 [==============================] - 0s 3ms/step - loss: 0.1178\n",
      "Epoch 121/500\n",
      "5/5 [==============================] - 0s 3ms/step - loss: 0.1340\n",
      "Epoch 122/500\n",
      "5/5 [==============================] - 0s 4ms/step - loss: 0.1266\n",
      "Epoch 123/500\n",
      "5/5 [==============================] - 0s 3ms/step - loss: 0.1247\n",
      "Epoch 124/500\n",
      "5/5 [==============================] - 0s 3ms/step - loss: 0.1252\n",
      "Epoch 125/500\n",
      "5/5 [==============================] - 0s 3ms/step - loss: 0.1258\n",
      "Epoch 126/500\n",
      "5/5 [==============================] - 0s 3ms/step - loss: 0.1273\n",
      "Epoch 127/500\n",
      "5/5 [==============================] - 0s 3ms/step - loss: 0.1422\n",
      "Epoch 128/500\n",
      "5/5 [==============================] - 0s 3ms/step - loss: 0.1552\n",
      "Epoch 129/500\n",
      "5/5 [==============================] - 0s 3ms/step - loss: 0.1547\n",
      "Epoch 130/500\n",
      "5/5 [==============================] - 0s 3ms/step - loss: 0.1326\n",
      "Epoch 131/500\n",
      "5/5 [==============================] - ETA: 0s - loss: 0.110 - 0s 3ms/step - loss: 0.1265\n",
      "Epoch 132/500\n",
      "5/5 [==============================] - 0s 4ms/step - loss: 0.1212\n",
      "Epoch 133/500\n",
      "5/5 [==============================] - 0s 3ms/step - loss: 0.1322\n",
      "Epoch 134/500\n",
      "5/5 [==============================] - 0s 3ms/step - loss: 0.1192\n",
      "Epoch 135/500\n",
      "5/5 [==============================] - 0s 3ms/step - loss: 0.1179\n",
      "Epoch 136/500\n",
      "5/5 [==============================] - 0s 3ms/step - loss: 0.1215\n",
      "Epoch 137/500\n",
      "5/5 [==============================] - 0s 3ms/step - loss: 0.1193\n",
      "Epoch 138/500\n",
      "5/5 [==============================] - 0s 3ms/step - loss: 0.1336\n",
      "Epoch 139/500\n",
      "5/5 [==============================] - 0s 3ms/step - loss: 0.1422\n",
      "Epoch 140/500\n",
      "5/5 [==============================] - 0s 3ms/step - loss: 0.1414\n",
      "Epoch 141/500\n",
      "5/5 [==============================] - 0s 3ms/step - loss: 0.1312\n",
      "Epoch 142/500\n",
      "5/5 [==============================] - 0s 3ms/step - loss: 0.1249\n",
      "Epoch 143/500\n",
      "5/5 [==============================] - 0s 3ms/step - loss: 0.1240\n",
      "Epoch 144/500\n",
      "5/5 [==============================] - 0s 3ms/step - loss: 0.1211\n",
      "Epoch 145/500\n",
      "5/5 [==============================] - 0s 3ms/step - loss: 0.1172\n",
      "Epoch 146/500\n",
      "5/5 [==============================] - 0s 3ms/step - loss: 0.1144\n",
      "Epoch 147/500\n",
      "5/5 [==============================] - 0s 3ms/step - loss: 0.1160\n",
      "Epoch 148/500\n",
      "5/5 [==============================] - 0s 3ms/step - loss: 0.1144\n",
      "Epoch 149/500\n",
      "5/5 [==============================] - 0s 3ms/step - loss: 0.1136\n",
      "Epoch 150/500\n",
      "5/5 [==============================] - 0s 3ms/step - loss: 0.1177\n",
      "Epoch 151/500\n",
      "5/5 [==============================] - 0s 4ms/step - loss: 0.1195\n",
      "Epoch 152/500\n",
      "5/5 [==============================] - 0s 3ms/step - loss: 0.1162\n",
      "Epoch 153/500\n",
      "5/5 [==============================] - 0s 3ms/step - loss: 0.1196\n",
      "Epoch 154/500\n",
      "5/5 [==============================] - 0s 3ms/step - loss: 0.1225\n",
      "Epoch 155/500\n",
      "5/5 [==============================] - 0s 3ms/step - loss: 0.1158\n",
      "Epoch 156/500\n",
      "5/5 [==============================] - 0s 3ms/step - loss: 0.1183\n",
      "Epoch 157/500\n",
      "5/5 [==============================] - 0s 3ms/step - loss: 0.1105\n",
      "Epoch 158/500\n",
      "5/5 [==============================] - 0s 3ms/step - loss: 0.1173\n",
      "Epoch 159/500\n",
      "5/5 [==============================] - 0s 3ms/step - loss: 0.1121\n",
      "Epoch 160/500\n",
      "5/5 [==============================] - 0s 3ms/step - loss: 0.1124\n",
      "Epoch 161/500\n",
      "5/5 [==============================] - 0s 4ms/step - loss: 0.1122\n",
      "Epoch 162/500\n",
      "5/5 [==============================] - 0s 3ms/step - loss: 0.1217\n",
      "Epoch 163/500\n",
      "5/5 [==============================] - 0s 3ms/step - loss: 0.1211\n",
      "Epoch 164/500\n",
      "5/5 [==============================] - 0s 3ms/step - loss: 0.1369\n",
      "Epoch 165/500\n",
      "5/5 [==============================] - 0s 3ms/step - loss: 0.1337\n",
      "Epoch 166/500\n",
      "5/5 [==============================] - 0s 3ms/step - loss: 0.1275\n",
      "Epoch 167/500\n",
      "5/5 [==============================] - 0s 3ms/step - loss: 0.1180\n",
      "Epoch 168/500\n",
      "5/5 [==============================] - 0s 3ms/step - loss: 0.1166\n",
      "Epoch 169/500\n",
      "5/5 [==============================] - 0s 3ms/step - loss: 0.1109\n",
      "Epoch 170/500\n",
      "5/5 [==============================] - 0s 3ms/step - loss: 0.1088\n",
      "Epoch 171/500\n",
      "5/5 [==============================] - 0s 3ms/step - loss: 0.1124\n",
      "Epoch 172/500\n",
      "5/5 [==============================] - 0s 3ms/step - loss: 0.1130\n",
      "Epoch 173/500\n",
      "5/5 [==============================] - 0s 3ms/step - loss: 0.1098\n",
      "Epoch 174/500\n",
      "5/5 [==============================] - 0s 3ms/step - loss: 0.1088\n",
      "Epoch 175/500\n",
      "5/5 [==============================] - 0s 4ms/step - loss: 0.1085\n",
      "Epoch 176/500\n",
      "5/5 [==============================] - 0s 4ms/step - loss: 0.1089\n",
      "Epoch 177/500\n",
      "5/5 [==============================] - 0s 3ms/step - loss: 0.1073\n",
      "Epoch 178/500\n",
      "5/5 [==============================] - 0s 3ms/step - loss: 0.1121\n",
      "Epoch 179/500\n",
      "5/5 [==============================] - 0s 3ms/step - loss: 0.1137\n",
      "Epoch 180/500\n",
      "5/5 [==============================] - 0s 3ms/step - loss: 0.1131\n",
      "Epoch 181/500\n",
      "5/5 [==============================] - 0s 3ms/step - loss: 0.1165\n",
      "Epoch 182/500\n",
      "5/5 [==============================] - 0s 3ms/step - loss: 0.1146\n",
      "Epoch 183/500\n",
      "5/5 [==============================] - 0s 3ms/step - loss: 0.1174\n",
      "Epoch 184/500\n",
      "5/5 [==============================] - 0s 3ms/step - loss: 0.1198\n",
      "Epoch 185/500\n",
      "5/5 [==============================] - 0s 3ms/step - loss: 0.1313\n",
      "Epoch 186/500\n",
      "5/5 [==============================] - 0s 3ms/step - loss: 0.1208\n",
      "Epoch 187/500\n",
      "5/5 [==============================] - 0s 3ms/step - loss: 0.1182\n",
      "Epoch 188/500\n",
      "5/5 [==============================] - 0s 3ms/step - loss: 0.1167\n",
      "Epoch 189/500\n",
      "5/5 [==============================] - 0s 3ms/step - loss: 0.1071\n",
      "Epoch 190/500\n",
      "5/5 [==============================] - 0s 3ms/step - loss: 0.1078\n",
      "Epoch 191/500\n",
      "5/5 [==============================] - 0s 3ms/step - loss: 0.1151\n",
      "Epoch 192/500\n",
      "5/5 [==============================] - 0s 3ms/step - loss: 0.1216\n",
      "Epoch 193/500\n",
      "5/5 [==============================] - 0s 3ms/step - loss: 0.1222\n",
      "Epoch 194/500\n",
      "5/5 [==============================] - 0s 3ms/step - loss: 0.1104\n",
      "Epoch 195/500\n",
      "5/5 [==============================] - 0s 3ms/step - loss: 0.1098\n",
      "Epoch 196/500\n",
      "5/5 [==============================] - 0s 3ms/step - loss: 0.1071\n",
      "Epoch 197/500\n"
     ]
    },
    {
     "name": "stdout",
     "output_type": "stream",
     "text": [
      "5/5 [==============================] - 0s 3ms/step - loss: 0.1045\n",
      "Epoch 198/500\n",
      "5/5 [==============================] - 0s 3ms/step - loss: 0.1103\n",
      "Epoch 199/500\n",
      "5/5 [==============================] - 0s 3ms/step - loss: 0.1059\n",
      "Epoch 200/500\n",
      "5/5 [==============================] - 0s 3ms/step - loss: 0.1038\n",
      "Epoch 201/500\n",
      "5/5 [==============================] - 0s 3ms/step - loss: 0.1058\n",
      "Epoch 202/500\n",
      "5/5 [==============================] - 0s 3ms/step - loss: 0.1073\n",
      "Epoch 203/500\n",
      "5/5 [==============================] - 0s 3ms/step - loss: 0.1052\n",
      "Epoch 204/500\n",
      "5/5 [==============================] - 0s 3ms/step - loss: 0.1030\n",
      "Epoch 205/500\n",
      "5/5 [==============================] - 0s 3ms/step - loss: 0.1017\n",
      "Epoch 206/500\n",
      "5/5 [==============================] - 0s 3ms/step - loss: 0.1032\n",
      "Epoch 207/500\n",
      "5/5 [==============================] - 0s 3ms/step - loss: 0.1002\n",
      "Epoch 208/500\n",
      "5/5 [==============================] - 0s 3ms/step - loss: 0.1009\n",
      "Epoch 209/500\n",
      "5/5 [==============================] - 0s 3ms/step - loss: 0.1020\n",
      "Epoch 210/500\n",
      "5/5 [==============================] - 0s 3ms/step - loss: 0.1074\n",
      "Epoch 211/500\n",
      "5/5 [==============================] - 0s 3ms/step - loss: 0.1096\n",
      "Epoch 212/500\n",
      "5/5 [==============================] - 0s 3ms/step - loss: 0.1052\n",
      "Epoch 213/500\n",
      "5/5 [==============================] - 0s 3ms/step - loss: 0.1049\n",
      "Epoch 214/500\n",
      "5/5 [==============================] - 0s 3ms/step - loss: 0.1068\n",
      "Epoch 215/500\n",
      "5/5 [==============================] - 0s 3ms/step - loss: 0.1100\n",
      "Epoch 216/500\n",
      "5/5 [==============================] - 0s 3ms/step - loss: 0.1053\n",
      "Epoch 217/500\n",
      "5/5 [==============================] - 0s 3ms/step - loss: 0.1080\n",
      "Epoch 218/500\n",
      "5/5 [==============================] - 0s 3ms/step - loss: 0.1040\n",
      "Epoch 219/500\n",
      "5/5 [==============================] - 0s 3ms/step - loss: 0.1119\n",
      "Epoch 220/500\n",
      "5/5 [==============================] - 0s 3ms/step - loss: 0.1039\n",
      "Epoch 221/500\n",
      "5/5 [==============================] - 0s 3ms/step - loss: 0.1103\n",
      "Epoch 222/500\n",
      "5/5 [==============================] - 0s 3ms/step - loss: 0.1115\n",
      "Epoch 223/500\n",
      "5/5 [==============================] - 0s 3ms/step - loss: 0.1256\n",
      "Epoch 224/500\n",
      "5/5 [==============================] - 0s 4ms/step - loss: 0.1256\n",
      "Epoch 225/500\n",
      "5/5 [==============================] - 0s 4ms/step - loss: 0.1138\n",
      "Epoch 226/500\n",
      "5/5 [==============================] - 0s 3ms/step - loss: 0.1067\n",
      "Epoch 227/500\n",
      "5/5 [==============================] - 0s 5ms/step - loss: 0.1093\n",
      "Epoch 228/500\n",
      "5/5 [==============================] - 0s 4ms/step - loss: 0.1068\n",
      "Epoch 229/500\n",
      "5/5 [==============================] - 0s 4ms/step - loss: 0.1054\n",
      "Epoch 230/500\n",
      "5/5 [==============================] - 0s 4ms/step - loss: 0.1087\n",
      "Epoch 231/500\n",
      "5/5 [==============================] - 0s 4ms/step - loss: 0.1032\n",
      "Epoch 232/500\n",
      "5/5 [==============================] - 0s 4ms/step - loss: 0.0997\n",
      "Epoch 233/500\n",
      "5/5 [==============================] - 0s 3ms/step - loss: 0.0986\n",
      "Epoch 234/500\n",
      "5/5 [==============================] - 0s 3ms/step - loss: 0.1005\n",
      "Epoch 235/500\n",
      "5/5 [==============================] - 0s 3ms/step - loss: 0.1010\n",
      "Epoch 236/500\n",
      "5/5 [==============================] - 0s 3ms/step - loss: 0.1081\n",
      "Epoch 237/500\n",
      "5/5 [==============================] - 0s 3ms/step - loss: 0.1012\n",
      "Epoch 238/500\n",
      "5/5 [==============================] - 0s 3ms/step - loss: 0.0989\n",
      "Epoch 239/500\n",
      "5/5 [==============================] - 0s 3ms/step - loss: 0.0983\n",
      "Epoch 240/500\n",
      "5/5 [==============================] - 0s 3ms/step - loss: 0.0982\n",
      "Epoch 241/500\n",
      "5/5 [==============================] - 0s 3ms/step - loss: 0.0990\n",
      "Epoch 242/500\n",
      "5/5 [==============================] - 0s 3ms/step - loss: 0.0989\n",
      "Epoch 243/500\n",
      "5/5 [==============================] - 0s 3ms/step - loss: 0.0980\n",
      "Epoch 244/500\n",
      "5/5 [==============================] - 0s 4ms/step - loss: 0.1005\n",
      "Epoch 245/500\n",
      "5/5 [==============================] - 0s 4ms/step - loss: 0.0990\n",
      "Epoch 246/500\n",
      "5/5 [==============================] - 0s 4ms/step - loss: 0.1028\n",
      "Epoch 247/500\n",
      "5/5 [==============================] - 0s 3ms/step - loss: 0.1012\n",
      "Epoch 248/500\n",
      "5/5 [==============================] - 0s 3ms/step - loss: 0.1035\n",
      "Epoch 249/500\n",
      "5/5 [==============================] - 0s 3ms/step - loss: 0.1040\n",
      "Epoch 250/500\n",
      "5/5 [==============================] - 0s 5ms/step - loss: 0.1104\n",
      "Epoch 251/500\n",
      "5/5 [==============================] - 0s 4ms/step - loss: 0.1078\n",
      "Epoch 252/500\n",
      "5/5 [==============================] - 0s 3ms/step - loss: 0.1093\n",
      "Epoch 253/500\n",
      "5/5 [==============================] - 0s 5ms/step - loss: 0.1037\n",
      "Epoch 254/500\n",
      "5/5 [==============================] - 0s 6ms/step - loss: 0.1071\n",
      "Epoch 255/500\n",
      "5/5 [==============================] - 0s 5ms/step - loss: 0.1015\n",
      "Epoch 256/500\n",
      "5/5 [==============================] - 0s 7ms/step - loss: 0.1007\n",
      "Epoch 257/500\n",
      "5/5 [==============================] - 0s 4ms/step - loss: 0.1011\n",
      "Epoch 258/500\n",
      "5/5 [==============================] - 0s 4ms/step - loss: 0.0997\n",
      "Epoch 259/500\n",
      "5/5 [==============================] - 0s 3ms/step - loss: 0.0986\n",
      "Epoch 260/500\n",
      "5/5 [==============================] - 0s 3ms/step - loss: 0.0971\n",
      "Epoch 261/500\n",
      "5/5 [==============================] - 0s 4ms/step - loss: 0.0970\n",
      "Epoch 262/500\n",
      "5/5 [==============================] - 0s 4ms/step - loss: 0.0955\n",
      "Epoch 263/500\n",
      "5/5 [==============================] - 0s 4ms/step - loss: 0.0974\n",
      "Epoch 264/500\n",
      "5/5 [==============================] - 0s 4ms/step - loss: 0.0981\n",
      "Epoch 265/500\n",
      "5/5 [==============================] - 0s 3ms/step - loss: 0.0980\n",
      "Epoch 266/500\n",
      "5/5 [==============================] - 0s 3ms/step - loss: 0.0965\n",
      "Epoch 267/500\n",
      "5/5 [==============================] - 0s 3ms/step - loss: 0.0971\n",
      "Epoch 268/500\n",
      "5/5 [==============================] - 0s 3ms/step - loss: 0.0974\n",
      "Epoch 269/500\n",
      "5/5 [==============================] - 0s 3ms/step - loss: 0.1097\n",
      "Epoch 270/500\n",
      "5/5 [==============================] - 0s 3ms/step - loss: 0.1013\n",
      "Epoch 271/500\n",
      "5/5 [==============================] - 0s 3ms/step - loss: 0.0994\n",
      "Epoch 272/500\n",
      "5/5 [==============================] - 0s 3ms/step - loss: 0.0984\n",
      "Epoch 273/500\n",
      "5/5 [==============================] - 0s 3ms/step - loss: 0.1073\n",
      "Epoch 274/500\n",
      "5/5 [==============================] - 0s 3ms/step - loss: 0.1090\n",
      "Epoch 275/500\n",
      "5/5 [==============================] - 0s 3ms/step - loss: 0.1072\n",
      "Epoch 276/500\n",
      "5/5 [==============================] - 0s 3ms/step - loss: 0.0977\n",
      "Epoch 277/500\n",
      "5/5 [==============================] - 0s 3ms/step - loss: 0.0936\n",
      "Epoch 278/500\n",
      "5/5 [==============================] - 0s 3ms/step - loss: 0.0936\n",
      "Epoch 279/500\n",
      "5/5 [==============================] - 0s 3ms/step - loss: 0.0932\n",
      "Epoch 280/500\n",
      "5/5 [==============================] - 0s 3ms/step - loss: 0.0940\n",
      "Epoch 281/500\n",
      "5/5 [==============================] - 0s 3ms/step - loss: 0.0942\n",
      "Epoch 282/500\n",
      "5/5 [==============================] - 0s 3ms/step - loss: 0.1017\n",
      "Epoch 283/500\n",
      "5/5 [==============================] - 0s 3ms/step - loss: 0.0968\n",
      "Epoch 284/500\n",
      "5/5 [==============================] - 0s 3ms/step - loss: 0.0962\n",
      "Epoch 285/500\n",
      "5/5 [==============================] - 0s 3ms/step - loss: 0.0923\n",
      "Epoch 286/500\n",
      "5/5 [==============================] - 0s 3ms/step - loss: 0.1016\n",
      "Epoch 287/500\n",
      "5/5 [==============================] - 0s 3ms/step - loss: 0.0981\n",
      "Epoch 288/500\n",
      "5/5 [==============================] - 0s 3ms/step - loss: 0.1022\n",
      "Epoch 289/500\n",
      "5/5 [==============================] - 0s 3ms/step - loss: 0.0993\n",
      "Epoch 290/500\n",
      "5/5 [==============================] - 0s 3ms/step - loss: 0.0954\n",
      "Epoch 291/500\n",
      "5/5 [==============================] - 0s 3ms/step - loss: 0.0927\n",
      "Epoch 292/500\n",
      "5/5 [==============================] - 0s 3ms/step - loss: 0.0913\n",
      "Epoch 293/500\n",
      "5/5 [==============================] - 0s 3ms/step - loss: 0.0900\n",
      "Epoch 294/500\n",
      "5/5 [==============================] - 0s 3ms/step - loss: 0.0926\n",
      "Epoch 295/500\n",
      "5/5 [==============================] - 0s 3ms/step - loss: 0.0896\n",
      "Epoch 296/500\n",
      "5/5 [==============================] - 0s 3ms/step - loss: 0.0905\n",
      "Epoch 297/500\n",
      "5/5 [==============================] - 0s 3ms/step - loss: 0.1006\n",
      "Epoch 298/500\n",
      "5/5 [==============================] - 0s 3ms/step - loss: 0.1197\n",
      "Epoch 299/500\n"
     ]
    },
    {
     "name": "stdout",
     "output_type": "stream",
     "text": [
      "5/5 [==============================] - 0s 4ms/step - loss: 0.1282\n",
      "Epoch 300/500\n",
      "5/5 [==============================] - 0s 3ms/step - loss: 0.1257\n",
      "Epoch 301/500\n",
      "5/5 [==============================] - 0s 3ms/step - loss: 0.1208\n",
      "Epoch 302/500\n",
      "5/5 [==============================] - 0s 3ms/step - loss: 0.1167\n",
      "Epoch 303/500\n",
      "5/5 [==============================] - 0s 3ms/step - loss: 0.1091\n",
      "Epoch 304/500\n",
      "5/5 [==============================] - 0s 3ms/step - loss: 0.1018\n",
      "Epoch 305/500\n",
      "5/5 [==============================] - 0s 3ms/step - loss: 0.1025\n",
      "Epoch 306/500\n",
      "5/5 [==============================] - 0s 3ms/step - loss: 0.0970\n",
      "Epoch 307/500\n",
      "5/5 [==============================] - 0s 4ms/step - loss: 0.0973\n",
      "Epoch 308/500\n",
      "5/5 [==============================] - 0s 4ms/step - loss: 0.0997\n",
      "Epoch 309/500\n",
      "5/5 [==============================] - 0s 3ms/step - loss: 0.0990\n",
      "Epoch 310/500\n",
      "5/5 [==============================] - 0s 3ms/step - loss: 0.1019\n",
      "Epoch 311/500\n",
      "5/5 [==============================] - 0s 4ms/step - loss: 0.0991\n",
      "Epoch 312/500\n",
      "5/5 [==============================] - 0s 4ms/step - loss: 0.0972\n",
      "Epoch 313/500\n",
      "5/5 [==============================] - 0s 4ms/step - loss: 0.0986\n",
      "Epoch 314/500\n",
      "5/5 [==============================] - 0s 4ms/step - loss: 0.0961\n",
      "Epoch 315/500\n",
      "5/5 [==============================] - 0s 4ms/step - loss: 0.0949\n",
      "Epoch 316/500\n",
      "5/5 [==============================] - 0s 4ms/step - loss: 0.0973\n",
      "Epoch 317/500\n",
      "5/5 [==============================] - 0s 4ms/step - loss: 0.0908\n",
      "Epoch 318/500\n",
      "5/5 [==============================] - 0s 4ms/step - loss: 0.0957\n",
      "Epoch 319/500\n",
      "5/5 [==============================] - 0s 4ms/step - loss: 0.0923\n",
      "Epoch 320/500\n",
      "5/5 [==============================] - 0s 4ms/step - loss: 0.0920\n",
      "Epoch 321/500\n",
      "5/5 [==============================] - 0s 4ms/step - loss: 0.0956\n",
      "Epoch 322/500\n",
      "5/5 [==============================] - 0s 5ms/step - loss: 0.0931\n",
      "Epoch 323/500\n",
      "5/5 [==============================] - 0s 4ms/step - loss: 0.0868\n",
      "Epoch 324/500\n",
      "5/5 [==============================] - 0s 3ms/step - loss: 0.0886\n",
      "Epoch 325/500\n",
      "5/5 [==============================] - 0s 3ms/step - loss: 0.0904\n",
      "Epoch 326/500\n",
      "5/5 [==============================] - 0s 3ms/step - loss: 0.0857\n",
      "Epoch 327/500\n",
      "5/5 [==============================] - 0s 4ms/step - loss: 0.0860\n",
      "Epoch 328/500\n",
      "5/5 [==============================] - 0s 4ms/step - loss: 0.0901\n",
      "Epoch 329/500\n",
      "5/5 [==============================] - 0s 4ms/step - loss: 0.0889\n",
      "Epoch 330/500\n",
      "5/5 [==============================] - 0s 3ms/step - loss: 0.0884\n",
      "Epoch 331/500\n",
      "5/5 [==============================] - 0s 3ms/step - loss: 0.0888\n",
      "Epoch 332/500\n",
      "5/5 [==============================] - 0s 3ms/step - loss: 0.0897\n",
      "Epoch 333/500\n",
      "5/5 [==============================] - 0s 3ms/step - loss: 0.0911\n",
      "Epoch 334/500\n",
      "5/5 [==============================] - 0s 3ms/step - loss: 0.0885\n",
      "Epoch 335/500\n",
      "5/5 [==============================] - 0s 3ms/step - loss: 0.0850\n",
      "Epoch 336/500\n",
      "5/5 [==============================] - 0s 3ms/step - loss: 0.0855\n",
      "Epoch 337/500\n",
      "5/5 [==============================] - 0s 3ms/step - loss: 0.0957\n",
      "Epoch 338/500\n",
      "5/5 [==============================] - 0s 3ms/step - loss: 0.0909\n",
      "Epoch 339/500\n",
      "5/5 [==============================] - 0s 3ms/step - loss: 0.0935\n",
      "Epoch 340/500\n",
      "5/5 [==============================] - 0s 3ms/step - loss: 0.0900\n",
      "Epoch 341/500\n",
      "5/5 [==============================] - 0s 3ms/step - loss: 0.0926\n",
      "Epoch 342/500\n",
      "5/5 [==============================] - 0s 3ms/step - loss: 0.0907\n",
      "Epoch 343/500\n",
      "5/5 [==============================] - 0s 3ms/step - loss: 0.0855\n",
      "Epoch 344/500\n",
      "5/5 [==============================] - 0s 3ms/step - loss: 0.0863\n",
      "Epoch 345/500\n",
      "5/5 [==============================] - 0s 3ms/step - loss: 0.0851\n",
      "Epoch 346/500\n",
      "5/5 [==============================] - 0s 4ms/step - loss: 0.0826\n",
      "Epoch 347/500\n",
      "5/5 [==============================] - 0s 3ms/step - loss: 0.0818\n",
      "Epoch 348/500\n",
      "5/5 [==============================] - 0s 3ms/step - loss: 0.0821\n",
      "Epoch 349/500\n",
      "5/5 [==============================] - 0s 3ms/step - loss: 0.0872\n",
      "Epoch 350/500\n",
      "5/5 [==============================] - 0s 4ms/step - loss: 0.0906\n",
      "Epoch 351/500\n",
      "5/5 [==============================] - 0s 5ms/step - loss: 0.0883\n",
      "Epoch 352/500\n",
      "5/5 [==============================] - 0s 3ms/step - loss: 0.0887\n",
      "Epoch 353/500\n",
      "5/5 [==============================] - 0s 6ms/step - loss: 0.0905\n",
      "Epoch 354/500\n",
      "5/5 [==============================] - 0s 3ms/step - loss: 0.0906\n",
      "Epoch 355/500\n",
      "5/5 [==============================] - 0s 7ms/step - loss: 0.0881\n",
      "Epoch 356/500\n",
      "5/5 [==============================] - 0s 3ms/step - loss: 0.0891\n",
      "Epoch 357/500\n",
      "5/5 [==============================] - 0s 3ms/step - loss: 0.0885\n",
      "Epoch 358/500\n",
      "5/5 [==============================] - 0s 3ms/step - loss: 0.0880\n",
      "Epoch 359/500\n",
      "5/5 [==============================] - 0s 3ms/step - loss: 0.0906\n",
      "Epoch 360/500\n",
      "5/5 [==============================] - 0s 3ms/step - loss: 0.0901\n",
      "Epoch 361/500\n",
      "5/5 [==============================] - 0s 3ms/step - loss: 0.0926\n",
      "Epoch 362/500\n",
      "5/5 [==============================] - 0s 3ms/step - loss: 0.0845\n",
      "Epoch 363/500\n",
      "5/5 [==============================] - 0s 3ms/step - loss: 0.0830\n",
      "Epoch 364/500\n",
      "5/5 [==============================] - 0s 3ms/step - loss: 0.0819\n",
      "Epoch 365/500\n",
      "5/5 [==============================] - 0s 3ms/step - loss: 0.0832\n",
      "Epoch 366/500\n",
      "5/5 [==============================] - 0s 3ms/step - loss: 0.0824\n",
      "Epoch 367/500\n",
      "5/5 [==============================] - 0s 3ms/step - loss: 0.0796\n",
      "Epoch 368/500\n",
      "5/5 [==============================] - 0s 3ms/step - loss: 0.0826\n",
      "Epoch 369/500\n",
      "5/5 [==============================] - 0s 3ms/step - loss: 0.0799\n",
      "Epoch 370/500\n",
      "5/5 [==============================] - 0s 3ms/step - loss: 0.0798\n",
      "Epoch 371/500\n",
      "5/5 [==============================] - 0s 3ms/step - loss: 0.0816\n",
      "Epoch 372/500\n",
      "5/5 [==============================] - 0s 4ms/step - loss: 0.0808\n",
      "Epoch 373/500\n",
      "5/5 [==============================] - 0s 3ms/step - loss: 0.0860\n",
      "Epoch 374/500\n",
      "5/5 [==============================] - 0s 3ms/step - loss: 0.0877\n",
      "Epoch 375/500\n",
      "5/5 [==============================] - 0s 3ms/step - loss: 0.0827\n",
      "Epoch 376/500\n",
      "5/5 [==============================] - 0s 3ms/step - loss: 0.0806\n",
      "Epoch 377/500\n",
      "5/5 [==============================] - 0s 3ms/step - loss: 0.0830\n",
      "Epoch 378/500\n",
      "5/5 [==============================] - 0s 3ms/step - loss: 0.0895\n",
      "Epoch 379/500\n",
      "5/5 [==============================] - 0s 3ms/step - loss: 0.0928\n",
      "Epoch 380/500\n",
      "5/5 [==============================] - 0s 3ms/step - loss: 0.0903\n",
      "Epoch 381/500\n",
      "5/5 [==============================] - 0s 3ms/step - loss: 0.0901\n",
      "Epoch 382/500\n",
      "5/5 [==============================] - 0s 3ms/step - loss: 0.0905\n",
      "Epoch 383/500\n",
      "5/5 [==============================] - 0s 3ms/step - loss: 0.0913\n",
      "Epoch 384/500\n",
      "5/5 [==============================] - 0s 3ms/step - loss: 0.0924\n",
      "Epoch 385/500\n",
      "5/5 [==============================] - 0s 3ms/step - loss: 0.0965\n",
      "Epoch 386/500\n",
      "5/5 [==============================] - 0s 3ms/step - loss: 0.0862\n",
      "Epoch 387/500\n",
      "5/5 [==============================] - 0s 3ms/step - loss: 0.0874\n",
      "Epoch 388/500\n",
      "5/5 [==============================] - 0s 3ms/step - loss: 0.0901\n",
      "Epoch 389/500\n",
      "5/5 [==============================] - 0s 3ms/step - loss: 0.0908\n",
      "Epoch 390/500\n",
      "5/5 [==============================] - 0s 3ms/step - loss: 0.0837\n",
      "Epoch 391/500\n",
      "5/5 [==============================] - 0s 3ms/step - loss: 0.0832\n",
      "Epoch 392/500\n",
      "5/5 [==============================] - 0s 3ms/step - loss: 0.0877\n",
      "Epoch 393/500\n",
      "5/5 [==============================] - 0s 3ms/step - loss: 0.0857\n",
      "Epoch 394/500\n",
      "5/5 [==============================] - 0s 3ms/step - loss: 0.0866\n",
      "Epoch 395/500\n",
      "5/5 [==============================] - 0s 3ms/step - loss: 0.0833\n",
      "Epoch 396/500\n",
      "5/5 [==============================] - 0s 4ms/step - loss: 0.0837\n",
      "Epoch 397/500\n",
      "5/5 [==============================] - 0s 5ms/step - loss: 0.0823\n",
      "Epoch 398/500\n",
      "5/5 [==============================] - 0s 4ms/step - loss: 0.0844\n",
      "Epoch 399/500\n",
      "5/5 [==============================] - 0s 4ms/step - loss: 0.0873\n",
      "Epoch 400/500\n",
      "5/5 [==============================] - 0s 4ms/step - loss: 0.0929\n",
      "Epoch 401/500\n"
     ]
    },
    {
     "name": "stdout",
     "output_type": "stream",
     "text": [
      "5/5 [==============================] - 0s 5ms/step - loss: 0.0967\n",
      "Epoch 402/500\n",
      "5/5 [==============================] - 0s 4ms/step - loss: 0.1106\n",
      "Epoch 403/500\n",
      "5/5 [==============================] - 0s 5ms/step - loss: 0.1054\n",
      "Epoch 404/500\n",
      "5/5 [==============================] - 0s 4ms/step - loss: 0.0955\n",
      "Epoch 405/500\n",
      "5/5 [==============================] - 0s 3ms/step - loss: 0.0895\n",
      "Epoch 406/500\n",
      "5/5 [==============================] - 0s 4ms/step - loss: 0.0854\n",
      "Epoch 407/500\n",
      "5/5 [==============================] - 0s 5ms/step - loss: 0.0843\n",
      "Epoch 408/500\n",
      "5/5 [==============================] - 0s 4ms/step - loss: 0.0805\n",
      "Epoch 409/500\n",
      "5/5 [==============================] - 0s 4ms/step - loss: 0.0834\n",
      "Epoch 410/500\n",
      "5/5 [==============================] - 0s 4ms/step - loss: 0.0813\n",
      "Epoch 411/500\n",
      "5/5 [==============================] - 0s 4ms/step - loss: 0.0778\n",
      "Epoch 412/500\n",
      "5/5 [==============================] - 0s 4ms/step - loss: 0.0763\n",
      "Epoch 413/500\n",
      "5/5 [==============================] - 0s 5ms/step - loss: 0.0750\n",
      "Epoch 414/500\n",
      "5/5 [==============================] - 0s 5ms/step - loss: 0.0778\n",
      "Epoch 415/500\n",
      "5/5 [==============================] - 0s 5ms/step - loss: 0.0817\n",
      "Epoch 416/500\n",
      "5/5 [==============================] - 0s 5ms/step - loss: 0.0776\n",
      "Epoch 417/500\n",
      "5/5 [==============================] - 0s 6ms/step - loss: 0.0782\n",
      "Epoch 418/500\n",
      "5/5 [==============================] - 0s 6ms/step - loss: 0.0802\n",
      "Epoch 419/500\n",
      "5/5 [==============================] - 0s 4ms/step - loss: 0.0740\n",
      "Epoch 420/500\n",
      "5/5 [==============================] - 0s 5ms/step - loss: 0.0727\n",
      "Epoch 421/500\n",
      "5/5 [==============================] - 0s 5ms/step - loss: 0.0730\n",
      "Epoch 422/500\n",
      "5/5 [==============================] - 0s 5ms/step - loss: 0.0754\n",
      "Epoch 423/500\n",
      "5/5 [==============================] - 0s 5ms/step - loss: 0.0763\n",
      "Epoch 424/500\n",
      "5/5 [==============================] - 0s 5ms/step - loss: 0.0751\n",
      "Epoch 425/500\n",
      "5/5 [==============================] - 0s 4ms/step - loss: 0.0801\n",
      "Epoch 426/500\n",
      "5/5 [==============================] - 0s 4ms/step - loss: 0.0803\n",
      "Epoch 427/500\n",
      "5/5 [==============================] - 0s 6ms/step - loss: 0.0841\n",
      "Epoch 428/500\n",
      "5/5 [==============================] - 0s 6ms/step - loss: 0.0823\n",
      "Epoch 429/500\n",
      "5/5 [==============================] - 0s 4ms/step - loss: 0.0830\n",
      "Epoch 430/500\n",
      "5/5 [==============================] - 0s 6ms/step - loss: 0.0851\n",
      "Epoch 431/500\n",
      "5/5 [==============================] - 0s 6ms/step - loss: 0.0860\n",
      "Epoch 432/500\n",
      "5/5 [==============================] - 0s 8ms/step - loss: 0.0842\n",
      "Epoch 433/500\n",
      "5/5 [==============================] - 0s 4ms/step - loss: 0.0761\n",
      "Epoch 434/500\n",
      "5/5 [==============================] - 0s 4ms/step - loss: 0.0779\n",
      "Epoch 435/500\n",
      "5/5 [==============================] - 0s 5ms/step - loss: 0.0760\n",
      "Epoch 436/500\n",
      "5/5 [==============================] - 0s 4ms/step - loss: 0.0817\n",
      "Epoch 437/500\n",
      "5/5 [==============================] - 0s 4ms/step - loss: 0.0759\n",
      "Epoch 438/500\n",
      "5/5 [==============================] - 0s 4ms/step - loss: 0.0786\n",
      "Epoch 439/500\n",
      "5/5 [==============================] - 0s 3ms/step - loss: 0.0841\n",
      "Epoch 440/500\n",
      "5/5 [==============================] - 0s 3ms/step - loss: 0.0847\n",
      "Epoch 441/500\n",
      "5/5 [==============================] - 0s 3ms/step - loss: 0.0838\n",
      "Epoch 442/500\n",
      "5/5 [==============================] - 0s 4ms/step - loss: 0.0835\n",
      "Epoch 443/500\n",
      "5/5 [==============================] - 0s 3ms/step - loss: 0.0842\n",
      "Epoch 444/500\n",
      "5/5 [==============================] - 0s 3ms/step - loss: 0.0844\n",
      "Epoch 445/500\n",
      "5/5 [==============================] - 0s 3ms/step - loss: 0.0787\n",
      "Epoch 446/500\n",
      "5/5 [==============================] - 0s 3ms/step - loss: 0.0882\n",
      "Epoch 447/500\n",
      "5/5 [==============================] - 0s 3ms/step - loss: 0.0791\n",
      "Epoch 448/500\n",
      "5/5 [==============================] - 0s 3ms/step - loss: 0.0820\n",
      "Epoch 449/500\n",
      "5/5 [==============================] - 0s 3ms/step - loss: 0.0758\n",
      "Epoch 450/500\n",
      "5/5 [==============================] - 0s 3ms/step - loss: 0.0762\n",
      "Epoch 451/500\n",
      "5/5 [==============================] - 0s 3ms/step - loss: 0.0732\n",
      "Epoch 452/500\n",
      "5/5 [==============================] - 0s 3ms/step - loss: 0.0739\n",
      "Epoch 453/500\n",
      "5/5 [==============================] - 0s 3ms/step - loss: 0.0728\n",
      "Epoch 454/500\n",
      "5/5 [==============================] - 0s 3ms/step - loss: 0.0755\n",
      "Epoch 455/500\n",
      "5/5 [==============================] - 0s 3ms/step - loss: 0.0840\n",
      "Epoch 456/500\n",
      "5/5 [==============================] - 0s 3ms/step - loss: 0.0764\n",
      "Epoch 457/500\n",
      "5/5 [==============================] - 0s 3ms/step - loss: 0.0731\n",
      "Epoch 458/500\n",
      "5/5 [==============================] - 0s 3ms/step - loss: 0.0729\n",
      "Epoch 459/500\n",
      "5/5 [==============================] - 0s 3ms/step - loss: 0.0710\n",
      "Epoch 460/500\n",
      "5/5 [==============================] - 0s 4ms/step - loss: 0.0717\n",
      "Epoch 461/500\n",
      "5/5 [==============================] - 0s 3ms/step - loss: 0.0742\n",
      "Epoch 462/500\n",
      "5/5 [==============================] - 0s 3ms/step - loss: 0.0788\n",
      "Epoch 463/500\n",
      "5/5 [==============================] - 0s 3ms/step - loss: 0.0728\n",
      "Epoch 464/500\n",
      "5/5 [==============================] - 0s 4ms/step - loss: 0.0745\n",
      "Epoch 465/500\n",
      "5/5 [==============================] - 0s 4ms/step - loss: 0.0751\n",
      "Epoch 466/500\n",
      "5/5 [==============================] - 0s 3ms/step - loss: 0.0722\n",
      "Epoch 467/500\n",
      "5/5 [==============================] - 0s 3ms/step - loss: 0.0789\n",
      "Epoch 468/500\n",
      "5/5 [==============================] - 0s 3ms/step - loss: 0.0783\n",
      "Epoch 469/500\n",
      "5/5 [==============================] - 0s 3ms/step - loss: 0.0857\n",
      "Epoch 470/500\n",
      "5/5 [==============================] - 0s 4ms/step - loss: 0.0786\n",
      "Epoch 471/500\n",
      "5/5 [==============================] - 0s 3ms/step - loss: 0.0796\n",
      "Epoch 472/500\n",
      "5/5 [==============================] - 0s 3ms/step - loss: 0.0781\n",
      "Epoch 473/500\n",
      "5/5 [==============================] - 0s 3ms/step - loss: 0.0717\n",
      "Epoch 474/500\n",
      "5/5 [==============================] - 0s 3ms/step - loss: 0.0724\n",
      "Epoch 475/500\n",
      "5/5 [==============================] - 0s 3ms/step - loss: 0.0790\n",
      "Epoch 476/500\n",
      "5/5 [==============================] - 0s 3ms/step - loss: 0.0842\n",
      "Epoch 477/500\n",
      "5/5 [==============================] - 0s 3ms/step - loss: 0.0956\n",
      "Epoch 478/500\n",
      "5/5 [==============================] - 0s 3ms/step - loss: 0.0886\n",
      "Epoch 479/500\n",
      "5/5 [==============================] - 0s 3ms/step - loss: 0.0919\n",
      "Epoch 480/500\n",
      "5/5 [==============================] - 0s 3ms/step - loss: 0.0932\n",
      "Epoch 481/500\n",
      "5/5 [==============================] - 0s 4ms/step - loss: 0.0846\n",
      "Epoch 482/500\n",
      "5/5 [==============================] - 0s 3ms/step - loss: 0.0768\n",
      "Epoch 483/500\n",
      "5/5 [==============================] - 0s 3ms/step - loss: 0.0809\n",
      "Epoch 484/500\n",
      "5/5 [==============================] - 0s 3ms/step - loss: 0.0815\n",
      "Epoch 485/500\n",
      "5/5 [==============================] - 0s 4ms/step - loss: 0.0842\n",
      "Epoch 486/500\n",
      "5/5 [==============================] - 0s 3ms/step - loss: 0.0828\n",
      "Epoch 487/500\n",
      "5/5 [==============================] - 0s 3ms/step - loss: 0.0801\n",
      "Epoch 488/500\n",
      "5/5 [==============================] - 0s 4ms/step - loss: 0.0732\n",
      "Epoch 489/500\n",
      "5/5 [==============================] - 0s 4ms/step - loss: 0.0710\n",
      "Epoch 490/500\n",
      "5/5 [==============================] - 0s 4ms/step - loss: 0.0718\n",
      "Epoch 491/500\n",
      "5/5 [==============================] - 0s 3ms/step - loss: 0.0715\n",
      "Epoch 492/500\n",
      "5/5 [==============================] - 0s 3ms/step - loss: 0.0726\n",
      "Epoch 493/500\n",
      "5/5 [==============================] - 0s 4ms/step - loss: 0.0724\n",
      "Epoch 494/500\n",
      "5/5 [==============================] - 0s 3ms/step - loss: 0.0726\n",
      "Epoch 495/500\n",
      "5/5 [==============================] - 0s 3ms/step - loss: 0.0716\n",
      "Epoch 496/500\n",
      "5/5 [==============================] - 0s 3ms/step - loss: 0.0683\n",
      "Epoch 497/500\n",
      "5/5 [==============================] - 0s 3ms/step - loss: 0.0717\n",
      "Epoch 498/500\n",
      "5/5 [==============================] - 0s 3ms/step - loss: 0.0670\n",
      "Epoch 499/500\n",
      "5/5 [==============================] - 0s 3ms/step - loss: 0.0672\n",
      "Epoch 500/500\n",
      "5/5 [==============================] - 0s 3ms/step - loss: 0.0669\n"
     ]
    }
   ],
   "source": [
    "model = build_model(200)\n",
    "model.fit(x = X, y = y,\n",
    "          batch_size=200,epochs=500)\n",
    "y_pred = model.predict(testing_dataset)"
   ]
  },
  {
   "cell_type": "code",
   "execution_count": 1370,
   "metadata": {},
   "outputs": [
    {
     "name": "stdout",
     "output_type": "stream",
     "text": [
      "MAE: 0.23822549496149048\n",
      "MSE: 0.1278123061444633\n",
      "RMSE: 0.3575084700317788\n",
      "VarScore: 0.4482772317140298\n"
     ]
    }
   ],
   "source": [
    "print('MAE:', metrics.mean_absolute_error(y_test, y_pred))  \n",
    "print('MSE:', metrics.mean_squared_error(y_test, y_pred))  \n",
    "print('RMSE:', np.sqrt(metrics.mean_squared_error(y_test, y_pred)))\n",
    "print('VarScore:',metrics.explained_variance_score(y_test,y_pred))"
   ]
  },
  {
   "cell_type": "code",
   "execution_count": 1371,
   "metadata": {},
   "outputs": [],
   "source": [
    "MAE.append(metrics.mean_absolute_error(y_test, y_pred))\n",
    "MSE.append(metrics.mean_squared_error(y_test, y_pred))\n",
    "RMSE.append(np.sqrt(metrics.mean_squared_error(y_test, y_pred)))\n",
    "Var.append(metrics.explained_variance_score(y_test,y_pred))"
   ]
  },
  {
   "cell_type": "markdown",
   "metadata": {},
   "source": [
    "# Support vector Machine "
   ]
  },
  {
   "cell_type": "code",
   "execution_count": 1372,
   "metadata": {},
   "outputs": [],
   "source": [
    "from sklearn import svm"
   ]
  },
  {
   "cell_type": "code",
   "execution_count": 1373,
   "metadata": {},
   "outputs": [
    {
     "name": "stderr",
     "output_type": "stream",
     "text": [
      "C:\\Users\\Supernova\\anaconda3\\lib\\site-packages\\sklearn\\svm\\_base.py:976: ConvergenceWarning: Liblinear failed to converge, increase the number of iterations.\n",
      "  warnings.warn(\"Liblinear failed to converge, increase \"\n"
     ]
    }
   ],
   "source": [
    "linear_svc = svm.LinearSVC()\n",
    "linear_svc.fit(X, y)\n",
    "y_pred = linear_svc.predict(testing_dataset)"
   ]
  },
  {
   "cell_type": "code",
   "execution_count": 1374,
   "metadata": {},
   "outputs": [
    {
     "name": "stdout",
     "output_type": "stream",
     "text": [
      "MAE: 0.13875598086124402\n",
      "MSE: 0.13875598086124402\n",
      "RMSE: 0.37249963873974967\n",
      "VarScore: 0.4039374752671153\n"
     ]
    }
   ],
   "source": [
    "print('MAE:', metrics.mean_absolute_error(y_test, y_pred))  \n",
    "print('MSE:', metrics.mean_squared_error(y_test, y_pred))  \n",
    "print('RMSE:', np.sqrt(metrics.mean_squared_error(y_test, y_pred)))\n",
    "print('VarScore:',metrics.explained_variance_score(y_test,y_pred))"
   ]
  },
  {
   "cell_type": "code",
   "execution_count": 1375,
   "metadata": {},
   "outputs": [],
   "source": [
    "MAE.append(metrics.mean_absolute_error(y_test, y_pred))\n",
    "MSE.append(metrics.mean_squared_error(y_test, y_pred))\n",
    "RMSE.append(np.sqrt(metrics.mean_squared_error(y_test, y_pred)))\n",
    "Var.append(metrics.explained_variance_score(y_test,y_pred))"
   ]
  },
  {
   "cell_type": "markdown",
   "metadata": {},
   "source": [
    "# Random Forest"
   ]
  },
  {
   "cell_type": "code",
   "execution_count": 1379,
   "metadata": {},
   "outputs": [],
   "source": [
    "from sklearn.tree import DecisionTreeRegressor"
   ]
  },
  {
   "cell_type": "code",
   "execution_count": 1380,
   "metadata": {},
   "outputs": [],
   "source": [
    "forest = DecisionTreeRegressor(random_state=1)\n",
    "forest.fit(X,y)\n",
    "y_pred = forest.predict(testing_dataset)"
   ]
  },
  {
   "cell_type": "code",
   "execution_count": 1381,
   "metadata": {},
   "outputs": [
    {
     "name": "stdout",
     "output_type": "stream",
     "text": [
      "MAE: 0.27661483253588515\n",
      "MSE: 0.2725154505582137\n",
      "RMSE: 0.5220301241865394\n",
      "VarScore: -0.14310691923064267\n"
     ]
    }
   ],
   "source": [
    "print('MAE:', metrics.mean_absolute_error(y_test, y_pred))  \n",
    "print('MSE:', metrics.mean_squared_error(y_test, y_pred))  \n",
    "print('RMSE:', np.sqrt(metrics.mean_squared_error(y_test, y_pred)))\n",
    "print('VarScore:',metrics.explained_variance_score(y_test,y_pred))"
   ]
  },
  {
   "cell_type": "code",
   "execution_count": 1382,
   "metadata": {},
   "outputs": [],
   "source": [
    "MAE.append(metrics.mean_absolute_error(y_test, y_pred))\n",
    "MSE.append(metrics.mean_squared_error(y_test, y_pred))\n",
    "RMSE.append(np.sqrt(metrics.mean_squared_error(y_test, y_pred)))\n",
    "Var.append(metrics.explained_variance_score(y_test,y_pred))"
   ]
  },
  {
   "cell_type": "markdown",
   "metadata": {},
   "source": [
    "# DashBoard"
   ]
  },
  {
   "cell_type": "code",
   "execution_count": 1385,
   "metadata": {},
   "outputs": [],
   "source": [
    "Dict = {'models' : [\"Logstic Regression\", \"K neighbor classifier \",\"Neural Network\",\"Support Vector Machine\", \"Random Forest\"],\n",
    "       \"MAE\" : MAE,\n",
    "       \"MSE\": MSE,\n",
    "       \"RMSE\": RMSE,\n",
    "       \"VarScore\":Var}\n",
    "data = pd.DataFrame(Dict)"
   ]
  },
  {
   "cell_type": "code",
   "execution_count": 1386,
   "metadata": {},
   "outputs": [
    {
     "data": {
      "text/html": [
       "<div>\n",
       "<style scoped>\n",
       "    .dataframe tbody tr th:only-of-type {\n",
       "        vertical-align: middle;\n",
       "    }\n",
       "\n",
       "    .dataframe tbody tr th {\n",
       "        vertical-align: top;\n",
       "    }\n",
       "\n",
       "    .dataframe thead th {\n",
       "        text-align: right;\n",
       "    }\n",
       "</style>\n",
       "<table border=\"1\" class=\"dataframe\">\n",
       "  <thead>\n",
       "    <tr style=\"text-align: right;\">\n",
       "      <th></th>\n",
       "      <th>models</th>\n",
       "      <th>MAE</th>\n",
       "      <th>MSE</th>\n",
       "      <th>RMSE</th>\n",
       "      <th>VarScore</th>\n",
       "    </tr>\n",
       "  </thead>\n",
       "  <tbody>\n",
       "    <tr>\n",
       "      <th>0</th>\n",
       "      <td>Logstic Regression</td>\n",
       "      <td>0.059809</td>\n",
       "      <td>0.059809</td>\n",
       "      <td>0.244558</td>\n",
       "      <td>0.741566</td>\n",
       "    </tr>\n",
       "    <tr>\n",
       "      <th>1</th>\n",
       "      <td>K neighbor classifier</td>\n",
       "      <td>0.354067</td>\n",
       "      <td>0.354067</td>\n",
       "      <td>0.595035</td>\n",
       "      <td>-0.504749</td>\n",
       "    </tr>\n",
       "    <tr>\n",
       "      <th>2</th>\n",
       "      <td>Neural Network</td>\n",
       "      <td>0.238225</td>\n",
       "      <td>0.127812</td>\n",
       "      <td>0.357508</td>\n",
       "      <td>0.448277</td>\n",
       "    </tr>\n",
       "    <tr>\n",
       "      <th>3</th>\n",
       "      <td>Support Vector Machine</td>\n",
       "      <td>0.138756</td>\n",
       "      <td>0.138756</td>\n",
       "      <td>0.372500</td>\n",
       "      <td>0.403937</td>\n",
       "    </tr>\n",
       "    <tr>\n",
       "      <th>4</th>\n",
       "      <td>Random Forest</td>\n",
       "      <td>0.276615</td>\n",
       "      <td>0.272515</td>\n",
       "      <td>0.522030</td>\n",
       "      <td>-0.143107</td>\n",
       "    </tr>\n",
       "  </tbody>\n",
       "</table>\n",
       "</div>"
      ],
      "text/plain": [
       "                   models       MAE       MSE      RMSE  VarScore\n",
       "0      Logstic Regression  0.059809  0.059809  0.244558  0.741566\n",
       "1  K neighbor classifier   0.354067  0.354067  0.595035 -0.504749\n",
       "2          Neural Network  0.238225  0.127812  0.357508  0.448277\n",
       "3  Support Vector Machine  0.138756  0.138756  0.372500  0.403937\n",
       "4           Random Forest  0.276615  0.272515  0.522030 -0.143107"
      ]
     },
     "execution_count": 1386,
     "metadata": {},
     "output_type": "execute_result"
    }
   ],
   "source": [
    "data"
   ]
  },
  {
   "cell_type": "code",
   "execution_count": null,
   "metadata": {},
   "outputs": [],
   "source": []
  }
 ],
 "metadata": {
  "kernelspec": {
   "display_name": "Python 3",
   "language": "python",
   "name": "python3"
  },
  "language_info": {
   "codemirror_mode": {
    "name": "ipython",
    "version": 3
   },
   "file_extension": ".py",
   "mimetype": "text/x-python",
   "name": "python",
   "nbconvert_exporter": "python",
   "pygments_lexer": "ipython3",
   "version": "3.8.3"
  }
 },
 "nbformat": 4,
 "nbformat_minor": 4
}
